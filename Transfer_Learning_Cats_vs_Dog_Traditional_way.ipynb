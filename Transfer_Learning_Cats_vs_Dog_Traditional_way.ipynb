{
  "nbformat": 4,
  "nbformat_minor": 0,
  "metadata": {
    "colab": {
      "provenance": [],
      "collapsed_sections": []
    },
    "kernelspec": {
      "name": "python3",
      "display_name": "Python 3"
    },
    "language_info": {
      "name": "python"
    },
    "accelerator": "GPU",
    "gpuClass": "standard"
  },
  "cells": [
    {
      "cell_type": "code",
      "execution_count": null,
      "metadata": {
        "id": "EsRtcsyn116h"
      },
      "outputs": [],
      "source": [
        "# Configuring the path of kaggle file\n",
        "!mkdir -p ~/.kaggle\n",
        "!cp kaggle.json ~/.kaggle/\n",
        "!chmod 600 ~/.kaggle/kaggle.json"
      ]
    },
    {
      "cell_type": "code",
      "source": [
        "!kaggle competitions download -c dogs-vs-cats"
      ],
      "metadata": {
        "colab": {
          "base_uri": "https://localhost:8080/"
        },
        "id": "mblnCYl_4S6A",
        "outputId": "ec059728-10d6-4228-faeb-41a14a1325a8"
      },
      "execution_count": null,
      "outputs": [
        {
          "output_type": "stream",
          "name": "stdout",
          "text": [
            "Downloading dogs-vs-cats.zip to /content\n",
            " 97% 786M/812M [00:17<00:00, 40.3MB/s]\n",
            "100% 812M/812M [00:17<00:00, 48.2MB/s]\n"
          ]
        }
      ]
    },
    {
      "cell_type": "code",
      "source": [
        "import zipfile\n",
        "zip_ref = zipfile.ZipFile('/content/dogs-vs-cats.zip', 'r')\n",
        "zip_ref.extractall('/content')\n",
        "zip_ref.close()"
      ],
      "metadata": {
        "id": "dnte0HiY4UnY"
      },
      "execution_count": null,
      "outputs": []
    },
    {
      "cell_type": "code",
      "source": [
        "import cv2\n",
        "import os\n",
        "import random\n",
        "import numpy as np\n",
        "import matplotlib.pyplot as plt\n",
        "\n",
        "from tensorflow import keras\n",
        "from keras.models import Sequential\n",
        "from keras.layers import Dense,Conv2D,MaxPooling2D,Flatten"
      ],
      "metadata": {
        "id": "pyMVaRcj4bPh"
      },
      "execution_count": null,
      "outputs": []
    },
    {
      "cell_type": "code",
      "source": [
        "dir = \"/content/dogscats/train\"\n",
        "categories = ['cats',\"dogs\"]"
      ],
      "metadata": {
        "id": "fFhMbXk4987q"
      },
      "execution_count": null,
      "outputs": []
    },
    {
      "cell_type": "code",
      "source": [
        "for i in categories:\n",
        "  folder = os.path.join(dir,i)\n",
        "  print(folder)"
      ],
      "metadata": {
        "colab": {
          "base_uri": "https://localhost:8080/"
        },
        "id": "ru9KK1Er-HW0",
        "outputId": "ff5962a8-5e9e-4398-96fe-63d0d8274cb9"
      },
      "execution_count": null,
      "outputs": [
        {
          "output_type": "stream",
          "name": "stdout",
          "text": [
            "/content/dogscats/train/cats\n",
            "/content/dogscats/train/dogs\n"
          ]
        }
      ]
    },
    {
      "cell_type": "code",
      "source": [
        "# for i in categories:\n",
        "#   folder = os.path.join(dir,i)\n",
        "#   for img in os.listdir(folder):\n",
        "#     img_path = os.path.join(folder,img)\n",
        "#     print(img_path)\n",
        "#     break"
      ],
      "metadata": {
        "id": "ayRbkW-c-nY1"
      },
      "execution_count": null,
      "outputs": []
    },
    {
      "cell_type": "code",
      "source": [
        "# for i in categories:\n",
        "#   folder = os.path.join(dir,i)\n",
        "#   for img in os.listdir(folder):\n",
        "#     img_path = os.path.join(folder,img)\n",
        "#     img_arr = cv2.imread(img_path)\n",
        "#     plt.imshow(img_arr)\n",
        "#     break"
      ],
      "metadata": {
        "id": "3PLZTJM5_zG9"
      },
      "execution_count": null,
      "outputs": []
    },
    {
      "cell_type": "code",
      "source": [
        "# for i in categories:\n",
        "#   folder = os.path.join(dir,i)\n",
        "#   for img in os.listdir(folder):\n",
        "#     img_path = os.path.join(folder,img)\n",
        "#     img_arr = cv2.imread(img_path)\n",
        "#     img_arr =cv2.resize(img_arr,(100,100))\n",
        "#     plt.imshow(img_arr)\n",
        "#     break"
      ],
      "metadata": {
        "id": "7HWoHlB7-9Kh"
      },
      "execution_count": null,
      "outputs": []
    },
    {
      "cell_type": "code",
      "source": [
        "data = []\n",
        "for i in categories:\n",
        "  folder = os.path.join(dir,i)\n",
        "  label = categories.index(i)\n",
        "  for img in os.listdir(folder):\n",
        "    img_path = os.path.join(folder,img)\n",
        "    img_arr = cv2.imread(img_path)\n",
        "    img_arr =cv2.resize(img_arr,(100,100))\n",
        "    data.append([img_arr,label])"
      ],
      "metadata": {
        "id": "uQTLm_oI_G3C"
      },
      "execution_count": null,
      "outputs": []
    },
    {
      "cell_type": "code",
      "source": [
        "len(data)"
      ],
      "metadata": {
        "colab": {
          "base_uri": "https://localhost:8080/"
        },
        "id": "ot50atFBAgWo",
        "outputId": "adf704d6-8a00-4934-9fc9-4f70928a095d"
      },
      "execution_count": null,
      "outputs": [
        {
          "output_type": "execute_result",
          "data": {
            "text/plain": [
              "23000"
            ]
          },
          "metadata": {},
          "execution_count": 36
        }
      ]
    },
    {
      "cell_type": "code",
      "source": [
        "random.shuffle(data)"
      ],
      "metadata": {
        "id": "oBembwYtA1G0"
      },
      "execution_count": null,
      "outputs": []
    },
    {
      "cell_type": "code",
      "source": [
        "data[0]"
      ],
      "metadata": {
        "colab": {
          "base_uri": "https://localhost:8080/"
        },
        "id": "_J_rAZ6DA496",
        "outputId": "3f1ac9a2-755a-4dc2-b5de-ba59ee6c0c76"
      },
      "execution_count": null,
      "outputs": [
        {
          "output_type": "execute_result",
          "data": {
            "text/plain": [
              "[array([[[118, 176, 152],\n",
              "         [102, 170, 145],\n",
              "         [ 94, 184, 155],\n",
              "         ...,\n",
              "         [229, 253, 251],\n",
              "         [168, 207, 192],\n",
              "         [113, 188, 160]],\n",
              " \n",
              "        [[164, 205, 184],\n",
              "         [150, 199, 177],\n",
              "         [112, 185, 159],\n",
              "         ...,\n",
              "         [252, 250, 255],\n",
              "         [171, 206, 195],\n",
              "         [ 77, 173, 143]],\n",
              " \n",
              "        [[167, 204, 184],\n",
              "         [161, 207, 185],\n",
              "         [118, 186, 161],\n",
              "         ...,\n",
              "         [209, 233, 239],\n",
              "         [163, 196, 189],\n",
              "         [135, 200, 179]],\n",
              " \n",
              "        ...,\n",
              " \n",
              "        [[  0,  36,   4],\n",
              "         [  8,  28,   5],\n",
              "         [  8,  40,   9],\n",
              "         ...,\n",
              "         [ 23,  91,  50],\n",
              "         [ 12,  91,  64],\n",
              "         [ 19, 111,  64]],\n",
              " \n",
              "        [[  0,  33,   1],\n",
              "         [  5,  31,   7],\n",
              "         [  0,  38,   6],\n",
              "         ...,\n",
              "         [  4,  62,  27],\n",
              "         [ 48, 114,  95],\n",
              "         [  0,  76,  34]],\n",
              " \n",
              "        [[ 50, 101,  67],\n",
              "         [  0,  32,   6],\n",
              "         [  0,  33,   2],\n",
              "         ...,\n",
              "         [  0,  46,   3],\n",
              "         [  0,  50,  12],\n",
              "         [ 22,  57,  30]]], dtype=uint8), 0]"
            ]
          },
          "metadata": {},
          "execution_count": 38
        }
      ]
    },
    {
      "cell_type": "code",
      "source": [
        "X = []\n",
        "y = []"
      ],
      "metadata": {
        "id": "TfgZ9UiIA6Wi"
      },
      "execution_count": null,
      "outputs": []
    },
    {
      "cell_type": "code",
      "source": [
        "for features,label in data:\n",
        "  X.append(features)\n",
        "  y.append(label)"
      ],
      "metadata": {
        "id": "1ejjhkjUA9eL"
      },
      "execution_count": null,
      "outputs": []
    },
    {
      "cell_type": "code",
      "source": [
        "X = np.array(X)\n",
        "y = np.array(y)"
      ],
      "metadata": {
        "id": "PMli98n1BM3Z"
      },
      "execution_count": null,
      "outputs": []
    },
    {
      "cell_type": "code",
      "source": [
        "len(X),len(y)"
      ],
      "metadata": {
        "colab": {
          "base_uri": "https://localhost:8080/"
        },
        "id": "OFt2p8gMBSRx",
        "outputId": "372796e0-dd7e-4557-a423-475e4a8bd0cb"
      },
      "execution_count": null,
      "outputs": [
        {
          "output_type": "execute_result",
          "data": {
            "text/plain": [
              "(23000, 23000)"
            ]
          },
          "metadata": {},
          "execution_count": 42
        }
      ]
    },
    {
      "cell_type": "code",
      "source": [
        "X[0:2]"
      ],
      "metadata": {
        "colab": {
          "base_uri": "https://localhost:8080/"
        },
        "id": "x7cHtAXnBXFT",
        "outputId": "fdbe9131-5005-458a-dc92-fdbe40197dc3"
      },
      "execution_count": null,
      "outputs": [
        {
          "output_type": "execute_result",
          "data": {
            "text/plain": [
              "array([[[[118, 176, 152],\n",
              "         [102, 170, 145],\n",
              "         [ 94, 184, 155],\n",
              "         ...,\n",
              "         [229, 253, 251],\n",
              "         [168, 207, 192],\n",
              "         [113, 188, 160]],\n",
              "\n",
              "        [[164, 205, 184],\n",
              "         [150, 199, 177],\n",
              "         [112, 185, 159],\n",
              "         ...,\n",
              "         [252, 250, 255],\n",
              "         [171, 206, 195],\n",
              "         [ 77, 173, 143]],\n",
              "\n",
              "        [[167, 204, 184],\n",
              "         [161, 207, 185],\n",
              "         [118, 186, 161],\n",
              "         ...,\n",
              "         [209, 233, 239],\n",
              "         [163, 196, 189],\n",
              "         [135, 200, 179]],\n",
              "\n",
              "        ...,\n",
              "\n",
              "        [[  0,  36,   4],\n",
              "         [  8,  28,   5],\n",
              "         [  8,  40,   9],\n",
              "         ...,\n",
              "         [ 23,  91,  50],\n",
              "         [ 12,  91,  64],\n",
              "         [ 19, 111,  64]],\n",
              "\n",
              "        [[  0,  33,   1],\n",
              "         [  5,  31,   7],\n",
              "         [  0,  38,   6],\n",
              "         ...,\n",
              "         [  4,  62,  27],\n",
              "         [ 48, 114,  95],\n",
              "         [  0,  76,  34]],\n",
              "\n",
              "        [[ 50, 101,  67],\n",
              "         [  0,  32,   6],\n",
              "         [  0,  33,   2],\n",
              "         ...,\n",
              "         [  0,  46,   3],\n",
              "         [  0,  50,  12],\n",
              "         [ 22,  57,  30]]],\n",
              "\n",
              "\n",
              "       [[[ 92, 108, 115],\n",
              "         [ 92, 108, 115],\n",
              "         [ 93, 109, 116],\n",
              "         ...,\n",
              "         [194, 203, 203],\n",
              "         [201, 213, 213],\n",
              "         [209, 221, 221]],\n",
              "\n",
              "        [[ 93, 107, 115],\n",
              "         [ 93, 107, 115],\n",
              "         [ 96, 110, 118],\n",
              "         ...,\n",
              "         [177, 189, 189],\n",
              "         [190, 203, 202],\n",
              "         [196, 209, 209]],\n",
              "\n",
              "        [[ 98, 108, 116],\n",
              "         [100, 109, 118],\n",
              "         [100, 110, 118],\n",
              "         ...,\n",
              "         [121, 125, 126],\n",
              "         [121, 124, 125],\n",
              "         [130, 133, 134]],\n",
              "\n",
              "        ...,\n",
              "\n",
              "        [[ 27,  28,  26],\n",
              "         [ 26,  27,  25],\n",
              "         [ 23,  24,  22],\n",
              "         ...,\n",
              "         [ 50,  27,   9],\n",
              "         [ 48,  32,  18],\n",
              "         [ 46,  34,  22]],\n",
              "\n",
              "        [[ 23,  24,  22],\n",
              "         [ 22,  23,  21],\n",
              "         [ 20,  21,  19],\n",
              "         ...,\n",
              "         [ 78,  63,  50],\n",
              "         [ 95,  82,  70],\n",
              "         [ 68,  56,  44]],\n",
              "\n",
              "        [[ 17,  18,  14],\n",
              "         [ 16,  16,  16],\n",
              "         [ 17,  17,  14],\n",
              "         ...,\n",
              "         [ 47,  27,  12],\n",
              "         [ 59,  41,  25],\n",
              "         [ 55,  36,  18]]]], dtype=uint8)"
            ]
          },
          "metadata": {},
          "execution_count": 43
        }
      ]
    },
    {
      "cell_type": "code",
      "source": [
        "y[0:2]"
      ],
      "metadata": {
        "colab": {
          "base_uri": "https://localhost:8080/"
        },
        "id": "hllXRRXmCWEv",
        "outputId": "e82254c2-ffa2-42f7-caa9-5645149523e9"
      },
      "execution_count": null,
      "outputs": [
        {
          "output_type": "execute_result",
          "data": {
            "text/plain": [
              "array([0, 1])"
            ]
          },
          "metadata": {},
          "execution_count": 44
        }
      ]
    },
    {
      "cell_type": "code",
      "source": [
        "from sklearn.model_selection import train_test_split"
      ],
      "metadata": {
        "id": "HyVW2k89Hnp_"
      },
      "execution_count": null,
      "outputs": []
    },
    {
      "cell_type": "code",
      "source": [
        "X_train,X_test,y_train,y_test = train_test_split(X,y,test_size=0.2,random_state=2)"
      ],
      "metadata": {
        "id": "Jt0Zv2ZaHxTg"
      },
      "execution_count": null,
      "outputs": []
    },
    {
      "cell_type": "code",
      "source": [
        "X_train = X_train/255\n",
        "X_test = X_test/255"
      ],
      "metadata": {
        "id": "r0e1BINQCiSk"
      },
      "execution_count": null,
      "outputs": []
    },
    {
      "cell_type": "code",
      "source": [
        "X_train.shape,X_test.shape"
      ],
      "metadata": {
        "colab": {
          "base_uri": "https://localhost:8080/"
        },
        "id": "WkiBwtQnCv6D",
        "outputId": "aded434c-dbb9-452f-caed-59ef86f7af9d"
      },
      "execution_count": null,
      "outputs": [
        {
          "output_type": "execute_result",
          "data": {
            "text/plain": [
              "((18400, 100, 100, 3), (4600, 100, 100, 3))"
            ]
          },
          "metadata": {},
          "execution_count": 48
        }
      ]
    },
    {
      "cell_type": "code",
      "source": [
        "from keras.applications.vgg16 import VGG16"
      ],
      "metadata": {
        "id": "_IdklKypmA4A"
      },
      "execution_count": null,
      "outputs": []
    },
    {
      "cell_type": "code",
      "source": [
        "vgg16 = VGG16()"
      ],
      "metadata": {
        "id": "2FAXS-KzmA8h"
      },
      "execution_count": null,
      "outputs": []
    },
    {
      "cell_type": "code",
      "source": [
        "vgg16.summary()"
      ],
      "metadata": {
        "colab": {
          "base_uri": "https://localhost:8080/"
        },
        "id": "S-P7uR_4mA_o",
        "outputId": "b4f3efbe-3a1f-48e8-bd8a-64fc5fa10454"
      },
      "execution_count": null,
      "outputs": [
        {
          "output_type": "stream",
          "name": "stdout",
          "text": [
            "Model: \"vgg16\"\n",
            "_________________________________________________________________\n",
            " Layer (type)                Output Shape              Param #   \n",
            "=================================================================\n",
            " input_2 (InputLayer)        [(None, 224, 224, 3)]     0         \n",
            "                                                                 \n",
            " block1_conv1 (Conv2D)       (None, 224, 224, 64)      1792      \n",
            "                                                                 \n",
            " block1_conv2 (Conv2D)       (None, 224, 224, 64)      36928     \n",
            "                                                                 \n",
            " block1_pool (MaxPooling2D)  (None, 112, 112, 64)      0         \n",
            "                                                                 \n",
            " block2_conv1 (Conv2D)       (None, 112, 112, 128)     73856     \n",
            "                                                                 \n",
            " block2_conv2 (Conv2D)       (None, 112, 112, 128)     147584    \n",
            "                                                                 \n",
            " block2_pool (MaxPooling2D)  (None, 56, 56, 128)       0         \n",
            "                                                                 \n",
            " block3_conv1 (Conv2D)       (None, 56, 56, 256)       295168    \n",
            "                                                                 \n",
            " block3_conv2 (Conv2D)       (None, 56, 56, 256)       590080    \n",
            "                                                                 \n",
            " block3_conv3 (Conv2D)       (None, 56, 56, 256)       590080    \n",
            "                                                                 \n",
            " block3_pool (MaxPooling2D)  (None, 28, 28, 256)       0         \n",
            "                                                                 \n",
            " block4_conv1 (Conv2D)       (None, 28, 28, 512)       1180160   \n",
            "                                                                 \n",
            " block4_conv2 (Conv2D)       (None, 28, 28, 512)       2359808   \n",
            "                                                                 \n",
            " block4_conv3 (Conv2D)       (None, 28, 28, 512)       2359808   \n",
            "                                                                 \n",
            " block4_pool (MaxPooling2D)  (None, 14, 14, 512)       0         \n",
            "                                                                 \n",
            " block5_conv1 (Conv2D)       (None, 14, 14, 512)       2359808   \n",
            "                                                                 \n",
            " block5_conv2 (Conv2D)       (None, 14, 14, 512)       2359808   \n",
            "                                                                 \n",
            " block5_conv3 (Conv2D)       (None, 14, 14, 512)       2359808   \n",
            "                                                                 \n",
            " block5_pool (MaxPooling2D)  (None, 7, 7, 512)         0         \n",
            "                                                                 \n",
            " flatten (Flatten)           (None, 25088)             0         \n",
            "                                                                 \n",
            " fc1 (Dense)                 (None, 4096)              102764544 \n",
            "                                                                 \n",
            " fc2 (Dense)                 (None, 4096)              16781312  \n",
            "                                                                 \n",
            " predictions (Dense)         (None, 1000)              4097000   \n",
            "                                                                 \n",
            "=================================================================\n",
            "Total params: 138,357,544\n",
            "Trainable params: 138,357,544\n",
            "Non-trainable params: 0\n",
            "_________________________________________________________________\n"
          ]
        }
      ]
    },
    {
      "cell_type": "code",
      "source": [
        "type(vgg16)"
      ],
      "metadata": {
        "colab": {
          "base_uri": "https://localhost:8080/"
        },
        "id": "jyRXiBFkmBC0",
        "outputId": "26ed8170-645d-40f7-9d65-61050d76513d"
      },
      "execution_count": null,
      "outputs": [
        {
          "output_type": "execute_result",
          "data": {
            "text/plain": [
              "keras.engine.functional.Functional"
            ]
          },
          "metadata": {},
          "execution_count": 52
        }
      ]
    },
    {
      "cell_type": "code",
      "source": [
        "for layer in vgg16.layers:\n",
        "  print(layer)"
      ],
      "metadata": {
        "colab": {
          "base_uri": "https://localhost:8080/"
        },
        "id": "f296hrswmVtk",
        "outputId": "3fa04736-ca4f-4f64-dac4-a064da573d2b"
      },
      "execution_count": null,
      "outputs": [
        {
          "output_type": "stream",
          "name": "stdout",
          "text": [
            "<keras.engine.input_layer.InputLayer object at 0x7fb45f6617d0>\n",
            "<keras.layers.convolutional.conv2d.Conv2D object at 0x7fb45f661e50>\n",
            "<keras.layers.convolutional.conv2d.Conv2D object at 0x7fb45f76a4d0>\n",
            "<keras.layers.pooling.max_pooling2d.MaxPooling2D object at 0x7fb50a244c10>\n",
            "<keras.layers.convolutional.conv2d.Conv2D object at 0x7fb45f5dcdd0>\n",
            "<keras.layers.convolutional.conv2d.Conv2D object at 0x7fb4f408fd10>\n",
            "<keras.layers.pooling.max_pooling2d.MaxPooling2D object at 0x7fb45f5e9c10>\n",
            "<keras.layers.convolutional.conv2d.Conv2D object at 0x7fb45f5e6810>\n",
            "<keras.layers.convolutional.conv2d.Conv2D object at 0x7fb45f5e6b10>\n",
            "<keras.layers.convolutional.conv2d.Conv2D object at 0x7fb45f5e1750>\n",
            "<keras.layers.pooling.max_pooling2d.MaxPooling2D object at 0x7fb45f603290>\n",
            "<keras.layers.convolutional.conv2d.Conv2D object at 0x7fb45f6034d0>\n",
            "<keras.layers.convolutional.conv2d.Conv2D object at 0x7fb45f5f9b50>\n",
            "<keras.layers.convolutional.conv2d.Conv2D object at 0x7fb45f609550>\n",
            "<keras.layers.pooling.max_pooling2d.MaxPooling2D object at 0x7fb45f593090>\n",
            "<keras.layers.convolutional.conv2d.Conv2D object at 0x7fb45f60c4d0>\n",
            "<keras.layers.convolutional.conv2d.Conv2D object at 0x7fb45f60c210>\n",
            "<keras.layers.convolutional.conv2d.Conv2D object at 0x7fb45f598b90>\n",
            "<keras.layers.pooling.max_pooling2d.MaxPooling2D object at 0x7fb45f5988d0>\n",
            "<keras.layers.reshaping.flatten.Flatten object at 0x7fb45f609990>\n",
            "<keras.layers.core.dense.Dense object at 0x7fb45f5e6e10>\n",
            "<keras.layers.core.dense.Dense object at 0x7fb45f5b2710>\n",
            "<keras.layers.core.dense.Dense object at 0x7fb45f5b2b50>\n"
          ]
        }
      ]
    },
    {
      "cell_type": "code",
      "source": [
        "for layer in vgg16.layers[:-1]:\n",
        "  print(layer)"
      ],
      "metadata": {
        "colab": {
          "base_uri": "https://localhost:8080/"
        },
        "id": "Ao0_YaYemVwo",
        "outputId": "5beff173-8858-424e-8710-8b5766000329"
      },
      "execution_count": null,
      "outputs": [
        {
          "output_type": "stream",
          "name": "stdout",
          "text": [
            "<keras.engine.input_layer.InputLayer object at 0x7fb45f6617d0>\n",
            "<keras.layers.convolutional.conv2d.Conv2D object at 0x7fb45f661e50>\n",
            "<keras.layers.convolutional.conv2d.Conv2D object at 0x7fb45f76a4d0>\n",
            "<keras.layers.pooling.max_pooling2d.MaxPooling2D object at 0x7fb50a244c10>\n",
            "<keras.layers.convolutional.conv2d.Conv2D object at 0x7fb45f5dcdd0>\n",
            "<keras.layers.convolutional.conv2d.Conv2D object at 0x7fb4f408fd10>\n",
            "<keras.layers.pooling.max_pooling2d.MaxPooling2D object at 0x7fb45f5e9c10>\n",
            "<keras.layers.convolutional.conv2d.Conv2D object at 0x7fb45f5e6810>\n",
            "<keras.layers.convolutional.conv2d.Conv2D object at 0x7fb45f5e6b10>\n",
            "<keras.layers.convolutional.conv2d.Conv2D object at 0x7fb45f5e1750>\n",
            "<keras.layers.pooling.max_pooling2d.MaxPooling2D object at 0x7fb45f603290>\n",
            "<keras.layers.convolutional.conv2d.Conv2D object at 0x7fb45f6034d0>\n",
            "<keras.layers.convolutional.conv2d.Conv2D object at 0x7fb45f5f9b50>\n",
            "<keras.layers.convolutional.conv2d.Conv2D object at 0x7fb45f609550>\n",
            "<keras.layers.pooling.max_pooling2d.MaxPooling2D object at 0x7fb45f593090>\n",
            "<keras.layers.convolutional.conv2d.Conv2D object at 0x7fb45f60c4d0>\n",
            "<keras.layers.convolutional.conv2d.Conv2D object at 0x7fb45f60c210>\n",
            "<keras.layers.convolutional.conv2d.Conv2D object at 0x7fb45f598b90>\n",
            "<keras.layers.pooling.max_pooling2d.MaxPooling2D object at 0x7fb45f5988d0>\n",
            "<keras.layers.reshaping.flatten.Flatten object at 0x7fb45f609990>\n",
            "<keras.layers.core.dense.Dense object at 0x7fb45f5e6e10>\n",
            "<keras.layers.core.dense.Dense object at 0x7fb45f5b2710>\n"
          ]
        }
      ]
    },
    {
      "cell_type": "code",
      "source": [
        "model = Sequential()"
      ],
      "metadata": {
        "id": "gPvixaSCmtq5"
      },
      "execution_count": null,
      "outputs": []
    },
    {
      "cell_type": "code",
      "source": [
        "for layer in vgg16.layers[:-1]:\n",
        "  model.add(layer)"
      ],
      "metadata": {
        "id": "PrvcJ7sgmrU6"
      },
      "execution_count": null,
      "outputs": []
    },
    {
      "cell_type": "code",
      "source": [
        "model.summary()"
      ],
      "metadata": {
        "colab": {
          "base_uri": "https://localhost:8080/"
        },
        "id": "okZXzY_Sm_pJ",
        "outputId": "a7c5acc5-204a-4bfc-d921-191eebe182ca"
      },
      "execution_count": null,
      "outputs": [
        {
          "output_type": "stream",
          "name": "stdout",
          "text": [
            "Model: \"sequential\"\n",
            "_________________________________________________________________\n",
            " Layer (type)                Output Shape              Param #   \n",
            "=================================================================\n",
            " block1_conv1 (Conv2D)       (None, 224, 224, 64)      1792      \n",
            "                                                                 \n",
            " block1_conv2 (Conv2D)       (None, 224, 224, 64)      36928     \n",
            "                                                                 \n",
            " block1_pool (MaxPooling2D)  (None, 112, 112, 64)      0         \n",
            "                                                                 \n",
            " block2_conv1 (Conv2D)       (None, 112, 112, 128)     73856     \n",
            "                                                                 \n",
            " block2_conv2 (Conv2D)       (None, 112, 112, 128)     147584    \n",
            "                                                                 \n",
            " block2_pool (MaxPooling2D)  (None, 56, 56, 128)       0         \n",
            "                                                                 \n",
            " block3_conv1 (Conv2D)       (None, 56, 56, 256)       295168    \n",
            "                                                                 \n",
            " block3_conv2 (Conv2D)       (None, 56, 56, 256)       590080    \n",
            "                                                                 \n",
            " block3_conv3 (Conv2D)       (None, 56, 56, 256)       590080    \n",
            "                                                                 \n",
            " block3_pool (MaxPooling2D)  (None, 28, 28, 256)       0         \n",
            "                                                                 \n",
            " block4_conv1 (Conv2D)       (None, 28, 28, 512)       1180160   \n",
            "                                                                 \n",
            " block4_conv2 (Conv2D)       (None, 28, 28, 512)       2359808   \n",
            "                                                                 \n",
            " block4_conv3 (Conv2D)       (None, 28, 28, 512)       2359808   \n",
            "                                                                 \n",
            " block4_pool (MaxPooling2D)  (None, 14, 14, 512)       0         \n",
            "                                                                 \n",
            " block5_conv1 (Conv2D)       (None, 14, 14, 512)       2359808   \n",
            "                                                                 \n",
            " block5_conv2 (Conv2D)       (None, 14, 14, 512)       2359808   \n",
            "                                                                 \n",
            " block5_conv3 (Conv2D)       (None, 14, 14, 512)       2359808   \n",
            "                                                                 \n",
            " block5_pool (MaxPooling2D)  (None, 7, 7, 512)         0         \n",
            "                                                                 \n",
            " flatten (Flatten)           (None, 25088)             0         \n",
            "                                                                 \n",
            " fc1 (Dense)                 (None, 4096)              102764544 \n",
            "                                                                 \n",
            " fc2 (Dense)                 (None, 4096)              16781312  \n",
            "                                                                 \n",
            "=================================================================\n",
            "Total params: 134,260,544\n",
            "Trainable params: 134,260,544\n",
            "Non-trainable params: 0\n",
            "_________________________________________________________________\n"
          ]
        }
      ]
    },
    {
      "cell_type": "code",
      "source": [
        "for layer in model.layers:\n",
        "  layer.trainable = False"
      ],
      "metadata": {
        "id": "VgMPYwfonEnx"
      },
      "execution_count": null,
      "outputs": []
    },
    {
      "cell_type": "code",
      "source": [
        "model.summary()"
      ],
      "metadata": {
        "colab": {
          "base_uri": "https://localhost:8080/"
        },
        "id": "WMUtHJqrnONx",
        "outputId": "5b1b3fe2-66dc-4253-95ec-6b2affbde647"
      },
      "execution_count": null,
      "outputs": [
        {
          "output_type": "stream",
          "name": "stdout",
          "text": [
            "Model: \"sequential\"\n",
            "_________________________________________________________________\n",
            " Layer (type)                Output Shape              Param #   \n",
            "=================================================================\n",
            " block1_conv1 (Conv2D)       (None, 224, 224, 64)      1792      \n",
            "                                                                 \n",
            " block1_conv2 (Conv2D)       (None, 224, 224, 64)      36928     \n",
            "                                                                 \n",
            " block1_pool (MaxPooling2D)  (None, 112, 112, 64)      0         \n",
            "                                                                 \n",
            " block2_conv1 (Conv2D)       (None, 112, 112, 128)     73856     \n",
            "                                                                 \n",
            " block2_conv2 (Conv2D)       (None, 112, 112, 128)     147584    \n",
            "                                                                 \n",
            " block2_pool (MaxPooling2D)  (None, 56, 56, 128)       0         \n",
            "                                                                 \n",
            " block3_conv1 (Conv2D)       (None, 56, 56, 256)       295168    \n",
            "                                                                 \n",
            " block3_conv2 (Conv2D)       (None, 56, 56, 256)       590080    \n",
            "                                                                 \n",
            " block3_conv3 (Conv2D)       (None, 56, 56, 256)       590080    \n",
            "                                                                 \n",
            " block3_pool (MaxPooling2D)  (None, 28, 28, 256)       0         \n",
            "                                                                 \n",
            " block4_conv1 (Conv2D)       (None, 28, 28, 512)       1180160   \n",
            "                                                                 \n",
            " block4_conv2 (Conv2D)       (None, 28, 28, 512)       2359808   \n",
            "                                                                 \n",
            " block4_conv3 (Conv2D)       (None, 28, 28, 512)       2359808   \n",
            "                                                                 \n",
            " block4_pool (MaxPooling2D)  (None, 14, 14, 512)       0         \n",
            "                                                                 \n",
            " block5_conv1 (Conv2D)       (None, 14, 14, 512)       2359808   \n",
            "                                                                 \n",
            " block5_conv2 (Conv2D)       (None, 14, 14, 512)       2359808   \n",
            "                                                                 \n",
            " block5_conv3 (Conv2D)       (None, 14, 14, 512)       2359808   \n",
            "                                                                 \n",
            " block5_pool (MaxPooling2D)  (None, 7, 7, 512)         0         \n",
            "                                                                 \n",
            " flatten (Flatten)           (None, 25088)             0         \n",
            "                                                                 \n",
            " fc1 (Dense)                 (None, 4096)              102764544 \n",
            "                                                                 \n",
            " fc2 (Dense)                 (None, 4096)              16781312  \n",
            "                                                                 \n",
            "=================================================================\n",
            "Total params: 134,260,544\n",
            "Trainable params: 0\n",
            "Non-trainable params: 134,260,544\n",
            "_________________________________________________________________\n"
          ]
        }
      ]
    },
    {
      "cell_type": "code",
      "source": [
        "model.add(Dense(1,activation=\"sigmoid\"))"
      ],
      "metadata": {
        "id": "fahrGxLNnWrD"
      },
      "execution_count": null,
      "outputs": []
    },
    {
      "cell_type": "code",
      "source": [
        "model.summary()"
      ],
      "metadata": {
        "colab": {
          "base_uri": "https://localhost:8080/"
        },
        "id": "jn1eip9znh84",
        "outputId": "7134eb46-214b-4ea5-b795-c51f3e9dd0f1"
      },
      "execution_count": null,
      "outputs": [
        {
          "output_type": "stream",
          "name": "stdout",
          "text": [
            "Model: \"sequential\"\n",
            "_________________________________________________________________\n",
            " Layer (type)                Output Shape              Param #   \n",
            "=================================================================\n",
            " block1_conv1 (Conv2D)       (None, 224, 224, 64)      1792      \n",
            "                                                                 \n",
            " block1_conv2 (Conv2D)       (None, 224, 224, 64)      36928     \n",
            "                                                                 \n",
            " block1_pool (MaxPooling2D)  (None, 112, 112, 64)      0         \n",
            "                                                                 \n",
            " block2_conv1 (Conv2D)       (None, 112, 112, 128)     73856     \n",
            "                                                                 \n",
            " block2_conv2 (Conv2D)       (None, 112, 112, 128)     147584    \n",
            "                                                                 \n",
            " block2_pool (MaxPooling2D)  (None, 56, 56, 128)       0         \n",
            "                                                                 \n",
            " block3_conv1 (Conv2D)       (None, 56, 56, 256)       295168    \n",
            "                                                                 \n",
            " block3_conv2 (Conv2D)       (None, 56, 56, 256)       590080    \n",
            "                                                                 \n",
            " block3_conv3 (Conv2D)       (None, 56, 56, 256)       590080    \n",
            "                                                                 \n",
            " block3_pool (MaxPooling2D)  (None, 28, 28, 256)       0         \n",
            "                                                                 \n",
            " block4_conv1 (Conv2D)       (None, 28, 28, 512)       1180160   \n",
            "                                                                 \n",
            " block4_conv2 (Conv2D)       (None, 28, 28, 512)       2359808   \n",
            "                                                                 \n",
            " block4_conv3 (Conv2D)       (None, 28, 28, 512)       2359808   \n",
            "                                                                 \n",
            " block4_pool (MaxPooling2D)  (None, 14, 14, 512)       0         \n",
            "                                                                 \n",
            " block5_conv1 (Conv2D)       (None, 14, 14, 512)       2359808   \n",
            "                                                                 \n",
            " block5_conv2 (Conv2D)       (None, 14, 14, 512)       2359808   \n",
            "                                                                 \n",
            " block5_conv3 (Conv2D)       (None, 14, 14, 512)       2359808   \n",
            "                                                                 \n",
            " block5_pool (MaxPooling2D)  (None, 7, 7, 512)         0         \n",
            "                                                                 \n",
            " flatten (Flatten)           (None, 25088)             0         \n",
            "                                                                 \n",
            " fc1 (Dense)                 (None, 4096)              102764544 \n",
            "                                                                 \n",
            " fc2 (Dense)                 (None, 4096)              16781312  \n",
            "                                                                 \n",
            " dense (Dense)               (None, 1)                 4097      \n",
            "                                                                 \n",
            "=================================================================\n",
            "Total params: 134,264,641\n",
            "Trainable params: 4,097\n",
            "Non-trainable params: 134,260,544\n",
            "_________________________________________________________________\n"
          ]
        }
      ]
    },
    {
      "cell_type": "code",
      "source": [
        "model.compile(loss=\"binary_crossentropy\",optimizer=\"adam\",metrics=[\"accuracy\"])"
      ],
      "metadata": {
        "id": "ou7AlGovnrO5"
      },
      "execution_count": null,
      "outputs": []
    },
    {
      "cell_type": "code",
      "source": [
        "model.fit(X_train,y_train,epochs=5,batch_size=128)"
      ],
      "metadata": {
        "id": "sV7EsvnFn1n_"
      },
      "execution_count": null,
      "outputs": []
    },
    {
      "cell_type": "markdown",
      "source": [
        "#### Dog"
      ],
      "metadata": {
        "id": "V13ra5uXLByT"
      }
    },
    {
      "cell_type": "code",
      "source": [
        "input_img = cv2.imread(\"/content/dog.jpg\")"
      ],
      "metadata": {
        "id": "xvJe5TxrK7lv"
      },
      "execution_count": null,
      "outputs": []
    },
    {
      "cell_type": "code",
      "source": [
        "input_img.shape"
      ],
      "metadata": {
        "colab": {
          "base_uri": "https://localhost:8080/"
        },
        "id": "a1g8uLG4LGaa",
        "outputId": "fa14084a-9b85-4e2e-801e-e3b18ef52661"
      },
      "execution_count": null,
      "outputs": [
        {
          "output_type": "execute_result",
          "data": {
            "text/plain": [
              "(1200, 1600, 3)"
            ]
          },
          "metadata": {},
          "execution_count": 31
        }
      ]
    },
    {
      "cell_type": "code",
      "source": [
        "input2 = cv2.resize(input_img,(100,100))"
      ],
      "metadata": {
        "id": "0D9Ty8oQLHJA"
      },
      "execution_count": null,
      "outputs": []
    },
    {
      "cell_type": "code",
      "source": [
        "input2 = input2.reshape(1,100,100,3)"
      ],
      "metadata": {
        "id": "sKZQ1SbKLIpQ"
      },
      "execution_count": null,
      "outputs": []
    },
    {
      "cell_type": "code",
      "source": [
        "model.predict(input2)"
      ],
      "metadata": {
        "colab": {
          "base_uri": "https://localhost:8080/"
        },
        "id": "k62SND-eLKun",
        "outputId": "5d0fc626-8213-4679-f0a6-785eb27fa3db"
      },
      "execution_count": null,
      "outputs": [
        {
          "output_type": "stream",
          "name": "stdout",
          "text": [
            "1/1 [==============================] - 0s 94ms/step\n"
          ]
        },
        {
          "output_type": "execute_result",
          "data": {
            "text/plain": [
              "array([[1.]], dtype=float32)"
            ]
          },
          "metadata": {},
          "execution_count": 34
        }
      ]
    },
    {
      "cell_type": "code",
      "source": [],
      "metadata": {
        "id": "kMD1N1lFLMPo"
      },
      "execution_count": null,
      "outputs": []
    }
  ]
}