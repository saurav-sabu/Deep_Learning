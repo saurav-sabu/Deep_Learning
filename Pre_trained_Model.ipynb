{
  "nbformat": 4,
  "nbformat_minor": 0,
  "metadata": {
    "colab": {
      "provenance": []
    },
    "kernelspec": {
      "name": "python3",
      "display_name": "Python 3"
    },
    "language_info": {
      "name": "python"
    }
  },
  "cells": [
    {
      "cell_type": "code",
      "execution_count": null,
      "metadata": {
        "id": "pE9kPkVekwng"
      },
      "outputs": [],
      "source": [
        "from tensorflow import keras\n",
        "from tensorflow.keras.applications.resnet50 import ResNet50\n",
        "import cv2\n",
        "from tensorflow.keras.applications.resnet50 import preprocess_input,decode_predictions\n",
        "import numpy as np"
      ]
    },
    {
      "cell_type": "code",
      "source": [
        "model = ResNet50(weights=\"imagenet\")"
      ],
      "metadata": {
        "colab": {
          "base_uri": "https://localhost:8080/"
        },
        "id": "e9RXe0FelnGT",
        "outputId": "7e0b9034-e9b2-4231-ec7c-fbaf8b9fb6e3"
      },
      "execution_count": null,
      "outputs": [
        {
          "output_type": "stream",
          "name": "stdout",
          "text": [
            "Downloading data from https://storage.googleapis.com/tensorflow/keras-applications/resnet/resnet50_weights_tf_dim_ordering_tf_kernels.h5\n",
            "102973440/102967424 [==============================] - 1s 0us/step\n",
            "102981632/102967424 [==============================] - 1s 0us/step\n"
          ]
        }
      ]
    },
    {
      "cell_type": "markdown",
      "source": [
        "#### Cat image"
      ],
      "metadata": {
        "id": "BC-RDcZxm9mu"
      }
    },
    {
      "cell_type": "code",
      "source": [
        "img = cv2.imread(\"/content/cat.jpg\")"
      ],
      "metadata": {
        "id": "2sDCbbtPlx7l"
      },
      "execution_count": null,
      "outputs": []
    },
    {
      "cell_type": "code",
      "source": [
        "img = cv2.resize(img,(224,224))"
      ],
      "metadata": {
        "id": "AG5AuDRXmeA5"
      },
      "execution_count": null,
      "outputs": []
    },
    {
      "cell_type": "code",
      "source": [
        "img = preprocess_input(img)"
      ],
      "metadata": {
        "id": "FdFbVX_ZmEbV"
      },
      "execution_count": null,
      "outputs": []
    },
    {
      "cell_type": "code",
      "source": [
        "img.shape"
      ],
      "metadata": {
        "colab": {
          "base_uri": "https://localhost:8080/"
        },
        "id": "wx8qlqpGmcwm",
        "outputId": "1a350ce9-7c32-459f-f3bd-dd3173034c75"
      },
      "execution_count": null,
      "outputs": [
        {
          "output_type": "execute_result",
          "data": {
            "text/plain": [
              "(224, 224, 3)"
            ]
          },
          "metadata": {},
          "execution_count": 16
        }
      ]
    },
    {
      "cell_type": "code",
      "source": [
        "img = img.reshape(1,224,224,3)"
      ],
      "metadata": {
        "id": "spSRoKb8muNn"
      },
      "execution_count": null,
      "outputs": []
    },
    {
      "cell_type": "code",
      "source": [
        "preds = model.predict(img)\n",
        "print(f\"Predicted {decode_predictions(preds,top=3)[0]}\")"
      ],
      "metadata": {
        "colab": {
          "base_uri": "https://localhost:8080/"
        },
        "id": "gdhgb-F9mG61",
        "outputId": "e2e67662-059c-4cb9-bbb3-0c502272b3ea"
      },
      "execution_count": null,
      "outputs": [
        {
          "output_type": "stream",
          "name": "stdout",
          "text": [
            "Downloading data from https://storage.googleapis.com/download.tensorflow.org/data/imagenet_class_index.json\n",
            "40960/35363 [==================================] - 0s 0us/step\n",
            "49152/35363 [=========================================] - 0s 0us/step\n",
            "Predicted [('n02127052', 'lynx', 0.29414496), ('n02441942', 'weasel', 0.15502612), ('n02120079', 'Arctic_fox', 0.13285883)]\n"
          ]
        }
      ]
    },
    {
      "cell_type": "markdown",
      "source": [
        "#### Dog image"
      ],
      "metadata": {
        "id": "sdUZS8-KnEQw"
      }
    },
    {
      "cell_type": "code",
      "source": [
        "img = cv2.imread(\"/content/dog.jpg\")"
      ],
      "metadata": {
        "id": "Mhky4FGrmZUf"
      },
      "execution_count": null,
      "outputs": []
    },
    {
      "cell_type": "code",
      "source": [
        "img = cv2.resize(img,(224,224))"
      ],
      "metadata": {
        "id": "JnxoSgQ3nHZS"
      },
      "execution_count": null,
      "outputs": []
    },
    {
      "cell_type": "code",
      "source": [
        "img = preprocess_input(img)"
      ],
      "metadata": {
        "id": "zU8Sm6X8nIZr"
      },
      "execution_count": null,
      "outputs": []
    },
    {
      "cell_type": "code",
      "source": [
        "img = img.reshape(1,224,224,3)"
      ],
      "metadata": {
        "id": "qa4SA-jInJh9"
      },
      "execution_count": null,
      "outputs": []
    },
    {
      "cell_type": "code",
      "source": [
        "preds = model.predict(img)\n",
        "print(f\"Predicted {decode_predictions(preds,top=3)[0]}\")"
      ],
      "metadata": {
        "colab": {
          "base_uri": "https://localhost:8080/"
        },
        "id": "AthYZdtCnKrb",
        "outputId": "4e8c5afa-b518-4372-c1ba-805b87fe5efe"
      },
      "execution_count": null,
      "outputs": [
        {
          "output_type": "stream",
          "name": "stdout",
          "text": [
            "Predicted [('n02093647', 'Bedlington_terrier', 0.5343563), ('n02113799', 'standard_poodle', 0.1547358), ('n02104029', 'kuvasz', 0.09648184)]\n"
          ]
        }
      ]
    },
    {
      "cell_type": "markdown",
      "source": [
        "#### Bread Image"
      ],
      "metadata": {
        "id": "Z2L7qEJsnpPU"
      }
    },
    {
      "cell_type": "code",
      "source": [
        "img = cv2.imread(\"/content/R.jfif\")"
      ],
      "metadata": {
        "id": "6TPYY-QWnLuB"
      },
      "execution_count": null,
      "outputs": []
    },
    {
      "cell_type": "code",
      "source": [
        "img = cv2.resize(img,(224,224))"
      ],
      "metadata": {
        "id": "Ych63SZWnxj8"
      },
      "execution_count": null,
      "outputs": []
    },
    {
      "cell_type": "code",
      "source": [
        "img = np.expand_dims(img,axis=0)"
      ],
      "metadata": {
        "id": "LRdKSuF3n5VD"
      },
      "execution_count": null,
      "outputs": []
    },
    {
      "cell_type": "code",
      "source": [
        "img = preprocess_input(img)"
      ],
      "metadata": {
        "id": "m92F9jf_nyi2"
      },
      "execution_count": null,
      "outputs": []
    },
    {
      "cell_type": "code",
      "source": [
        "img = img.reshape(1,224,224,3)"
      ],
      "metadata": {
        "id": "ggLAnzt3nzlo"
      },
      "execution_count": null,
      "outputs": []
    },
    {
      "cell_type": "code",
      "source": [
        "preds = model.predict(img)\n",
        "print(f\"Predicted {decode_predictions(preds,top=3)[0]}\")"
      ],
      "metadata": {
        "colab": {
          "base_uri": "https://localhost:8080/"
        },
        "id": "nkL5m6m1n0sG",
        "outputId": "f56a5094-a994-4885-89dc-b7ba3dbfd69c"
      },
      "execution_count": null,
      "outputs": [
        {
          "output_type": "stream",
          "name": "stdout",
          "text": [
            "Predicted [('n03888257', 'parachute', 0.32957563), ('n03065424', 'coil', 0.25606132), ('n04367480', 'swab', 0.105087146)]\n"
          ]
        }
      ]
    },
    {
      "cell_type": "code",
      "source": [],
      "metadata": {
        "id": "-yRQBbsyn1jE"
      },
      "execution_count": null,
      "outputs": []
    }
  ]
}