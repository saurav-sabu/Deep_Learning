{
  "nbformat": 4,
  "nbformat_minor": 0,
  "metadata": {
    "colab": {
      "provenance": [],
      "collapsed_sections": []
    },
    "kernelspec": {
      "name": "python3",
      "display_name": "Python 3"
    },
    "language_info": {
      "name": "python"
    },
    "accelerator": "GPU",
    "gpuClass": "standard"
  },
  "cells": [
    {
      "cell_type": "code",
      "execution_count": null,
      "metadata": {
        "id": "Hc-kw6fnI6XB"
      },
      "outputs": [],
      "source": [
        "import numpy as np\n",
        "import pandas as pd\n",
        "from sklearn.model_selection import train_test_split\n",
        "from sklearn.preprocessing import StandardScaler\n",
        "\n",
        "import tensorflow\n",
        "from tensorflow import keras\n",
        "from keras import Sequential\n",
        "from keras.layers import Dense,Dropout"
      ]
    },
    {
      "cell_type": "code",
      "source": [
        "df = pd.read_csv(\"diabetes.csv\")"
      ],
      "metadata": {
        "id": "jfn-4OHfMtKj"
      },
      "execution_count": null,
      "outputs": []
    },
    {
      "cell_type": "code",
      "source": [
        "df.head()"
      ],
      "metadata": {
        "colab": {
          "base_uri": "https://localhost:8080/",
          "height": 270
        },
        "id": "wcVfcwzAMvew",
        "outputId": "77cb381e-186f-4c99-971d-b5ff97749428"
      },
      "execution_count": null,
      "outputs": [
        {
          "output_type": "execute_result",
          "data": {
            "text/plain": [
              "   Pregnancies  Glucose  BloodPressure  SkinThickness  Insulin   BMI  \\\n",
              "0            6      148             72             35        0  33.6   \n",
              "1            1       85             66             29        0  26.6   \n",
              "2            8      183             64              0        0  23.3   \n",
              "3            1       89             66             23       94  28.1   \n",
              "4            0      137             40             35      168  43.1   \n",
              "\n",
              "   DiabetesPedigreeFunction  Age  Outcome  \n",
              "0                     0.627   50        1  \n",
              "1                     0.351   31        0  \n",
              "2                     0.672   32        1  \n",
              "3                     0.167   21        0  \n",
              "4                     2.288   33        1  "
            ],
            "text/html": [
              "\n",
              "  <div id=\"df-123a37fb-3c0a-4669-83d9-f98ef7c22bd4\">\n",
              "    <div class=\"colab-df-container\">\n",
              "      <div>\n",
              "<style scoped>\n",
              "    .dataframe tbody tr th:only-of-type {\n",
              "        vertical-align: middle;\n",
              "    }\n",
              "\n",
              "    .dataframe tbody tr th {\n",
              "        vertical-align: top;\n",
              "    }\n",
              "\n",
              "    .dataframe thead th {\n",
              "        text-align: right;\n",
              "    }\n",
              "</style>\n",
              "<table border=\"1\" class=\"dataframe\">\n",
              "  <thead>\n",
              "    <tr style=\"text-align: right;\">\n",
              "      <th></th>\n",
              "      <th>Pregnancies</th>\n",
              "      <th>Glucose</th>\n",
              "      <th>BloodPressure</th>\n",
              "      <th>SkinThickness</th>\n",
              "      <th>Insulin</th>\n",
              "      <th>BMI</th>\n",
              "      <th>DiabetesPedigreeFunction</th>\n",
              "      <th>Age</th>\n",
              "      <th>Outcome</th>\n",
              "    </tr>\n",
              "  </thead>\n",
              "  <tbody>\n",
              "    <tr>\n",
              "      <th>0</th>\n",
              "      <td>6</td>\n",
              "      <td>148</td>\n",
              "      <td>72</td>\n",
              "      <td>35</td>\n",
              "      <td>0</td>\n",
              "      <td>33.6</td>\n",
              "      <td>0.627</td>\n",
              "      <td>50</td>\n",
              "      <td>1</td>\n",
              "    </tr>\n",
              "    <tr>\n",
              "      <th>1</th>\n",
              "      <td>1</td>\n",
              "      <td>85</td>\n",
              "      <td>66</td>\n",
              "      <td>29</td>\n",
              "      <td>0</td>\n",
              "      <td>26.6</td>\n",
              "      <td>0.351</td>\n",
              "      <td>31</td>\n",
              "      <td>0</td>\n",
              "    </tr>\n",
              "    <tr>\n",
              "      <th>2</th>\n",
              "      <td>8</td>\n",
              "      <td>183</td>\n",
              "      <td>64</td>\n",
              "      <td>0</td>\n",
              "      <td>0</td>\n",
              "      <td>23.3</td>\n",
              "      <td>0.672</td>\n",
              "      <td>32</td>\n",
              "      <td>1</td>\n",
              "    </tr>\n",
              "    <tr>\n",
              "      <th>3</th>\n",
              "      <td>1</td>\n",
              "      <td>89</td>\n",
              "      <td>66</td>\n",
              "      <td>23</td>\n",
              "      <td>94</td>\n",
              "      <td>28.1</td>\n",
              "      <td>0.167</td>\n",
              "      <td>21</td>\n",
              "      <td>0</td>\n",
              "    </tr>\n",
              "    <tr>\n",
              "      <th>4</th>\n",
              "      <td>0</td>\n",
              "      <td>137</td>\n",
              "      <td>40</td>\n",
              "      <td>35</td>\n",
              "      <td>168</td>\n",
              "      <td>43.1</td>\n",
              "      <td>2.288</td>\n",
              "      <td>33</td>\n",
              "      <td>1</td>\n",
              "    </tr>\n",
              "  </tbody>\n",
              "</table>\n",
              "</div>\n",
              "      <button class=\"colab-df-convert\" onclick=\"convertToInteractive('df-123a37fb-3c0a-4669-83d9-f98ef7c22bd4')\"\n",
              "              title=\"Convert this dataframe to an interactive table.\"\n",
              "              style=\"display:none;\">\n",
              "        \n",
              "  <svg xmlns=\"http://www.w3.org/2000/svg\" height=\"24px\"viewBox=\"0 0 24 24\"\n",
              "       width=\"24px\">\n",
              "    <path d=\"M0 0h24v24H0V0z\" fill=\"none\"/>\n",
              "    <path d=\"M18.56 5.44l.94 2.06.94-2.06 2.06-.94-2.06-.94-.94-2.06-.94 2.06-2.06.94zm-11 1L8.5 8.5l.94-2.06 2.06-.94-2.06-.94L8.5 2.5l-.94 2.06-2.06.94zm10 10l.94 2.06.94-2.06 2.06-.94-2.06-.94-.94-2.06-.94 2.06-2.06.94z\"/><path d=\"M17.41 7.96l-1.37-1.37c-.4-.4-.92-.59-1.43-.59-.52 0-1.04.2-1.43.59L10.3 9.45l-7.72 7.72c-.78.78-.78 2.05 0 2.83L4 21.41c.39.39.9.59 1.41.59.51 0 1.02-.2 1.41-.59l7.78-7.78 2.81-2.81c.8-.78.8-2.07 0-2.86zM5.41 20L4 18.59l7.72-7.72 1.47 1.35L5.41 20z\"/>\n",
              "  </svg>\n",
              "      </button>\n",
              "      \n",
              "  <style>\n",
              "    .colab-df-container {\n",
              "      display:flex;\n",
              "      flex-wrap:wrap;\n",
              "      gap: 12px;\n",
              "    }\n",
              "\n",
              "    .colab-df-convert {\n",
              "      background-color: #E8F0FE;\n",
              "      border: none;\n",
              "      border-radius: 50%;\n",
              "      cursor: pointer;\n",
              "      display: none;\n",
              "      fill: #1967D2;\n",
              "      height: 32px;\n",
              "      padding: 0 0 0 0;\n",
              "      width: 32px;\n",
              "    }\n",
              "\n",
              "    .colab-df-convert:hover {\n",
              "      background-color: #E2EBFA;\n",
              "      box-shadow: 0px 1px 2px rgba(60, 64, 67, 0.3), 0px 1px 3px 1px rgba(60, 64, 67, 0.15);\n",
              "      fill: #174EA6;\n",
              "    }\n",
              "\n",
              "    [theme=dark] .colab-df-convert {\n",
              "      background-color: #3B4455;\n",
              "      fill: #D2E3FC;\n",
              "    }\n",
              "\n",
              "    [theme=dark] .colab-df-convert:hover {\n",
              "      background-color: #434B5C;\n",
              "      box-shadow: 0px 1px 3px 1px rgba(0, 0, 0, 0.15);\n",
              "      filter: drop-shadow(0px 1px 2px rgba(0, 0, 0, 0.3));\n",
              "      fill: #FFFFFF;\n",
              "    }\n",
              "  </style>\n",
              "\n",
              "      <script>\n",
              "        const buttonEl =\n",
              "          document.querySelector('#df-123a37fb-3c0a-4669-83d9-f98ef7c22bd4 button.colab-df-convert');\n",
              "        buttonEl.style.display =\n",
              "          google.colab.kernel.accessAllowed ? 'block' : 'none';\n",
              "\n",
              "        async function convertToInteractive(key) {\n",
              "          const element = document.querySelector('#df-123a37fb-3c0a-4669-83d9-f98ef7c22bd4');\n",
              "          const dataTable =\n",
              "            await google.colab.kernel.invokeFunction('convertToInteractive',\n",
              "                                                     [key], {});\n",
              "          if (!dataTable) return;\n",
              "\n",
              "          const docLinkHtml = 'Like what you see? Visit the ' +\n",
              "            '<a target=\"_blank\" href=https://colab.research.google.com/notebooks/data_table.ipynb>data table notebook</a>'\n",
              "            + ' to learn more about interactive tables.';\n",
              "          element.innerHTML = '';\n",
              "          dataTable['output_type'] = 'display_data';\n",
              "          await google.colab.output.renderOutput(dataTable, element);\n",
              "          const docLink = document.createElement('div');\n",
              "          docLink.innerHTML = docLinkHtml;\n",
              "          element.appendChild(docLink);\n",
              "        }\n",
              "      </script>\n",
              "    </div>\n",
              "  </div>\n",
              "  "
            ]
          },
          "metadata": {},
          "execution_count": 3
        }
      ]
    },
    {
      "cell_type": "code",
      "source": [
        "X = df.drop(\"Outcome\",axis=1)\n",
        "y = df[\"Outcome\"]"
      ],
      "metadata": {
        "id": "M0P3cAhjMwHL"
      },
      "execution_count": null,
      "outputs": []
    },
    {
      "cell_type": "code",
      "source": [
        "sc = StandardScaler()"
      ],
      "metadata": {
        "id": "WuC2CaFYNTrH"
      },
      "execution_count": null,
      "outputs": []
    },
    {
      "cell_type": "code",
      "source": [
        "X = sc.fit_transform(X)"
      ],
      "metadata": {
        "id": "L66lgMTENfDL"
      },
      "execution_count": null,
      "outputs": []
    },
    {
      "cell_type": "code",
      "source": [
        "X_train,X_test,y_train,y_test = train_test_split(X,y,test_size=0.2,random_state=1)"
      ],
      "metadata": {
        "id": "jpFPqbDFNjhQ"
      },
      "execution_count": null,
      "outputs": []
    },
    {
      "cell_type": "code",
      "source": [
        "model = Sequential()\n",
        "\n",
        "model.add(Dense(32,activation=\"relu\",input_dim=8))\n",
        "model.add(Dense(1,activation=\"sigmoid\"))\n",
        "\n",
        "model.compile(loss=\"binary_crossentropy\",optimizer=\"Adam\",metrics=[\"accuracy\"])"
      ],
      "metadata": {
        "id": "IAc05PhaNyNu"
      },
      "execution_count": null,
      "outputs": []
    },
    {
      "cell_type": "code",
      "source": [
        "history = model.fit(X_train,y_train,epochs=100,batch_size=32,validation_split=0.2)"
      ],
      "metadata": {
        "colab": {
          "base_uri": "https://localhost:8080/"
        },
        "id": "78SuV4_oOKsu",
        "outputId": "64e8d3d9-c414-4703-dc1f-4036a3873e6c"
      },
      "execution_count": null,
      "outputs": [
        {
          "output_type": "stream",
          "name": "stdout",
          "text": [
            "Epoch 1/100\n",
            "16/16 [==============================] - 1s 13ms/step - loss: 0.7026 - accuracy: 0.5193 - val_loss: 0.6681 - val_accuracy: 0.5935\n",
            "Epoch 2/100\n",
            "16/16 [==============================] - 0s 4ms/step - loss: 0.6433 - accuracy: 0.6864 - val_loss: 0.6234 - val_accuracy: 0.7073\n",
            "Epoch 3/100\n",
            "16/16 [==============================] - 0s 5ms/step - loss: 0.5994 - accuracy: 0.7026 - val_loss: 0.5902 - val_accuracy: 0.7236\n",
            "Epoch 4/100\n",
            "16/16 [==============================] - 0s 7ms/step - loss: 0.5686 - accuracy: 0.7332 - val_loss: 0.5662 - val_accuracy: 0.7480\n",
            "Epoch 5/100\n",
            "16/16 [==============================] - 0s 7ms/step - loss: 0.5469 - accuracy: 0.7454 - val_loss: 0.5474 - val_accuracy: 0.7561\n",
            "Epoch 6/100\n",
            "16/16 [==============================] - 0s 6ms/step - loss: 0.5303 - accuracy: 0.7495 - val_loss: 0.5318 - val_accuracy: 0.7480\n",
            "Epoch 7/100\n",
            "16/16 [==============================] - 0s 5ms/step - loss: 0.5158 - accuracy: 0.7576 - val_loss: 0.5204 - val_accuracy: 0.7642\n",
            "Epoch 8/100\n",
            "16/16 [==============================] - 0s 4ms/step - loss: 0.5059 - accuracy: 0.7678 - val_loss: 0.5086 - val_accuracy: 0.7642\n",
            "Epoch 9/100\n",
            "16/16 [==============================] - 0s 5ms/step - loss: 0.4970 - accuracy: 0.7699 - val_loss: 0.4998 - val_accuracy: 0.7642\n",
            "Epoch 10/100\n",
            "16/16 [==============================] - 0s 5ms/step - loss: 0.4897 - accuracy: 0.7780 - val_loss: 0.4909 - val_accuracy: 0.7642\n",
            "Epoch 11/100\n",
            "16/16 [==============================] - 0s 5ms/step - loss: 0.4836 - accuracy: 0.7800 - val_loss: 0.4838 - val_accuracy: 0.7805\n",
            "Epoch 12/100\n",
            "16/16 [==============================] - 0s 4ms/step - loss: 0.4775 - accuracy: 0.7862 - val_loss: 0.4793 - val_accuracy: 0.7805\n",
            "Epoch 13/100\n",
            "16/16 [==============================] - 0s 4ms/step - loss: 0.4733 - accuracy: 0.7882 - val_loss: 0.4757 - val_accuracy: 0.7805\n",
            "Epoch 14/100\n",
            "16/16 [==============================] - 0s 4ms/step - loss: 0.4693 - accuracy: 0.7821 - val_loss: 0.4716 - val_accuracy: 0.7805\n",
            "Epoch 15/100\n",
            "16/16 [==============================] - 0s 5ms/step - loss: 0.4657 - accuracy: 0.7862 - val_loss: 0.4689 - val_accuracy: 0.7805\n",
            "Epoch 16/100\n",
            "16/16 [==============================] - 0s 4ms/step - loss: 0.4631 - accuracy: 0.7882 - val_loss: 0.4669 - val_accuracy: 0.7805\n",
            "Epoch 17/100\n",
            "16/16 [==============================] - 0s 5ms/step - loss: 0.4606 - accuracy: 0.7841 - val_loss: 0.4659 - val_accuracy: 0.7642\n",
            "Epoch 18/100\n",
            "16/16 [==============================] - 0s 5ms/step - loss: 0.4587 - accuracy: 0.7862 - val_loss: 0.4644 - val_accuracy: 0.7561\n",
            "Epoch 19/100\n",
            "16/16 [==============================] - 0s 4ms/step - loss: 0.4567 - accuracy: 0.7841 - val_loss: 0.4625 - val_accuracy: 0.7480\n",
            "Epoch 20/100\n",
            "16/16 [==============================] - 0s 4ms/step - loss: 0.4549 - accuracy: 0.7821 - val_loss: 0.4618 - val_accuracy: 0.7561\n",
            "Epoch 21/100\n",
            "16/16 [==============================] - 0s 5ms/step - loss: 0.4532 - accuracy: 0.7821 - val_loss: 0.4609 - val_accuracy: 0.7561\n",
            "Epoch 22/100\n",
            "16/16 [==============================] - 0s 4ms/step - loss: 0.4522 - accuracy: 0.7821 - val_loss: 0.4599 - val_accuracy: 0.7480\n",
            "Epoch 23/100\n",
            "16/16 [==============================] - 0s 4ms/step - loss: 0.4505 - accuracy: 0.7841 - val_loss: 0.4604 - val_accuracy: 0.7561\n",
            "Epoch 24/100\n",
            "16/16 [==============================] - 0s 4ms/step - loss: 0.4493 - accuracy: 0.7841 - val_loss: 0.4590 - val_accuracy: 0.7561\n",
            "Epoch 25/100\n",
            "16/16 [==============================] - 0s 4ms/step - loss: 0.4486 - accuracy: 0.7862 - val_loss: 0.4582 - val_accuracy: 0.7561\n",
            "Epoch 26/100\n",
            "16/16 [==============================] - 0s 4ms/step - loss: 0.4478 - accuracy: 0.7902 - val_loss: 0.4577 - val_accuracy: 0.7642\n",
            "Epoch 27/100\n",
            "16/16 [==============================] - 0s 4ms/step - loss: 0.4465 - accuracy: 0.7943 - val_loss: 0.4581 - val_accuracy: 0.7561\n",
            "Epoch 28/100\n",
            "16/16 [==============================] - 0s 5ms/step - loss: 0.4454 - accuracy: 0.7902 - val_loss: 0.4574 - val_accuracy: 0.7561\n",
            "Epoch 29/100\n",
            "16/16 [==============================] - 0s 4ms/step - loss: 0.4447 - accuracy: 0.7862 - val_loss: 0.4579 - val_accuracy: 0.7561\n",
            "Epoch 30/100\n",
            "16/16 [==============================] - 0s 4ms/step - loss: 0.4442 - accuracy: 0.7862 - val_loss: 0.4592 - val_accuracy: 0.7561\n",
            "Epoch 31/100\n",
            "16/16 [==============================] - 0s 5ms/step - loss: 0.4432 - accuracy: 0.7923 - val_loss: 0.4581 - val_accuracy: 0.7642\n",
            "Epoch 32/100\n",
            "16/16 [==============================] - 0s 4ms/step - loss: 0.4429 - accuracy: 0.7923 - val_loss: 0.4569 - val_accuracy: 0.7642\n",
            "Epoch 33/100\n",
            "16/16 [==============================] - 0s 4ms/step - loss: 0.4417 - accuracy: 0.7923 - val_loss: 0.4571 - val_accuracy: 0.7642\n",
            "Epoch 34/100\n",
            "16/16 [==============================] - 0s 5ms/step - loss: 0.4412 - accuracy: 0.7943 - val_loss: 0.4574 - val_accuracy: 0.7642\n",
            "Epoch 35/100\n",
            "16/16 [==============================] - 0s 4ms/step - loss: 0.4408 - accuracy: 0.7902 - val_loss: 0.4568 - val_accuracy: 0.7642\n",
            "Epoch 36/100\n",
            "16/16 [==============================] - 0s 5ms/step - loss: 0.4403 - accuracy: 0.7943 - val_loss: 0.4580 - val_accuracy: 0.7561\n",
            "Epoch 37/100\n",
            "16/16 [==============================] - 0s 4ms/step - loss: 0.4395 - accuracy: 0.7943 - val_loss: 0.4584 - val_accuracy: 0.7561\n",
            "Epoch 38/100\n",
            "16/16 [==============================] - 0s 4ms/step - loss: 0.4389 - accuracy: 0.7963 - val_loss: 0.4580 - val_accuracy: 0.7561\n",
            "Epoch 39/100\n",
            "16/16 [==============================] - 0s 4ms/step - loss: 0.4390 - accuracy: 0.7882 - val_loss: 0.4583 - val_accuracy: 0.7642\n",
            "Epoch 40/100\n",
            "16/16 [==============================] - 0s 5ms/step - loss: 0.4379 - accuracy: 0.7902 - val_loss: 0.4585 - val_accuracy: 0.7561\n",
            "Epoch 41/100\n",
            "16/16 [==============================] - 0s 5ms/step - loss: 0.4370 - accuracy: 0.7943 - val_loss: 0.4586 - val_accuracy: 0.7561\n",
            "Epoch 42/100\n",
            "16/16 [==============================] - 0s 4ms/step - loss: 0.4369 - accuracy: 0.7902 - val_loss: 0.4581 - val_accuracy: 0.7480\n",
            "Epoch 43/100\n",
            "16/16 [==============================] - 0s 5ms/step - loss: 0.4367 - accuracy: 0.7882 - val_loss: 0.4585 - val_accuracy: 0.7561\n",
            "Epoch 44/100\n",
            "16/16 [==============================] - 0s 4ms/step - loss: 0.4359 - accuracy: 0.7902 - val_loss: 0.4594 - val_accuracy: 0.7561\n",
            "Epoch 45/100\n",
            "16/16 [==============================] - 0s 6ms/step - loss: 0.4357 - accuracy: 0.7902 - val_loss: 0.4594 - val_accuracy: 0.7561\n",
            "Epoch 46/100\n",
            "16/16 [==============================] - 0s 4ms/step - loss: 0.4351 - accuracy: 0.7963 - val_loss: 0.4598 - val_accuracy: 0.7480\n",
            "Epoch 47/100\n",
            "16/16 [==============================] - 0s 4ms/step - loss: 0.4350 - accuracy: 0.7923 - val_loss: 0.4604 - val_accuracy: 0.7480\n",
            "Epoch 48/100\n",
            "16/16 [==============================] - 0s 4ms/step - loss: 0.4339 - accuracy: 0.7943 - val_loss: 0.4610 - val_accuracy: 0.7480\n",
            "Epoch 49/100\n",
            "16/16 [==============================] - 0s 4ms/step - loss: 0.4343 - accuracy: 0.7923 - val_loss: 0.4605 - val_accuracy: 0.7480\n",
            "Epoch 50/100\n",
            "16/16 [==============================] - 0s 5ms/step - loss: 0.4335 - accuracy: 0.7943 - val_loss: 0.4617 - val_accuracy: 0.7480\n",
            "Epoch 51/100\n",
            "16/16 [==============================] - 0s 4ms/step - loss: 0.4326 - accuracy: 0.7923 - val_loss: 0.4620 - val_accuracy: 0.7480\n",
            "Epoch 52/100\n",
            "16/16 [==============================] - 0s 5ms/step - loss: 0.4327 - accuracy: 0.7882 - val_loss: 0.4622 - val_accuracy: 0.7398\n",
            "Epoch 53/100\n",
            "16/16 [==============================] - 0s 5ms/step - loss: 0.4318 - accuracy: 0.7882 - val_loss: 0.4625 - val_accuracy: 0.7398\n",
            "Epoch 54/100\n",
            "16/16 [==============================] - 0s 5ms/step - loss: 0.4316 - accuracy: 0.7902 - val_loss: 0.4623 - val_accuracy: 0.7398\n",
            "Epoch 55/100\n",
            "16/16 [==============================] - 0s 4ms/step - loss: 0.4311 - accuracy: 0.7902 - val_loss: 0.4627 - val_accuracy: 0.7480\n",
            "Epoch 56/100\n",
            "16/16 [==============================] - 0s 4ms/step - loss: 0.4308 - accuracy: 0.7923 - val_loss: 0.4632 - val_accuracy: 0.7480\n",
            "Epoch 57/100\n",
            "16/16 [==============================] - 0s 4ms/step - loss: 0.4303 - accuracy: 0.7923 - val_loss: 0.4640 - val_accuracy: 0.7398\n",
            "Epoch 58/100\n",
            "16/16 [==============================] - 0s 4ms/step - loss: 0.4302 - accuracy: 0.7923 - val_loss: 0.4641 - val_accuracy: 0.7398\n",
            "Epoch 59/100\n",
            "16/16 [==============================] - 0s 5ms/step - loss: 0.4297 - accuracy: 0.7902 - val_loss: 0.4645 - val_accuracy: 0.7398\n",
            "Epoch 60/100\n",
            "16/16 [==============================] - 0s 4ms/step - loss: 0.4290 - accuracy: 0.7984 - val_loss: 0.4646 - val_accuracy: 0.7480\n",
            "Epoch 61/100\n",
            "16/16 [==============================] - 0s 4ms/step - loss: 0.4288 - accuracy: 0.7943 - val_loss: 0.4652 - val_accuracy: 0.7398\n",
            "Epoch 62/100\n",
            "16/16 [==============================] - 0s 4ms/step - loss: 0.4284 - accuracy: 0.7963 - val_loss: 0.4651 - val_accuracy: 0.7398\n",
            "Epoch 63/100\n",
            "16/16 [==============================] - 0s 5ms/step - loss: 0.4279 - accuracy: 0.7943 - val_loss: 0.4666 - val_accuracy: 0.7398\n",
            "Epoch 64/100\n",
            "16/16 [==============================] - 0s 4ms/step - loss: 0.4277 - accuracy: 0.7923 - val_loss: 0.4655 - val_accuracy: 0.7398\n",
            "Epoch 65/100\n",
            "16/16 [==============================] - 0s 5ms/step - loss: 0.4281 - accuracy: 0.7963 - val_loss: 0.4670 - val_accuracy: 0.7398\n",
            "Epoch 66/100\n",
            "16/16 [==============================] - 0s 4ms/step - loss: 0.4268 - accuracy: 0.8004 - val_loss: 0.4655 - val_accuracy: 0.7398\n",
            "Epoch 67/100\n",
            "16/16 [==============================] - 0s 5ms/step - loss: 0.4265 - accuracy: 0.8004 - val_loss: 0.4654 - val_accuracy: 0.7398\n",
            "Epoch 68/100\n",
            "16/16 [==============================] - 0s 4ms/step - loss: 0.4259 - accuracy: 0.7984 - val_loss: 0.4652 - val_accuracy: 0.7398\n",
            "Epoch 69/100\n",
            "16/16 [==============================] - 0s 4ms/step - loss: 0.4256 - accuracy: 0.7923 - val_loss: 0.4656 - val_accuracy: 0.7398\n",
            "Epoch 70/100\n",
            "16/16 [==============================] - 0s 4ms/step - loss: 0.4254 - accuracy: 0.7943 - val_loss: 0.4660 - val_accuracy: 0.7480\n",
            "Epoch 71/100\n",
            "16/16 [==============================] - 0s 5ms/step - loss: 0.4250 - accuracy: 0.7963 - val_loss: 0.4651 - val_accuracy: 0.7398\n",
            "Epoch 72/100\n",
            "16/16 [==============================] - 0s 5ms/step - loss: 0.4245 - accuracy: 0.7984 - val_loss: 0.4643 - val_accuracy: 0.7480\n",
            "Epoch 73/100\n",
            "16/16 [==============================] - 0s 4ms/step - loss: 0.4246 - accuracy: 0.7902 - val_loss: 0.4646 - val_accuracy: 0.7480\n",
            "Epoch 74/100\n",
            "16/16 [==============================] - 0s 5ms/step - loss: 0.4240 - accuracy: 0.7923 - val_loss: 0.4646 - val_accuracy: 0.7480\n",
            "Epoch 75/100\n",
            "16/16 [==============================] - 0s 4ms/step - loss: 0.4236 - accuracy: 0.7943 - val_loss: 0.4649 - val_accuracy: 0.7480\n",
            "Epoch 76/100\n",
            "16/16 [==============================] - 0s 4ms/step - loss: 0.4234 - accuracy: 0.7862 - val_loss: 0.4653 - val_accuracy: 0.7480\n",
            "Epoch 77/100\n",
            "16/16 [==============================] - 0s 4ms/step - loss: 0.4232 - accuracy: 0.7963 - val_loss: 0.4661 - val_accuracy: 0.7480\n",
            "Epoch 78/100\n",
            "16/16 [==============================] - 0s 4ms/step - loss: 0.4223 - accuracy: 0.7943 - val_loss: 0.4652 - val_accuracy: 0.7480\n",
            "Epoch 79/100\n",
            "16/16 [==============================] - 0s 4ms/step - loss: 0.4225 - accuracy: 0.7984 - val_loss: 0.4654 - val_accuracy: 0.7561\n",
            "Epoch 80/100\n",
            "16/16 [==============================] - 0s 5ms/step - loss: 0.4216 - accuracy: 0.7984 - val_loss: 0.4658 - val_accuracy: 0.7480\n",
            "Epoch 81/100\n",
            "16/16 [==============================] - 0s 5ms/step - loss: 0.4212 - accuracy: 0.7984 - val_loss: 0.4664 - val_accuracy: 0.7480\n",
            "Epoch 82/100\n",
            "16/16 [==============================] - 0s 4ms/step - loss: 0.4208 - accuracy: 0.7984 - val_loss: 0.4668 - val_accuracy: 0.7480\n",
            "Epoch 83/100\n",
            "16/16 [==============================] - 0s 4ms/step - loss: 0.4206 - accuracy: 0.7984 - val_loss: 0.4675 - val_accuracy: 0.7480\n",
            "Epoch 84/100\n",
            "16/16 [==============================] - 0s 4ms/step - loss: 0.4207 - accuracy: 0.7923 - val_loss: 0.4678 - val_accuracy: 0.7561\n",
            "Epoch 85/100\n",
            "16/16 [==============================] - 0s 4ms/step - loss: 0.4201 - accuracy: 0.7943 - val_loss: 0.4677 - val_accuracy: 0.7480\n",
            "Epoch 86/100\n",
            "16/16 [==============================] - 0s 4ms/step - loss: 0.4199 - accuracy: 0.7943 - val_loss: 0.4668 - val_accuracy: 0.7480\n",
            "Epoch 87/100\n",
            "16/16 [==============================] - 0s 5ms/step - loss: 0.4196 - accuracy: 0.7943 - val_loss: 0.4677 - val_accuracy: 0.7561\n",
            "Epoch 88/100\n",
            "16/16 [==============================] - 0s 4ms/step - loss: 0.4189 - accuracy: 0.7963 - val_loss: 0.4677 - val_accuracy: 0.7480\n",
            "Epoch 89/100\n",
            "16/16 [==============================] - 0s 4ms/step - loss: 0.4184 - accuracy: 0.7984 - val_loss: 0.4685 - val_accuracy: 0.7480\n",
            "Epoch 90/100\n",
            "16/16 [==============================] - 0s 4ms/step - loss: 0.4184 - accuracy: 0.7943 - val_loss: 0.4687 - val_accuracy: 0.7480\n",
            "Epoch 91/100\n",
            "16/16 [==============================] - 0s 4ms/step - loss: 0.4179 - accuracy: 0.7923 - val_loss: 0.4691 - val_accuracy: 0.7480\n",
            "Epoch 92/100\n",
            "16/16 [==============================] - 0s 5ms/step - loss: 0.4177 - accuracy: 0.7923 - val_loss: 0.4693 - val_accuracy: 0.7561\n",
            "Epoch 93/100\n",
            "16/16 [==============================] - 0s 5ms/step - loss: 0.4173 - accuracy: 0.7943 - val_loss: 0.4691 - val_accuracy: 0.7480\n",
            "Epoch 94/100\n",
            "16/16 [==============================] - 0s 4ms/step - loss: 0.4173 - accuracy: 0.7963 - val_loss: 0.4693 - val_accuracy: 0.7480\n",
            "Epoch 95/100\n",
            "16/16 [==============================] - 0s 10ms/step - loss: 0.4164 - accuracy: 0.7984 - val_loss: 0.4685 - val_accuracy: 0.7398\n",
            "Epoch 96/100\n",
            "16/16 [==============================] - 0s 7ms/step - loss: 0.4163 - accuracy: 0.7984 - val_loss: 0.4694 - val_accuracy: 0.7398\n",
            "Epoch 97/100\n",
            "16/16 [==============================] - 0s 10ms/step - loss: 0.4159 - accuracy: 0.7943 - val_loss: 0.4688 - val_accuracy: 0.7480\n",
            "Epoch 98/100\n",
            "16/16 [==============================] - 0s 10ms/step - loss: 0.4153 - accuracy: 0.8004 - val_loss: 0.4693 - val_accuracy: 0.7480\n",
            "Epoch 99/100\n",
            "16/16 [==============================] - 0s 7ms/step - loss: 0.4154 - accuracy: 0.8004 - val_loss: 0.4700 - val_accuracy: 0.7480\n",
            "Epoch 100/100\n",
            "16/16 [==============================] - 0s 8ms/step - loss: 0.4153 - accuracy: 0.7963 - val_loss: 0.4703 - val_accuracy: 0.7480\n"
          ]
        }
      ]
    },
    {
      "cell_type": "markdown",
      "source": [
        "#### 1. How to select appropriate optimizer\n",
        "#### 2. No. of neurons in a layer\n",
        "#### 3. How to select no. of hidden layers\n",
        "#### 4. All in one model"
      ],
      "metadata": {
        "id": "CvzWblobPNUP"
      }
    },
    {
      "cell_type": "code",
      "source": [
        "pip install keras-tuner"
      ],
      "metadata": {
        "colab": {
          "base_uri": "https://localhost:8080/"
        },
        "id": "ivKvgD_YPikl",
        "outputId": "acc61059-32b3-4d4f-cd6d-3226a30f41ad"
      },
      "execution_count": null,
      "outputs": [
        {
          "output_type": "stream",
          "name": "stdout",
          "text": [
            "Looking in indexes: https://pypi.org/simple, https://us-python.pkg.dev/colab-wheels/public/simple/\n",
            "Requirement already satisfied: keras-tuner in /usr/local/lib/python3.7/dist-packages (1.1.3)\n",
            "Requirement already satisfied: kt-legacy in /usr/local/lib/python3.7/dist-packages (from keras-tuner) (1.0.4)\n",
            "Requirement already satisfied: packaging in /usr/local/lib/python3.7/dist-packages (from keras-tuner) (21.3)\n",
            "Requirement already satisfied: numpy in /usr/local/lib/python3.7/dist-packages (from keras-tuner) (1.21.6)\n",
            "Requirement already satisfied: tensorboard in /usr/local/lib/python3.7/dist-packages (from keras-tuner) (2.8.0)\n",
            "Requirement already satisfied: ipython in /usr/local/lib/python3.7/dist-packages (from keras-tuner) (7.9.0)\n",
            "Requirement already satisfied: requests in /usr/local/lib/python3.7/dist-packages (from keras-tuner) (2.23.0)\n",
            "Requirement already satisfied: pygments in /usr/local/lib/python3.7/dist-packages (from ipython->keras-tuner) (2.6.1)\n",
            "Requirement already satisfied: jedi>=0.10 in /usr/local/lib/python3.7/dist-packages (from ipython->keras-tuner) (0.18.1)\n",
            "Requirement already satisfied: prompt-toolkit<2.1.0,>=2.0.0 in /usr/local/lib/python3.7/dist-packages (from ipython->keras-tuner) (2.0.10)\n",
            "Requirement already satisfied: pickleshare in /usr/local/lib/python3.7/dist-packages (from ipython->keras-tuner) (0.7.5)\n",
            "Requirement already satisfied: backcall in /usr/local/lib/python3.7/dist-packages (from ipython->keras-tuner) (0.2.0)\n",
            "Requirement already satisfied: setuptools>=18.5 in /usr/local/lib/python3.7/dist-packages (from ipython->keras-tuner) (57.4.0)\n",
            "Requirement already satisfied: traitlets>=4.2 in /usr/local/lib/python3.7/dist-packages (from ipython->keras-tuner) (5.1.1)\n",
            "Requirement already satisfied: decorator in /usr/local/lib/python3.7/dist-packages (from ipython->keras-tuner) (4.4.2)\n",
            "Requirement already satisfied: pexpect in /usr/local/lib/python3.7/dist-packages (from ipython->keras-tuner) (4.8.0)\n",
            "Requirement already satisfied: parso<0.9.0,>=0.8.0 in /usr/local/lib/python3.7/dist-packages (from jedi>=0.10->ipython->keras-tuner) (0.8.3)\n",
            "Requirement already satisfied: six>=1.9.0 in /usr/local/lib/python3.7/dist-packages (from prompt-toolkit<2.1.0,>=2.0.0->ipython->keras-tuner) (1.15.0)\n",
            "Requirement already satisfied: wcwidth in /usr/local/lib/python3.7/dist-packages (from prompt-toolkit<2.1.0,>=2.0.0->ipython->keras-tuner) (0.2.5)\n",
            "Requirement already satisfied: pyparsing!=3.0.5,>=2.0.2 in /usr/local/lib/python3.7/dist-packages (from packaging->keras-tuner) (3.0.9)\n",
            "Requirement already satisfied: ptyprocess>=0.5 in /usr/local/lib/python3.7/dist-packages (from pexpect->ipython->keras-tuner) (0.7.0)\n",
            "Requirement already satisfied: idna<3,>=2.5 in /usr/local/lib/python3.7/dist-packages (from requests->keras-tuner) (2.10)\n",
            "Requirement already satisfied: certifi>=2017.4.17 in /usr/local/lib/python3.7/dist-packages (from requests->keras-tuner) (2022.6.15)\n",
            "Requirement already satisfied: chardet<4,>=3.0.2 in /usr/local/lib/python3.7/dist-packages (from requests->keras-tuner) (3.0.4)\n",
            "Requirement already satisfied: urllib3!=1.25.0,!=1.25.1,<1.26,>=1.21.1 in /usr/local/lib/python3.7/dist-packages (from requests->keras-tuner) (1.24.3)\n",
            "Requirement already satisfied: protobuf>=3.6.0 in /usr/local/lib/python3.7/dist-packages (from tensorboard->keras-tuner) (3.17.3)\n",
            "Requirement already satisfied: google-auth-oauthlib<0.5,>=0.4.1 in /usr/local/lib/python3.7/dist-packages (from tensorboard->keras-tuner) (0.4.6)\n",
            "Requirement already satisfied: tensorboard-plugin-wit>=1.6.0 in /usr/local/lib/python3.7/dist-packages (from tensorboard->keras-tuner) (1.8.1)\n",
            "Requirement already satisfied: werkzeug>=0.11.15 in /usr/local/lib/python3.7/dist-packages (from tensorboard->keras-tuner) (1.0.1)\n",
            "Requirement already satisfied: wheel>=0.26 in /usr/local/lib/python3.7/dist-packages (from tensorboard->keras-tuner) (0.37.1)\n",
            "Requirement already satisfied: grpcio>=1.24.3 in /usr/local/lib/python3.7/dist-packages (from tensorboard->keras-tuner) (1.48.1)\n",
            "Requirement already satisfied: google-auth<3,>=1.6.3 in /usr/local/lib/python3.7/dist-packages (from tensorboard->keras-tuner) (1.35.0)\n",
            "Requirement already satisfied: tensorboard-data-server<0.7.0,>=0.6.0 in /usr/local/lib/python3.7/dist-packages (from tensorboard->keras-tuner) (0.6.1)\n",
            "Requirement already satisfied: markdown>=2.6.8 in /usr/local/lib/python3.7/dist-packages (from tensorboard->keras-tuner) (3.4.1)\n",
            "Requirement already satisfied: absl-py>=0.4 in /usr/local/lib/python3.7/dist-packages (from tensorboard->keras-tuner) (1.2.0)\n",
            "Requirement already satisfied: pyasn1-modules>=0.2.1 in /usr/local/lib/python3.7/dist-packages (from google-auth<3,>=1.6.3->tensorboard->keras-tuner) (0.2.8)\n",
            "Requirement already satisfied: rsa<5,>=3.1.4 in /usr/local/lib/python3.7/dist-packages (from google-auth<3,>=1.6.3->tensorboard->keras-tuner) (4.9)\n",
            "Requirement already satisfied: cachetools<5.0,>=2.0.0 in /usr/local/lib/python3.7/dist-packages (from google-auth<3,>=1.6.3->tensorboard->keras-tuner) (4.2.4)\n",
            "Requirement already satisfied: requests-oauthlib>=0.7.0 in /usr/local/lib/python3.7/dist-packages (from google-auth-oauthlib<0.5,>=0.4.1->tensorboard->keras-tuner) (1.3.1)\n",
            "Requirement already satisfied: importlib-metadata>=4.4 in /usr/local/lib/python3.7/dist-packages (from markdown>=2.6.8->tensorboard->keras-tuner) (4.12.0)\n",
            "Requirement already satisfied: zipp>=0.5 in /usr/local/lib/python3.7/dist-packages (from importlib-metadata>=4.4->markdown>=2.6.8->tensorboard->keras-tuner) (3.8.1)\n",
            "Requirement already satisfied: typing-extensions>=3.6.4 in /usr/local/lib/python3.7/dist-packages (from importlib-metadata>=4.4->markdown>=2.6.8->tensorboard->keras-tuner) (4.1.1)\n",
            "Requirement already satisfied: pyasn1<0.5.0,>=0.4.6 in /usr/local/lib/python3.7/dist-packages (from pyasn1-modules>=0.2.1->google-auth<3,>=1.6.3->tensorboard->keras-tuner) (0.4.8)\n",
            "Requirement already satisfied: oauthlib>=3.0.0 in /usr/local/lib/python3.7/dist-packages (from requests-oauthlib>=0.7.0->google-auth-oauthlib<0.5,>=0.4.1->tensorboard->keras-tuner) (3.2.0)\n"
          ]
        }
      ]
    },
    {
      "cell_type": "code",
      "source": [
        "import kerastuner as kt"
      ],
      "metadata": {
        "colab": {
          "base_uri": "https://localhost:8080/"
        },
        "id": "PXuVnS_1OoCg",
        "outputId": "52a2519e-7b9b-44a3-af1e-4356c3f16381"
      },
      "execution_count": null,
      "outputs": [
        {
          "output_type": "stream",
          "name": "stderr",
          "text": [
            "/usr/local/lib/python3.7/dist-packages/ipykernel_launcher.py:1: DeprecationWarning: `import kerastuner` is deprecated, please use `import keras_tuner`.\n",
            "  \"\"\"Entry point for launching an IPython kernel.\n"
          ]
        }
      ]
    },
    {
      "cell_type": "code",
      "source": [
        "def build_model(hp):\n",
        "  model = Sequential()\n",
        "  model.add(Dense(32,activation=\"relu\",input_dim=8))\n",
        "  model.add(Dense(1,activation=\"sigmoid\"))\n",
        "\n",
        "  model.compile(optimizer=hp.Choice(\"optimizer\",values=[\"adam\",\"sgd\",\"rmsprop\",\"adadelta\"]),loss=\"binary_crossentropy\",metrics=[\"accuracy\"])\n",
        "  return model"
      ],
      "metadata": {
        "id": "hOmVFK22PjKY"
      },
      "execution_count": null,
      "outputs": []
    },
    {
      "cell_type": "code",
      "source": [
        "tuner = kt.RandomSearch(build_model,\n",
        "                        objective=\"val_accuracy\",\n",
        "                        max_trials=5)"
      ],
      "metadata": {
        "id": "hH2VOASmQ36C"
      },
      "execution_count": null,
      "outputs": []
    },
    {
      "cell_type": "code",
      "source": [
        "tuner.search(X_train,y_train,epochs=5,validation_data=(X_test,y_test))"
      ],
      "metadata": {
        "id": "WSi45UjyRLAF"
      },
      "execution_count": null,
      "outputs": []
    },
    {
      "cell_type": "code",
      "source": [
        "tuner.get_best_hyperparameters()[0].values"
      ],
      "metadata": {
        "colab": {
          "base_uri": "https://localhost:8080/"
        },
        "id": "8Q08DjH_Rf92",
        "outputId": "f807e4c9-9025-472b-9653-069040e6dafd"
      },
      "execution_count": null,
      "outputs": [
        {
          "output_type": "execute_result",
          "data": {
            "text/plain": [
              "{'optimizer': 'rmsprop'}"
            ]
          },
          "metadata": {},
          "execution_count": 15
        }
      ]
    },
    {
      "cell_type": "code",
      "source": [
        "model = tuner.get_best_models(num_models=1)[0]"
      ],
      "metadata": {
        "id": "cknQiHLvR_PS"
      },
      "execution_count": null,
      "outputs": []
    },
    {
      "cell_type": "code",
      "source": [
        "model.summary()"
      ],
      "metadata": {
        "colab": {
          "base_uri": "https://localhost:8080/"
        },
        "id": "on5vt3esSIpV",
        "outputId": "838dc4f9-2550-4b00-f838-1458a2803079"
      },
      "execution_count": null,
      "outputs": [
        {
          "output_type": "stream",
          "name": "stdout",
          "text": [
            "Model: \"sequential\"\n",
            "_________________________________________________________________\n",
            " Layer (type)                Output Shape              Param #   \n",
            "=================================================================\n",
            " dense (Dense)               (None, 32)                288       \n",
            "                                                                 \n",
            " dense_1 (Dense)             (None, 1)                 33        \n",
            "                                                                 \n",
            "=================================================================\n",
            "Total params: 321\n",
            "Trainable params: 321\n",
            "Non-trainable params: 0\n",
            "_________________________________________________________________\n"
          ]
        }
      ]
    },
    {
      "cell_type": "code",
      "source": [
        "model.fit(X_train,y_train,epochs=100,initial_epoch=6,batch_size=32,validation_data=(X_test,y_test))"
      ],
      "metadata": {
        "colab": {
          "base_uri": "https://localhost:8080/"
        },
        "id": "rNcp9RdOSKfb",
        "outputId": "7f1a7f37-7739-418e-b36a-4db3d4826c2c"
      },
      "execution_count": null,
      "outputs": [
        {
          "output_type": "stream",
          "name": "stdout",
          "text": [
            "Epoch 7/100\n",
            "20/20 [==============================] - 1s 18ms/step - loss: 0.5388 - accuracy: 0.7541 - val_loss: 0.5268 - val_accuracy: 0.7857\n",
            "Epoch 8/100\n",
            "20/20 [==============================] - 0s 5ms/step - loss: 0.5222 - accuracy: 0.7590 - val_loss: 0.5110 - val_accuracy: 0.7922\n",
            "Epoch 9/100\n",
            "20/20 [==============================] - 0s 5ms/step - loss: 0.5090 - accuracy: 0.7622 - val_loss: 0.4994 - val_accuracy: 0.8052\n",
            "Epoch 10/100\n",
            "20/20 [==============================] - 0s 5ms/step - loss: 0.4992 - accuracy: 0.7622 - val_loss: 0.4902 - val_accuracy: 0.7987\n",
            "Epoch 11/100\n",
            "20/20 [==============================] - 0s 5ms/step - loss: 0.4912 - accuracy: 0.7736 - val_loss: 0.4821 - val_accuracy: 0.8052\n",
            "Epoch 12/100\n",
            "20/20 [==============================] - 0s 4ms/step - loss: 0.4846 - accuracy: 0.7671 - val_loss: 0.4754 - val_accuracy: 0.7987\n",
            "Epoch 13/100\n",
            "20/20 [==============================] - 0s 4ms/step - loss: 0.4790 - accuracy: 0.7736 - val_loss: 0.4715 - val_accuracy: 0.7922\n",
            "Epoch 14/100\n",
            "20/20 [==============================] - 0s 5ms/step - loss: 0.4750 - accuracy: 0.7687 - val_loss: 0.4685 - val_accuracy: 0.7987\n",
            "Epoch 15/100\n",
            "20/20 [==============================] - 0s 5ms/step - loss: 0.4713 - accuracy: 0.7720 - val_loss: 0.4662 - val_accuracy: 0.7987\n",
            "Epoch 16/100\n",
            "20/20 [==============================] - 0s 4ms/step - loss: 0.4682 - accuracy: 0.7736 - val_loss: 0.4645 - val_accuracy: 0.8052\n",
            "Epoch 17/100\n",
            "20/20 [==============================] - 0s 4ms/step - loss: 0.4657 - accuracy: 0.7752 - val_loss: 0.4608 - val_accuracy: 0.7987\n",
            "Epoch 18/100\n",
            "20/20 [==============================] - 0s 4ms/step - loss: 0.4638 - accuracy: 0.7736 - val_loss: 0.4602 - val_accuracy: 0.7987\n",
            "Epoch 19/100\n",
            "20/20 [==============================] - 0s 4ms/step - loss: 0.4620 - accuracy: 0.7752 - val_loss: 0.4601 - val_accuracy: 0.7987\n",
            "Epoch 20/100\n",
            "20/20 [==============================] - 0s 4ms/step - loss: 0.4607 - accuracy: 0.7687 - val_loss: 0.4588 - val_accuracy: 0.7987\n",
            "Epoch 21/100\n",
            "20/20 [==============================] - 0s 5ms/step - loss: 0.4588 - accuracy: 0.7704 - val_loss: 0.4586 - val_accuracy: 0.7987\n",
            "Epoch 22/100\n",
            "20/20 [==============================] - 0s 4ms/step - loss: 0.4575 - accuracy: 0.7720 - val_loss: 0.4589 - val_accuracy: 0.7857\n",
            "Epoch 23/100\n",
            "20/20 [==============================] - 0s 4ms/step - loss: 0.4568 - accuracy: 0.7704 - val_loss: 0.4596 - val_accuracy: 0.7857\n",
            "Epoch 24/100\n",
            "20/20 [==============================] - 0s 4ms/step - loss: 0.4548 - accuracy: 0.7736 - val_loss: 0.4584 - val_accuracy: 0.7922\n",
            "Epoch 25/100\n",
            "20/20 [==============================] - 0s 5ms/step - loss: 0.4542 - accuracy: 0.7687 - val_loss: 0.4584 - val_accuracy: 0.7857\n",
            "Epoch 26/100\n",
            "20/20 [==============================] - 0s 5ms/step - loss: 0.4530 - accuracy: 0.7736 - val_loss: 0.4576 - val_accuracy: 0.7857\n",
            "Epoch 27/100\n",
            "20/20 [==============================] - 0s 5ms/step - loss: 0.4522 - accuracy: 0.7704 - val_loss: 0.4572 - val_accuracy: 0.7857\n",
            "Epoch 28/100\n",
            "20/20 [==============================] - 0s 5ms/step - loss: 0.4514 - accuracy: 0.7720 - val_loss: 0.4575 - val_accuracy: 0.7922\n",
            "Epoch 29/100\n",
            "20/20 [==============================] - 0s 4ms/step - loss: 0.4502 - accuracy: 0.7736 - val_loss: 0.4572 - val_accuracy: 0.7987\n",
            "Epoch 30/100\n",
            "20/20 [==============================] - 0s 4ms/step - loss: 0.4493 - accuracy: 0.7736 - val_loss: 0.4575 - val_accuracy: 0.7922\n",
            "Epoch 31/100\n",
            "20/20 [==============================] - 0s 4ms/step - loss: 0.4488 - accuracy: 0.7769 - val_loss: 0.4573 - val_accuracy: 0.7922\n",
            "Epoch 32/100\n",
            "20/20 [==============================] - 0s 5ms/step - loss: 0.4479 - accuracy: 0.7736 - val_loss: 0.4576 - val_accuracy: 0.7922\n",
            "Epoch 33/100\n",
            "20/20 [==============================] - 0s 4ms/step - loss: 0.4474 - accuracy: 0.7752 - val_loss: 0.4577 - val_accuracy: 0.7922\n",
            "Epoch 34/100\n",
            "20/20 [==============================] - 0s 4ms/step - loss: 0.4463 - accuracy: 0.7785 - val_loss: 0.4578 - val_accuracy: 0.7922\n",
            "Epoch 35/100\n",
            "20/20 [==============================] - 0s 5ms/step - loss: 0.4459 - accuracy: 0.7769 - val_loss: 0.4583 - val_accuracy: 0.7922\n",
            "Epoch 36/100\n",
            "20/20 [==============================] - 0s 5ms/step - loss: 0.4451 - accuracy: 0.7834 - val_loss: 0.4586 - val_accuracy: 0.7922\n",
            "Epoch 37/100\n",
            "20/20 [==============================] - 0s 4ms/step - loss: 0.4441 - accuracy: 0.7736 - val_loss: 0.4582 - val_accuracy: 0.7922\n",
            "Epoch 38/100\n",
            "20/20 [==============================] - 0s 5ms/step - loss: 0.4438 - accuracy: 0.7801 - val_loss: 0.4577 - val_accuracy: 0.7922\n",
            "Epoch 39/100\n",
            "20/20 [==============================] - 0s 4ms/step - loss: 0.4431 - accuracy: 0.7801 - val_loss: 0.4584 - val_accuracy: 0.7922\n",
            "Epoch 40/100\n",
            "20/20 [==============================] - 0s 4ms/step - loss: 0.4421 - accuracy: 0.7834 - val_loss: 0.4590 - val_accuracy: 0.7922\n",
            "Epoch 41/100\n",
            "20/20 [==============================] - 0s 5ms/step - loss: 0.4416 - accuracy: 0.7801 - val_loss: 0.4585 - val_accuracy: 0.7987\n",
            "Epoch 42/100\n",
            "20/20 [==============================] - 0s 4ms/step - loss: 0.4410 - accuracy: 0.7818 - val_loss: 0.4582 - val_accuracy: 0.7987\n",
            "Epoch 43/100\n",
            "20/20 [==============================] - 0s 4ms/step - loss: 0.4404 - accuracy: 0.7801 - val_loss: 0.4589 - val_accuracy: 0.7987\n",
            "Epoch 44/100\n",
            "20/20 [==============================] - 0s 4ms/step - loss: 0.4398 - accuracy: 0.7850 - val_loss: 0.4594 - val_accuracy: 0.7987\n",
            "Epoch 45/100\n",
            "20/20 [==============================] - 0s 4ms/step - loss: 0.4391 - accuracy: 0.7818 - val_loss: 0.4596 - val_accuracy: 0.7987\n",
            "Epoch 46/100\n",
            "20/20 [==============================] - 0s 5ms/step - loss: 0.4387 - accuracy: 0.7850 - val_loss: 0.4607 - val_accuracy: 0.7987\n",
            "Epoch 47/100\n",
            "20/20 [==============================] - 0s 5ms/step - loss: 0.4381 - accuracy: 0.7883 - val_loss: 0.4600 - val_accuracy: 0.7922\n",
            "Epoch 48/100\n",
            "20/20 [==============================] - 0s 5ms/step - loss: 0.4376 - accuracy: 0.7818 - val_loss: 0.4594 - val_accuracy: 0.7987\n",
            "Epoch 49/100\n",
            "20/20 [==============================] - 0s 6ms/step - loss: 0.4368 - accuracy: 0.7850 - val_loss: 0.4591 - val_accuracy: 0.7922\n",
            "Epoch 50/100\n",
            "20/20 [==============================] - 0s 4ms/step - loss: 0.4364 - accuracy: 0.7883 - val_loss: 0.4602 - val_accuracy: 0.7922\n",
            "Epoch 51/100\n",
            "20/20 [==============================] - 0s 5ms/step - loss: 0.4361 - accuracy: 0.7834 - val_loss: 0.4605 - val_accuracy: 0.8052\n",
            "Epoch 52/100\n",
            "20/20 [==============================] - 0s 4ms/step - loss: 0.4358 - accuracy: 0.7883 - val_loss: 0.4595 - val_accuracy: 0.8052\n",
            "Epoch 53/100\n",
            "20/20 [==============================] - 0s 4ms/step - loss: 0.4348 - accuracy: 0.7883 - val_loss: 0.4588 - val_accuracy: 0.7922\n",
            "Epoch 54/100\n",
            "20/20 [==============================] - 0s 4ms/step - loss: 0.4345 - accuracy: 0.7834 - val_loss: 0.4588 - val_accuracy: 0.7987\n",
            "Epoch 55/100\n",
            "20/20 [==============================] - 0s 4ms/step - loss: 0.4341 - accuracy: 0.7899 - val_loss: 0.4598 - val_accuracy: 0.8052\n",
            "Epoch 56/100\n",
            "20/20 [==============================] - 0s 5ms/step - loss: 0.4340 - accuracy: 0.7883 - val_loss: 0.4592 - val_accuracy: 0.7987\n",
            "Epoch 57/100\n",
            "20/20 [==============================] - 0s 5ms/step - loss: 0.4330 - accuracy: 0.7850 - val_loss: 0.4594 - val_accuracy: 0.7922\n",
            "Epoch 58/100\n",
            "20/20 [==============================] - 0s 4ms/step - loss: 0.4325 - accuracy: 0.7866 - val_loss: 0.4594 - val_accuracy: 0.7987\n",
            "Epoch 59/100\n",
            "20/20 [==============================] - 0s 4ms/step - loss: 0.4324 - accuracy: 0.7866 - val_loss: 0.4584 - val_accuracy: 0.7922\n",
            "Epoch 60/100\n",
            "20/20 [==============================] - 0s 4ms/step - loss: 0.4318 - accuracy: 0.7834 - val_loss: 0.4582 - val_accuracy: 0.7987\n",
            "Epoch 61/100\n",
            "20/20 [==============================] - 0s 5ms/step - loss: 0.4312 - accuracy: 0.7866 - val_loss: 0.4585 - val_accuracy: 0.8052\n",
            "Epoch 62/100\n",
            "20/20 [==============================] - 0s 4ms/step - loss: 0.4308 - accuracy: 0.7899 - val_loss: 0.4583 - val_accuracy: 0.8117\n",
            "Epoch 63/100\n",
            "20/20 [==============================] - 0s 5ms/step - loss: 0.4304 - accuracy: 0.7883 - val_loss: 0.4589 - val_accuracy: 0.8117\n",
            "Epoch 64/100\n",
            "20/20 [==============================] - 0s 5ms/step - loss: 0.4305 - accuracy: 0.7883 - val_loss: 0.4599 - val_accuracy: 0.8052\n",
            "Epoch 65/100\n",
            "20/20 [==============================] - 0s 5ms/step - loss: 0.4299 - accuracy: 0.7915 - val_loss: 0.4597 - val_accuracy: 0.8117\n",
            "Epoch 66/100\n",
            "20/20 [==============================] - 0s 5ms/step - loss: 0.4296 - accuracy: 0.7932 - val_loss: 0.4594 - val_accuracy: 0.8052\n",
            "Epoch 67/100\n",
            "20/20 [==============================] - 0s 5ms/step - loss: 0.4291 - accuracy: 0.7899 - val_loss: 0.4568 - val_accuracy: 0.7987\n",
            "Epoch 68/100\n",
            "20/20 [==============================] - 0s 4ms/step - loss: 0.4288 - accuracy: 0.7932 - val_loss: 0.4574 - val_accuracy: 0.7987\n",
            "Epoch 69/100\n",
            "20/20 [==============================] - 0s 4ms/step - loss: 0.4283 - accuracy: 0.7899 - val_loss: 0.4581 - val_accuracy: 0.8052\n",
            "Epoch 70/100\n",
            "20/20 [==============================] - 0s 4ms/step - loss: 0.4286 - accuracy: 0.7883 - val_loss: 0.4577 - val_accuracy: 0.8052\n",
            "Epoch 71/100\n",
            "20/20 [==============================] - 0s 4ms/step - loss: 0.4277 - accuracy: 0.7948 - val_loss: 0.4579 - val_accuracy: 0.8052\n",
            "Epoch 72/100\n",
            "20/20 [==============================] - 0s 5ms/step - loss: 0.4272 - accuracy: 0.7899 - val_loss: 0.4570 - val_accuracy: 0.8052\n",
            "Epoch 73/100\n",
            "20/20 [==============================] - 0s 5ms/step - loss: 0.4267 - accuracy: 0.7932 - val_loss: 0.4562 - val_accuracy: 0.8052\n",
            "Epoch 74/100\n",
            "20/20 [==============================] - 0s 4ms/step - loss: 0.4266 - accuracy: 0.7948 - val_loss: 0.4557 - val_accuracy: 0.8052\n",
            "Epoch 75/100\n",
            "20/20 [==============================] - 0s 5ms/step - loss: 0.4260 - accuracy: 0.7980 - val_loss: 0.4561 - val_accuracy: 0.8052\n",
            "Epoch 76/100\n",
            "20/20 [==============================] - 0s 4ms/step - loss: 0.4258 - accuracy: 0.7980 - val_loss: 0.4563 - val_accuracy: 0.8052\n",
            "Epoch 77/100\n",
            "20/20 [==============================] - 0s 4ms/step - loss: 0.4257 - accuracy: 0.7948 - val_loss: 0.4563 - val_accuracy: 0.8052\n",
            "Epoch 78/100\n",
            "20/20 [==============================] - 0s 5ms/step - loss: 0.4249 - accuracy: 0.7915 - val_loss: 0.4553 - val_accuracy: 0.8052\n",
            "Epoch 79/100\n",
            "20/20 [==============================] - 0s 4ms/step - loss: 0.4245 - accuracy: 0.8029 - val_loss: 0.4555 - val_accuracy: 0.8052\n",
            "Epoch 80/100\n",
            "20/20 [==============================] - 0s 4ms/step - loss: 0.4243 - accuracy: 0.7948 - val_loss: 0.4552 - val_accuracy: 0.8052\n",
            "Epoch 81/100\n",
            "20/20 [==============================] - 0s 5ms/step - loss: 0.4241 - accuracy: 0.8029 - val_loss: 0.4551 - val_accuracy: 0.8052\n",
            "Epoch 82/100\n",
            "20/20 [==============================] - 0s 4ms/step - loss: 0.4244 - accuracy: 0.8013 - val_loss: 0.4556 - val_accuracy: 0.8052\n",
            "Epoch 83/100\n",
            "20/20 [==============================] - 0s 5ms/step - loss: 0.4235 - accuracy: 0.7948 - val_loss: 0.4555 - val_accuracy: 0.8117\n",
            "Epoch 84/100\n",
            "20/20 [==============================] - 0s 5ms/step - loss: 0.4229 - accuracy: 0.7997 - val_loss: 0.4561 - val_accuracy: 0.8052\n",
            "Epoch 85/100\n",
            "20/20 [==============================] - 0s 5ms/step - loss: 0.4229 - accuracy: 0.7964 - val_loss: 0.4564 - val_accuracy: 0.8052\n",
            "Epoch 86/100\n",
            "20/20 [==============================] - 0s 4ms/step - loss: 0.4229 - accuracy: 0.7997 - val_loss: 0.4557 - val_accuracy: 0.8052\n",
            "Epoch 87/100\n",
            "20/20 [==============================] - 0s 5ms/step - loss: 0.4225 - accuracy: 0.7997 - val_loss: 0.4564 - val_accuracy: 0.8052\n",
            "Epoch 88/100\n",
            "20/20 [==============================] - 0s 5ms/step - loss: 0.4221 - accuracy: 0.7980 - val_loss: 0.4568 - val_accuracy: 0.8052\n",
            "Epoch 89/100\n",
            "20/20 [==============================] - 0s 5ms/step - loss: 0.4219 - accuracy: 0.7980 - val_loss: 0.4553 - val_accuracy: 0.8052\n",
            "Epoch 90/100\n",
            "20/20 [==============================] - 0s 5ms/step - loss: 0.4215 - accuracy: 0.8013 - val_loss: 0.4556 - val_accuracy: 0.8052\n",
            "Epoch 91/100\n",
            "20/20 [==============================] - 0s 4ms/step - loss: 0.4213 - accuracy: 0.7997 - val_loss: 0.4556 - val_accuracy: 0.8117\n",
            "Epoch 92/100\n",
            "20/20 [==============================] - 0s 4ms/step - loss: 0.4212 - accuracy: 0.8013 - val_loss: 0.4559 - val_accuracy: 0.8117\n",
            "Epoch 93/100\n",
            "20/20 [==============================] - 0s 4ms/step - loss: 0.4206 - accuracy: 0.8013 - val_loss: 0.4564 - val_accuracy: 0.8117\n",
            "Epoch 94/100\n",
            "20/20 [==============================] - 0s 4ms/step - loss: 0.4202 - accuracy: 0.8013 - val_loss: 0.4575 - val_accuracy: 0.8117\n",
            "Epoch 95/100\n",
            "20/20 [==============================] - 0s 5ms/step - loss: 0.4198 - accuracy: 0.8013 - val_loss: 0.4573 - val_accuracy: 0.8117\n",
            "Epoch 96/100\n",
            "20/20 [==============================] - 0s 5ms/step - loss: 0.4195 - accuracy: 0.8029 - val_loss: 0.4570 - val_accuracy: 0.8117\n",
            "Epoch 97/100\n",
            "20/20 [==============================] - 0s 4ms/step - loss: 0.4194 - accuracy: 0.7997 - val_loss: 0.4571 - val_accuracy: 0.8117\n",
            "Epoch 98/100\n",
            "20/20 [==============================] - 0s 5ms/step - loss: 0.4191 - accuracy: 0.8029 - val_loss: 0.4571 - val_accuracy: 0.8117\n",
            "Epoch 99/100\n",
            "20/20 [==============================] - 0s 4ms/step - loss: 0.4191 - accuracy: 0.8046 - val_loss: 0.4578 - val_accuracy: 0.8117\n",
            "Epoch 100/100\n",
            "20/20 [==============================] - 0s 4ms/step - loss: 0.4189 - accuracy: 0.8029 - val_loss: 0.4578 - val_accuracy: 0.8117\n"
          ]
        },
        {
          "output_type": "execute_result",
          "data": {
            "text/plain": [
              "<keras.callbacks.History at 0x7f9680307590>"
            ]
          },
          "metadata": {},
          "execution_count": 18
        }
      ]
    },
    {
      "cell_type": "markdown",
      "source": [
        "### **To find no. of neurons**"
      ],
      "metadata": {
        "id": "-fS4OQySSjr6"
      }
    },
    {
      "cell_type": "code",
      "source": [
        "def build_model(hp):\n",
        "  model = Sequential()\n",
        "\n",
        "  units = hp.Int(\"units\",8,128,step=8)\n",
        "  model.add(Dense(units=units,activation=\"relu\",input_dim=8))\n",
        "  model.add(Dense(1,activation=\"sigmoid\"))\n",
        "\n",
        "  model.compile(optimizer=\"rmsprop\",loss=\"binary_crossentropy\",metrics=[\"accuracy\"])\n",
        "\n",
        "  return model "
      ],
      "metadata": {
        "id": "YAUDJpYDScNP"
      },
      "execution_count": null,
      "outputs": []
    },
    {
      "cell_type": "code",
      "source": [
        "tuner = kt.RandomSearch(build_model,\n",
        "                        objective=\"val_accuracy\",\n",
        "                        max_trials=5,\n",
        "                        directory = \"new_dir\",\n",
        "                        project_name=\"tuner\")"
      ],
      "metadata": {
        "id": "BV_RALSYTT7H"
      },
      "execution_count": null,
      "outputs": []
    },
    {
      "cell_type": "code",
      "source": [
        "tuner.search(X_train,y_train,epochs=5,validation_data=(X_test,y_test))"
      ],
      "metadata": {
        "colab": {
          "base_uri": "https://localhost:8080/"
        },
        "id": "4BWTEy3ZTiDB",
        "outputId": "a229ee44-2fe6-455c-e136-1df1bfe8c31d"
      },
      "execution_count": null,
      "outputs": [
        {
          "output_type": "stream",
          "name": "stdout",
          "text": [
            "Trial 5 Complete [00h 00m 02s]\n",
            "val_accuracy: 0.798701286315918\n",
            "\n",
            "Best val_accuracy So Far: 0.8051947951316833\n",
            "Total elapsed time: 00h 00m 08s\n"
          ]
        }
      ]
    },
    {
      "cell_type": "code",
      "source": [
        "tuner.get_best_hyperparameters()[0].values"
      ],
      "metadata": {
        "colab": {
          "base_uri": "https://localhost:8080/"
        },
        "id": "hd6n4xlkT2Lf",
        "outputId": "2482de8d-9588-4548-9c77-db48efa6baed"
      },
      "execution_count": null,
      "outputs": [
        {
          "output_type": "execute_result",
          "data": {
            "text/plain": [
              "{'units': 104}"
            ]
          },
          "metadata": {},
          "execution_count": 34
        }
      ]
    },
    {
      "cell_type": "code",
      "source": [
        "model = tuner.get_best_models(num_models=1)[0]"
      ],
      "metadata": {
        "id": "0mfm83AnUw0H"
      },
      "execution_count": null,
      "outputs": []
    },
    {
      "cell_type": "code",
      "source": [
        "model.fit(X_train,y_train,epochs=100,initial_epoch=6,validation_data=(X_test,y_test))"
      ],
      "metadata": {
        "colab": {
          "base_uri": "https://localhost:8080/"
        },
        "id": "5d-H80bOVKHG",
        "outputId": "5549087d-6d03-4d23-d5ee-e8a9253daadf"
      },
      "execution_count": null,
      "outputs": [
        {
          "output_type": "stream",
          "name": "stdout",
          "text": [
            "Epoch 7/100\n",
            "20/20 [==============================] - 0s 10ms/step - loss: 0.3958 - accuracy: 0.8176 - val_loss: 0.4553 - val_accuracy: 0.8182\n",
            "Epoch 8/100\n",
            "20/20 [==============================] - 0s 5ms/step - loss: 0.3945 - accuracy: 0.8208 - val_loss: 0.4564 - val_accuracy: 0.8117\n",
            "Epoch 9/100\n",
            "20/20 [==============================] - 0s 4ms/step - loss: 0.3939 - accuracy: 0.8257 - val_loss: 0.4537 - val_accuracy: 0.8182\n",
            "Epoch 10/100\n",
            "20/20 [==============================] - 0s 5ms/step - loss: 0.3941 - accuracy: 0.8208 - val_loss: 0.4550 - val_accuracy: 0.8117\n",
            "Epoch 11/100\n",
            "20/20 [==============================] - 0s 5ms/step - loss: 0.3931 - accuracy: 0.8306 - val_loss: 0.4556 - val_accuracy: 0.8117\n",
            "Epoch 12/100\n",
            "20/20 [==============================] - 0s 4ms/step - loss: 0.3929 - accuracy: 0.8241 - val_loss: 0.4574 - val_accuracy: 0.8312\n",
            "Epoch 13/100\n",
            "20/20 [==============================] - 0s 4ms/step - loss: 0.3927 - accuracy: 0.8257 - val_loss: 0.4568 - val_accuracy: 0.8117\n",
            "Epoch 14/100\n",
            "20/20 [==============================] - 0s 5ms/step - loss: 0.3919 - accuracy: 0.8274 - val_loss: 0.4598 - val_accuracy: 0.8182\n",
            "Epoch 15/100\n",
            "20/20 [==============================] - 0s 5ms/step - loss: 0.3912 - accuracy: 0.8306 - val_loss: 0.4584 - val_accuracy: 0.8117\n",
            "Epoch 16/100\n",
            "20/20 [==============================] - 0s 5ms/step - loss: 0.3916 - accuracy: 0.8225 - val_loss: 0.4581 - val_accuracy: 0.8117\n",
            "Epoch 17/100\n",
            "20/20 [==============================] - 0s 5ms/step - loss: 0.3900 - accuracy: 0.8257 - val_loss: 0.4564 - val_accuracy: 0.8182\n",
            "Epoch 18/100\n",
            "20/20 [==============================] - 0s 5ms/step - loss: 0.3909 - accuracy: 0.8225 - val_loss: 0.4578 - val_accuracy: 0.8117\n",
            "Epoch 19/100\n",
            "20/20 [==============================] - 0s 5ms/step - loss: 0.3896 - accuracy: 0.8290 - val_loss: 0.4589 - val_accuracy: 0.8117\n",
            "Epoch 20/100\n",
            "20/20 [==============================] - 0s 4ms/step - loss: 0.3887 - accuracy: 0.8274 - val_loss: 0.4572 - val_accuracy: 0.8117\n",
            "Epoch 21/100\n",
            "20/20 [==============================] - 0s 4ms/step - loss: 0.3879 - accuracy: 0.8225 - val_loss: 0.4571 - val_accuracy: 0.8117\n",
            "Epoch 22/100\n",
            "20/20 [==============================] - 0s 4ms/step - loss: 0.3886 - accuracy: 0.8192 - val_loss: 0.4576 - val_accuracy: 0.8052\n",
            "Epoch 23/100\n",
            "20/20 [==============================] - 0s 4ms/step - loss: 0.3876 - accuracy: 0.8241 - val_loss: 0.4595 - val_accuracy: 0.8117\n",
            "Epoch 24/100\n",
            "20/20 [==============================] - 0s 5ms/step - loss: 0.3869 - accuracy: 0.8208 - val_loss: 0.4597 - val_accuracy: 0.8117\n",
            "Epoch 25/100\n",
            "20/20 [==============================] - 0s 5ms/step - loss: 0.3869 - accuracy: 0.8290 - val_loss: 0.4568 - val_accuracy: 0.8117\n",
            "Epoch 26/100\n",
            "20/20 [==============================] - 0s 4ms/step - loss: 0.3862 - accuracy: 0.8290 - val_loss: 0.4598 - val_accuracy: 0.8117\n",
            "Epoch 27/100\n",
            "20/20 [==============================] - 0s 4ms/step - loss: 0.3864 - accuracy: 0.8208 - val_loss: 0.4571 - val_accuracy: 0.8117\n",
            "Epoch 28/100\n",
            "20/20 [==============================] - 0s 5ms/step - loss: 0.3858 - accuracy: 0.8241 - val_loss: 0.4576 - val_accuracy: 0.8117\n",
            "Epoch 29/100\n",
            "20/20 [==============================] - 0s 5ms/step - loss: 0.3853 - accuracy: 0.8274 - val_loss: 0.4598 - val_accuracy: 0.8117\n",
            "Epoch 30/100\n",
            "20/20 [==============================] - 0s 5ms/step - loss: 0.3844 - accuracy: 0.8339 - val_loss: 0.4591 - val_accuracy: 0.8117\n",
            "Epoch 31/100\n",
            "20/20 [==============================] - 0s 4ms/step - loss: 0.3840 - accuracy: 0.8241 - val_loss: 0.4602 - val_accuracy: 0.8182\n",
            "Epoch 32/100\n",
            "20/20 [==============================] - 0s 5ms/step - loss: 0.3837 - accuracy: 0.8257 - val_loss: 0.4576 - val_accuracy: 0.8117\n",
            "Epoch 33/100\n",
            "20/20 [==============================] - 0s 4ms/step - loss: 0.3831 - accuracy: 0.8274 - val_loss: 0.4567 - val_accuracy: 0.8117\n",
            "Epoch 34/100\n",
            "20/20 [==============================] - 0s 5ms/step - loss: 0.3826 - accuracy: 0.8241 - val_loss: 0.4567 - val_accuracy: 0.8247\n",
            "Epoch 35/100\n",
            "20/20 [==============================] - 0s 4ms/step - loss: 0.3819 - accuracy: 0.8290 - val_loss: 0.4574 - val_accuracy: 0.8117\n",
            "Epoch 36/100\n",
            "20/20 [==============================] - 0s 4ms/step - loss: 0.3812 - accuracy: 0.8322 - val_loss: 0.4555 - val_accuracy: 0.8117\n",
            "Epoch 37/100\n",
            "20/20 [==============================] - 0s 5ms/step - loss: 0.3805 - accuracy: 0.8306 - val_loss: 0.4554 - val_accuracy: 0.8117\n",
            "Epoch 38/100\n",
            "20/20 [==============================] - 0s 5ms/step - loss: 0.3812 - accuracy: 0.8274 - val_loss: 0.4554 - val_accuracy: 0.8117\n",
            "Epoch 39/100\n",
            "20/20 [==============================] - 0s 5ms/step - loss: 0.3809 - accuracy: 0.8322 - val_loss: 0.4550 - val_accuracy: 0.8117\n",
            "Epoch 40/100\n",
            "20/20 [==============================] - 0s 5ms/step - loss: 0.3798 - accuracy: 0.8257 - val_loss: 0.4555 - val_accuracy: 0.8117\n",
            "Epoch 41/100\n",
            "20/20 [==============================] - 0s 4ms/step - loss: 0.3799 - accuracy: 0.8192 - val_loss: 0.4561 - val_accuracy: 0.8117\n",
            "Epoch 42/100\n",
            "20/20 [==============================] - 0s 4ms/step - loss: 0.3792 - accuracy: 0.8274 - val_loss: 0.4587 - val_accuracy: 0.8117\n",
            "Epoch 43/100\n",
            "20/20 [==============================] - 0s 4ms/step - loss: 0.3796 - accuracy: 0.8306 - val_loss: 0.4603 - val_accuracy: 0.8117\n",
            "Epoch 44/100\n",
            "20/20 [==============================] - 0s 5ms/step - loss: 0.3779 - accuracy: 0.8371 - val_loss: 0.4560 - val_accuracy: 0.8117\n",
            "Epoch 45/100\n",
            "20/20 [==============================] - 0s 4ms/step - loss: 0.3779 - accuracy: 0.8322 - val_loss: 0.4564 - val_accuracy: 0.8117\n",
            "Epoch 46/100\n",
            "20/20 [==============================] - 0s 5ms/step - loss: 0.3784 - accuracy: 0.8225 - val_loss: 0.4580 - val_accuracy: 0.8117\n",
            "Epoch 47/100\n",
            "20/20 [==============================] - 0s 4ms/step - loss: 0.3774 - accuracy: 0.8274 - val_loss: 0.4576 - val_accuracy: 0.8117\n",
            "Epoch 48/100\n",
            "20/20 [==============================] - 0s 4ms/step - loss: 0.3771 - accuracy: 0.8322 - val_loss: 0.4571 - val_accuracy: 0.8117\n",
            "Epoch 49/100\n",
            "20/20 [==============================] - 0s 4ms/step - loss: 0.3764 - accuracy: 0.8306 - val_loss: 0.4581 - val_accuracy: 0.8117\n",
            "Epoch 50/100\n",
            "20/20 [==============================] - 0s 5ms/step - loss: 0.3761 - accuracy: 0.8257 - val_loss: 0.4576 - val_accuracy: 0.8117\n",
            "Epoch 51/100\n",
            "20/20 [==============================] - 0s 5ms/step - loss: 0.3758 - accuracy: 0.8257 - val_loss: 0.4612 - val_accuracy: 0.8117\n",
            "Epoch 52/100\n",
            "20/20 [==============================] - 0s 4ms/step - loss: 0.3741 - accuracy: 0.8290 - val_loss: 0.4605 - val_accuracy: 0.8052\n",
            "Epoch 53/100\n",
            "20/20 [==============================] - 0s 4ms/step - loss: 0.3753 - accuracy: 0.8290 - val_loss: 0.4601 - val_accuracy: 0.8052\n",
            "Epoch 54/100\n",
            "20/20 [==============================] - 0s 5ms/step - loss: 0.3742 - accuracy: 0.8322 - val_loss: 0.4639 - val_accuracy: 0.8117\n",
            "Epoch 55/100\n",
            "20/20 [==============================] - 0s 5ms/step - loss: 0.3742 - accuracy: 0.8371 - val_loss: 0.4579 - val_accuracy: 0.8117\n",
            "Epoch 56/100\n",
            "20/20 [==============================] - 0s 5ms/step - loss: 0.3740 - accuracy: 0.8241 - val_loss: 0.4583 - val_accuracy: 0.8117\n",
            "Epoch 57/100\n",
            "20/20 [==============================] - 0s 4ms/step - loss: 0.3725 - accuracy: 0.8274 - val_loss: 0.4595 - val_accuracy: 0.8117\n",
            "Epoch 58/100\n",
            "20/20 [==============================] - 0s 4ms/step - loss: 0.3729 - accuracy: 0.8225 - val_loss: 0.4586 - val_accuracy: 0.8182\n",
            "Epoch 59/100\n",
            "20/20 [==============================] - 0s 4ms/step - loss: 0.3731 - accuracy: 0.8322 - val_loss: 0.4604 - val_accuracy: 0.8182\n",
            "Epoch 60/100\n",
            "20/20 [==============================] - 0s 4ms/step - loss: 0.3717 - accuracy: 0.8404 - val_loss: 0.4630 - val_accuracy: 0.8117\n",
            "Epoch 61/100\n",
            "20/20 [==============================] - 0s 4ms/step - loss: 0.3727 - accuracy: 0.8322 - val_loss: 0.4579 - val_accuracy: 0.8117\n",
            "Epoch 62/100\n",
            "20/20 [==============================] - 0s 4ms/step - loss: 0.3710 - accuracy: 0.8371 - val_loss: 0.4571 - val_accuracy: 0.8117\n",
            "Epoch 63/100\n",
            "20/20 [==============================] - 0s 4ms/step - loss: 0.3704 - accuracy: 0.8257 - val_loss: 0.4590 - val_accuracy: 0.8182\n",
            "Epoch 64/100\n",
            "20/20 [==============================] - 0s 5ms/step - loss: 0.3705 - accuracy: 0.8371 - val_loss: 0.4616 - val_accuracy: 0.8052\n",
            "Epoch 65/100\n",
            "20/20 [==============================] - 0s 5ms/step - loss: 0.3695 - accuracy: 0.8322 - val_loss: 0.4574 - val_accuracy: 0.8117\n",
            "Epoch 66/100\n",
            "20/20 [==============================] - 0s 4ms/step - loss: 0.3697 - accuracy: 0.8371 - val_loss: 0.4584 - val_accuracy: 0.8117\n",
            "Epoch 67/100\n",
            "20/20 [==============================] - 0s 5ms/step - loss: 0.3696 - accuracy: 0.8257 - val_loss: 0.4582 - val_accuracy: 0.8182\n",
            "Epoch 68/100\n",
            "20/20 [==============================] - 0s 4ms/step - loss: 0.3686 - accuracy: 0.8274 - val_loss: 0.4609 - val_accuracy: 0.8117\n",
            "Epoch 69/100\n",
            "20/20 [==============================] - 0s 5ms/step - loss: 0.3686 - accuracy: 0.8339 - val_loss: 0.4627 - val_accuracy: 0.8117\n",
            "Epoch 70/100\n",
            "20/20 [==============================] - 0s 5ms/step - loss: 0.3681 - accuracy: 0.8339 - val_loss: 0.4607 - val_accuracy: 0.8117\n",
            "Epoch 71/100\n",
            "20/20 [==============================] - 0s 4ms/step - loss: 0.3670 - accuracy: 0.8371 - val_loss: 0.4590 - val_accuracy: 0.8182\n",
            "Epoch 72/100\n",
            "20/20 [==============================] - 0s 5ms/step - loss: 0.3675 - accuracy: 0.8322 - val_loss: 0.4606 - val_accuracy: 0.8117\n",
            "Epoch 73/100\n",
            "20/20 [==============================] - 0s 5ms/step - loss: 0.3671 - accuracy: 0.8322 - val_loss: 0.4637 - val_accuracy: 0.8117\n",
            "Epoch 74/100\n",
            "20/20 [==============================] - 0s 4ms/step - loss: 0.3666 - accuracy: 0.8420 - val_loss: 0.4622 - val_accuracy: 0.8117\n",
            "Epoch 75/100\n",
            "20/20 [==============================] - 0s 5ms/step - loss: 0.3654 - accuracy: 0.8453 - val_loss: 0.4625 - val_accuracy: 0.8117\n",
            "Epoch 76/100\n",
            "20/20 [==============================] - 0s 5ms/step - loss: 0.3648 - accuracy: 0.8322 - val_loss: 0.4607 - val_accuracy: 0.8117\n",
            "Epoch 77/100\n",
            "20/20 [==============================] - 0s 4ms/step - loss: 0.3648 - accuracy: 0.8404 - val_loss: 0.4643 - val_accuracy: 0.8182\n",
            "Epoch 78/100\n",
            "20/20 [==============================] - 0s 4ms/step - loss: 0.3649 - accuracy: 0.8322 - val_loss: 0.4617 - val_accuracy: 0.8117\n",
            "Epoch 79/100\n",
            "20/20 [==============================] - 0s 5ms/step - loss: 0.3644 - accuracy: 0.8404 - val_loss: 0.4597 - val_accuracy: 0.8117\n",
            "Epoch 80/100\n",
            "20/20 [==============================] - 0s 4ms/step - loss: 0.3634 - accuracy: 0.8436 - val_loss: 0.4621 - val_accuracy: 0.8117\n",
            "Epoch 81/100\n",
            "20/20 [==============================] - 0s 5ms/step - loss: 0.3639 - accuracy: 0.8322 - val_loss: 0.4661 - val_accuracy: 0.8052\n",
            "Epoch 82/100\n",
            "20/20 [==============================] - 0s 5ms/step - loss: 0.3624 - accuracy: 0.8322 - val_loss: 0.4635 - val_accuracy: 0.8117\n",
            "Epoch 83/100\n",
            "20/20 [==============================] - 0s 5ms/step - loss: 0.3625 - accuracy: 0.8339 - val_loss: 0.4632 - val_accuracy: 0.8052\n",
            "Epoch 84/100\n",
            "20/20 [==============================] - 0s 5ms/step - loss: 0.3624 - accuracy: 0.8322 - val_loss: 0.4612 - val_accuracy: 0.8117\n",
            "Epoch 85/100\n",
            "20/20 [==============================] - 0s 4ms/step - loss: 0.3613 - accuracy: 0.8306 - val_loss: 0.4605 - val_accuracy: 0.8117\n",
            "Epoch 86/100\n",
            "20/20 [==============================] - 0s 4ms/step - loss: 0.3600 - accuracy: 0.8388 - val_loss: 0.4654 - val_accuracy: 0.8052\n",
            "Epoch 87/100\n",
            "20/20 [==============================] - 0s 4ms/step - loss: 0.3619 - accuracy: 0.8355 - val_loss: 0.4651 - val_accuracy: 0.8052\n",
            "Epoch 88/100\n",
            "20/20 [==============================] - 0s 5ms/step - loss: 0.3615 - accuracy: 0.8339 - val_loss: 0.4628 - val_accuracy: 0.8117\n",
            "Epoch 89/100\n",
            "20/20 [==============================] - 0s 4ms/step - loss: 0.3600 - accuracy: 0.8339 - val_loss: 0.4649 - val_accuracy: 0.8117\n",
            "Epoch 90/100\n",
            "20/20 [==============================] - 0s 6ms/step - loss: 0.3591 - accuracy: 0.8388 - val_loss: 0.4648 - val_accuracy: 0.8052\n",
            "Epoch 91/100\n",
            "20/20 [==============================] - 0s 4ms/step - loss: 0.3578 - accuracy: 0.8469 - val_loss: 0.4624 - val_accuracy: 0.8117\n",
            "Epoch 92/100\n",
            "20/20 [==============================] - 0s 4ms/step - loss: 0.3591 - accuracy: 0.8404 - val_loss: 0.4634 - val_accuracy: 0.8117\n",
            "Epoch 93/100\n",
            "20/20 [==============================] - 0s 5ms/step - loss: 0.3585 - accuracy: 0.8388 - val_loss: 0.4670 - val_accuracy: 0.8052\n",
            "Epoch 94/100\n",
            "20/20 [==============================] - 0s 5ms/step - loss: 0.3578 - accuracy: 0.8371 - val_loss: 0.4696 - val_accuracy: 0.8117\n",
            "Epoch 95/100\n",
            "20/20 [==============================] - 0s 4ms/step - loss: 0.3565 - accuracy: 0.8371 - val_loss: 0.4687 - val_accuracy: 0.8117\n",
            "Epoch 96/100\n",
            "20/20 [==============================] - 0s 5ms/step - loss: 0.3570 - accuracy: 0.8420 - val_loss: 0.4695 - val_accuracy: 0.8117\n",
            "Epoch 97/100\n",
            "20/20 [==============================] - 0s 5ms/step - loss: 0.3558 - accuracy: 0.8339 - val_loss: 0.4655 - val_accuracy: 0.8052\n",
            "Epoch 98/100\n",
            "20/20 [==============================] - 0s 5ms/step - loss: 0.3563 - accuracy: 0.8420 - val_loss: 0.4657 - val_accuracy: 0.8117\n",
            "Epoch 99/100\n",
            "20/20 [==============================] - 0s 4ms/step - loss: 0.3557 - accuracy: 0.8371 - val_loss: 0.4667 - val_accuracy: 0.8117\n",
            "Epoch 100/100\n",
            "20/20 [==============================] - 0s 4ms/step - loss: 0.3548 - accuracy: 0.8436 - val_loss: 0.4663 - val_accuracy: 0.8117\n"
          ]
        },
        {
          "output_type": "execute_result",
          "data": {
            "text/plain": [
              "<keras.callbacks.History at 0x7f968385c690>"
            ]
          },
          "metadata": {},
          "execution_count": 39
        }
      ]
    },
    {
      "cell_type": "markdown",
      "source": [
        "## Select no. of hidden layers"
      ],
      "metadata": {
        "id": "Tco6U-AGVzo8"
      }
    },
    {
      "cell_type": "code",
      "source": [
        "def build_model(hp):\n",
        "  model = Sequential()\n",
        "\n",
        "  model.add(Dense(72,activation=\"relu\",input_dim=8))\n",
        "  for i in range(hp.Int(\"num_layers\",min_value=1,max_value=10)):\n",
        "    model.add(Dense(72,activation=\"relu\"))\n",
        "\n",
        "  model.add(Dense(1,activation=\"sigmoid\"))\n",
        "  model.compile(optimizer=\"rmsprop\",loss=\"binary_crossentropy\",metrics=[\"accuracy\"])\n",
        "\n",
        "  return model"
      ],
      "metadata": {
        "id": "iCsviuPGVUuV"
      },
      "execution_count": null,
      "outputs": []
    },
    {
      "cell_type": "code",
      "source": [
        "tuner = kt.RandomSearch(build_model,\n",
        "                        objective=\"val_accuracy\",\n",
        "                        max_trials=3,\n",
        "                        directory=\"new_dir1\",\n",
        "                        project_name=\"num_layers\")"
      ],
      "metadata": {
        "id": "yDVuuh2kWA7J"
      },
      "execution_count": null,
      "outputs": []
    },
    {
      "cell_type": "code",
      "source": [
        "tuner.search(X_train,y_train,epochs=5,validation_data=(X_test,y_test))"
      ],
      "metadata": {
        "colab": {
          "base_uri": "https://localhost:8080/"
        },
        "id": "Y9OudCmMW_TM",
        "outputId": "9067bfed-1d65-49b6-b495-13f41ee48f0d"
      },
      "execution_count": null,
      "outputs": [
        {
          "output_type": "stream",
          "name": "stdout",
          "text": [
            "Trial 3 Complete [00h 00m 02s]\n",
            "val_accuracy: 0.8116883039474487\n",
            "\n",
            "Best val_accuracy So Far: 0.8181818127632141\n",
            "Total elapsed time: 00h 00m 06s\n"
          ]
        }
      ]
    },
    {
      "cell_type": "code",
      "source": [
        "tuner.get_best_hyperparameters()[0].values"
      ],
      "metadata": {
        "colab": {
          "base_uri": "https://localhost:8080/"
        },
        "id": "7GsAWjDdXKvX",
        "outputId": "d74a8b2f-62a5-4f5a-9924-5d061a2f9a21"
      },
      "execution_count": null,
      "outputs": [
        {
          "output_type": "execute_result",
          "data": {
            "text/plain": [
              "{'num_layers': 8}"
            ]
          },
          "metadata": {},
          "execution_count": 46
        }
      ]
    },
    {
      "cell_type": "code",
      "source": [
        "model = tuner.get_best_models(num_models=1)[0]"
      ],
      "metadata": {
        "id": "LB80NVznXR1p"
      },
      "execution_count": null,
      "outputs": []
    },
    {
      "cell_type": "code",
      "source": [
        "model.fit(X_train,y_train,epochs=100,initial_epoch=6,validation_data=(X_test,y_test))"
      ],
      "metadata": {
        "colab": {
          "base_uri": "https://localhost:8080/"
        },
        "id": "_BY6GsSUXZ_B",
        "outputId": "e1ac03e7-3910-42af-fad7-bd82f6df1072"
      },
      "execution_count": null,
      "outputs": [
        {
          "output_type": "stream",
          "name": "stdout",
          "text": [
            "Epoch 7/100\n",
            "20/20 [==============================] - 1s 14ms/step - loss: 0.4353 - accuracy: 0.7915 - val_loss: 0.4881 - val_accuracy: 0.7857\n",
            "Epoch 8/100\n",
            "20/20 [==============================] - 0s 6ms/step - loss: 0.4294 - accuracy: 0.8192 - val_loss: 0.5060 - val_accuracy: 0.7468\n",
            "Epoch 9/100\n",
            "20/20 [==============================] - 0s 7ms/step - loss: 0.4152 - accuracy: 0.8192 - val_loss: 0.4688 - val_accuracy: 0.7987\n",
            "Epoch 10/100\n",
            "20/20 [==============================] - 0s 6ms/step - loss: 0.4001 - accuracy: 0.8160 - val_loss: 0.5519 - val_accuracy: 0.7532\n",
            "Epoch 11/100\n",
            "20/20 [==============================] - 0s 6ms/step - loss: 0.4119 - accuracy: 0.8192 - val_loss: 0.5197 - val_accuracy: 0.7532\n",
            "Epoch 12/100\n",
            "20/20 [==============================] - 0s 6ms/step - loss: 0.3772 - accuracy: 0.8420 - val_loss: 0.4775 - val_accuracy: 0.7922\n",
            "Epoch 13/100\n",
            "20/20 [==============================] - 0s 6ms/step - loss: 0.3661 - accuracy: 0.8420 - val_loss: 0.5892 - val_accuracy: 0.7597\n",
            "Epoch 14/100\n",
            "20/20 [==============================] - 0s 7ms/step - loss: 0.3671 - accuracy: 0.8453 - val_loss: 0.5904 - val_accuracy: 0.7468\n",
            "Epoch 15/100\n",
            "20/20 [==============================] - 0s 6ms/step - loss: 0.3290 - accuracy: 0.8616 - val_loss: 0.4785 - val_accuracy: 0.7857\n",
            "Epoch 16/100\n",
            "20/20 [==============================] - 0s 7ms/step - loss: 0.3226 - accuracy: 0.8583 - val_loss: 0.5460 - val_accuracy: 0.7727\n",
            "Epoch 17/100\n",
            "20/20 [==============================] - 0s 6ms/step - loss: 0.3118 - accuracy: 0.8648 - val_loss: 0.5325 - val_accuracy: 0.7662\n",
            "Epoch 18/100\n",
            "20/20 [==============================] - 0s 6ms/step - loss: 0.2969 - accuracy: 0.8827 - val_loss: 0.5950 - val_accuracy: 0.7662\n",
            "Epoch 19/100\n",
            "20/20 [==============================] - 0s 6ms/step - loss: 0.2940 - accuracy: 0.8844 - val_loss: 0.6036 - val_accuracy: 0.7727\n",
            "Epoch 20/100\n",
            "20/20 [==============================] - 0s 6ms/step - loss: 0.2709 - accuracy: 0.8844 - val_loss: 0.5839 - val_accuracy: 0.7662\n",
            "Epoch 21/100\n",
            "20/20 [==============================] - 0s 6ms/step - loss: 0.2593 - accuracy: 0.8958 - val_loss: 0.6842 - val_accuracy: 0.7338\n",
            "Epoch 22/100\n",
            "20/20 [==============================] - 0s 6ms/step - loss: 0.2264 - accuracy: 0.9153 - val_loss: 0.6963 - val_accuracy: 0.7078\n",
            "Epoch 23/100\n",
            "20/20 [==============================] - 0s 6ms/step - loss: 0.2346 - accuracy: 0.9088 - val_loss: 0.6333 - val_accuracy: 0.7597\n",
            "Epoch 24/100\n",
            "20/20 [==============================] - 0s 8ms/step - loss: 0.1851 - accuracy: 0.9332 - val_loss: 0.8641 - val_accuracy: 0.7273\n",
            "Epoch 25/100\n",
            "20/20 [==============================] - 0s 7ms/step - loss: 0.2526 - accuracy: 0.9104 - val_loss: 0.7188 - val_accuracy: 0.7273\n",
            "Epoch 26/100\n",
            "20/20 [==============================] - 0s 8ms/step - loss: 0.1650 - accuracy: 0.9414 - val_loss: 0.8720 - val_accuracy: 0.7792\n",
            "Epoch 27/100\n",
            "20/20 [==============================] - 0s 7ms/step - loss: 0.1732 - accuracy: 0.9332 - val_loss: 0.7927 - val_accuracy: 0.7532\n",
            "Epoch 28/100\n",
            "20/20 [==============================] - 0s 7ms/step - loss: 0.1521 - accuracy: 0.9479 - val_loss: 0.9443 - val_accuracy: 0.6558\n",
            "Epoch 29/100\n",
            "20/20 [==============================] - 0s 7ms/step - loss: 0.1648 - accuracy: 0.9332 - val_loss: 0.9362 - val_accuracy: 0.7597\n",
            "Epoch 30/100\n",
            "20/20 [==============================] - 0s 7ms/step - loss: 0.1634 - accuracy: 0.9349 - val_loss: 0.8420 - val_accuracy: 0.7338\n",
            "Epoch 31/100\n",
            "20/20 [==============================] - 0s 8ms/step - loss: 0.1588 - accuracy: 0.9430 - val_loss: 0.9779 - val_accuracy: 0.7208\n",
            "Epoch 32/100\n",
            "20/20 [==============================] - 0s 7ms/step - loss: 0.1430 - accuracy: 0.9397 - val_loss: 0.8623 - val_accuracy: 0.7403\n",
            "Epoch 33/100\n",
            "20/20 [==============================] - 0s 7ms/step - loss: 0.1402 - accuracy: 0.9495 - val_loss: 0.8217 - val_accuracy: 0.7597\n",
            "Epoch 34/100\n",
            "20/20 [==============================] - 0s 6ms/step - loss: 0.1005 - accuracy: 0.9625 - val_loss: 1.1480 - val_accuracy: 0.7662\n",
            "Epoch 35/100\n",
            "20/20 [==============================] - 0s 7ms/step - loss: 0.1203 - accuracy: 0.9577 - val_loss: 0.9429 - val_accuracy: 0.7532\n",
            "Epoch 36/100\n",
            "20/20 [==============================] - 0s 7ms/step - loss: 0.1204 - accuracy: 0.9560 - val_loss: 1.0448 - val_accuracy: 0.7338\n",
            "Epoch 37/100\n",
            "20/20 [==============================] - 0s 7ms/step - loss: 0.1014 - accuracy: 0.9609 - val_loss: 1.1238 - val_accuracy: 0.7468\n",
            "Epoch 38/100\n",
            "20/20 [==============================] - 0s 7ms/step - loss: 0.0774 - accuracy: 0.9739 - val_loss: 1.2805 - val_accuracy: 0.7987\n",
            "Epoch 39/100\n",
            "20/20 [==============================] - 0s 7ms/step - loss: 0.1012 - accuracy: 0.9609 - val_loss: 1.0768 - val_accuracy: 0.7532\n",
            "Epoch 40/100\n",
            "20/20 [==============================] - 0s 7ms/step - loss: 0.1229 - accuracy: 0.9658 - val_loss: 1.1985 - val_accuracy: 0.6623\n",
            "Epoch 41/100\n",
            "20/20 [==============================] - 0s 7ms/step - loss: 0.0869 - accuracy: 0.9691 - val_loss: 1.2864 - val_accuracy: 0.7532\n",
            "Epoch 42/100\n",
            "20/20 [==============================] - 0s 7ms/step - loss: 0.0991 - accuracy: 0.9577 - val_loss: 1.2520 - val_accuracy: 0.7597\n",
            "Epoch 43/100\n",
            "20/20 [==============================] - 0s 8ms/step - loss: 0.0947 - accuracy: 0.9723 - val_loss: 1.3904 - val_accuracy: 0.7597\n",
            "Epoch 44/100\n",
            "20/20 [==============================] - 0s 7ms/step - loss: 0.0540 - accuracy: 0.9837 - val_loss: 1.5831 - val_accuracy: 0.7403\n",
            "Epoch 45/100\n",
            "20/20 [==============================] - 0s 7ms/step - loss: 0.0737 - accuracy: 0.9805 - val_loss: 1.1462 - val_accuracy: 0.7403\n",
            "Epoch 46/100\n",
            "20/20 [==============================] - 0s 7ms/step - loss: 0.1034 - accuracy: 0.9723 - val_loss: 1.1036 - val_accuracy: 0.7727\n",
            "Epoch 47/100\n",
            "20/20 [==============================] - 0s 7ms/step - loss: 0.0457 - accuracy: 0.9837 - val_loss: 1.5426 - val_accuracy: 0.7597\n",
            "Epoch 48/100\n",
            "20/20 [==============================] - 0s 7ms/step - loss: 0.0753 - accuracy: 0.9756 - val_loss: 1.4740 - val_accuracy: 0.7338\n",
            "Epoch 49/100\n",
            "20/20 [==============================] - 0s 7ms/step - loss: 0.0745 - accuracy: 0.9739 - val_loss: 1.4282 - val_accuracy: 0.7273\n",
            "Epoch 50/100\n",
            "20/20 [==============================] - 0s 6ms/step - loss: 0.0989 - accuracy: 0.9674 - val_loss: 1.1204 - val_accuracy: 0.7468\n",
            "Epoch 51/100\n",
            "20/20 [==============================] - 0s 7ms/step - loss: 0.0379 - accuracy: 0.9886 - val_loss: 1.7776 - val_accuracy: 0.7208\n",
            "Epoch 52/100\n",
            "20/20 [==============================] - 0s 8ms/step - loss: 0.0570 - accuracy: 0.9772 - val_loss: 1.4971 - val_accuracy: 0.7403\n",
            "Epoch 53/100\n",
            "20/20 [==============================] - 0s 7ms/step - loss: 0.0830 - accuracy: 0.9723 - val_loss: 1.4027 - val_accuracy: 0.7597\n",
            "Epoch 54/100\n",
            "20/20 [==============================] - 0s 6ms/step - loss: 0.0307 - accuracy: 0.9951 - val_loss: 1.7520 - val_accuracy: 0.7468\n",
            "Epoch 55/100\n",
            "20/20 [==============================] - 0s 7ms/step - loss: 0.1043 - accuracy: 0.9707 - val_loss: 1.2734 - val_accuracy: 0.7468\n",
            "Epoch 56/100\n",
            "20/20 [==============================] - 0s 6ms/step - loss: 0.0167 - accuracy: 0.9984 - val_loss: 1.6276 - val_accuracy: 0.7532\n",
            "Epoch 57/100\n",
            "20/20 [==============================] - 0s 7ms/step - loss: 0.0709 - accuracy: 0.9739 - val_loss: 1.5135 - val_accuracy: 0.7273\n",
            "Epoch 58/100\n",
            "20/20 [==============================] - 0s 6ms/step - loss: 0.0595 - accuracy: 0.9756 - val_loss: 1.6616 - val_accuracy: 0.7532\n",
            "Epoch 59/100\n",
            "20/20 [==============================] - 0s 6ms/step - loss: 0.0730 - accuracy: 0.9739 - val_loss: 1.4613 - val_accuracy: 0.7403\n",
            "Epoch 60/100\n",
            "20/20 [==============================] - 0s 7ms/step - loss: 0.0318 - accuracy: 0.9902 - val_loss: 1.7543 - val_accuracy: 0.7468\n",
            "Epoch 61/100\n",
            "20/20 [==============================] - 0s 7ms/step - loss: 0.0052 - accuracy: 0.9967 - val_loss: 2.2869 - val_accuracy: 0.7468\n",
            "Epoch 62/100\n",
            "20/20 [==============================] - 0s 6ms/step - loss: 0.0506 - accuracy: 0.9853 - val_loss: 1.9322 - val_accuracy: 0.7662\n",
            "Epoch 63/100\n",
            "20/20 [==============================] - 0s 6ms/step - loss: 0.0556 - accuracy: 0.9772 - val_loss: 1.8971 - val_accuracy: 0.7403\n",
            "Epoch 64/100\n",
            "20/20 [==============================] - 0s 6ms/step - loss: 0.0789 - accuracy: 0.9788 - val_loss: 1.8910 - val_accuracy: 0.7338\n",
            "Epoch 65/100\n",
            "20/20 [==============================] - 0s 6ms/step - loss: 0.0409 - accuracy: 0.9837 - val_loss: 1.7608 - val_accuracy: 0.7727\n",
            "Epoch 66/100\n",
            "20/20 [==============================] - 0s 7ms/step - loss: 0.0192 - accuracy: 0.9902 - val_loss: 2.0393 - val_accuracy: 0.7338\n",
            "Epoch 67/100\n",
            "20/20 [==============================] - 0s 7ms/step - loss: 0.0059 - accuracy: 0.9984 - val_loss: 2.3418 - val_accuracy: 0.7208\n",
            "Epoch 68/100\n",
            "20/20 [==============================] - 0s 7ms/step - loss: 0.1249 - accuracy: 0.9707 - val_loss: 1.9683 - val_accuracy: 0.7468\n",
            "Epoch 69/100\n",
            "20/20 [==============================] - 0s 6ms/step - loss: 0.0279 - accuracy: 0.9886 - val_loss: 1.8300 - val_accuracy: 0.7143\n",
            "Epoch 70/100\n",
            "20/20 [==============================] - 0s 7ms/step - loss: 0.0179 - accuracy: 0.9902 - val_loss: 2.1794 - val_accuracy: 0.7403\n",
            "Epoch 71/100\n",
            "20/20 [==============================] - 0s 6ms/step - loss: 0.0619 - accuracy: 0.9805 - val_loss: 2.1241 - val_accuracy: 0.7403\n",
            "Epoch 72/100\n",
            "20/20 [==============================] - 0s 6ms/step - loss: 0.0494 - accuracy: 0.9821 - val_loss: 1.8180 - val_accuracy: 0.7338\n",
            "Epoch 73/100\n",
            "20/20 [==============================] - 0s 7ms/step - loss: 0.0058 - accuracy: 0.9984 - val_loss: 2.0023 - val_accuracy: 0.7338\n",
            "Epoch 74/100\n",
            "20/20 [==============================] - 0s 6ms/step - loss: 0.0045 - accuracy: 0.9984 - val_loss: 2.5891 - val_accuracy: 0.7143\n",
            "Epoch 75/100\n",
            "20/20 [==============================] - 0s 6ms/step - loss: 0.1595 - accuracy: 0.9756 - val_loss: 2.0397 - val_accuracy: 0.7468\n",
            "Epoch 76/100\n",
            "20/20 [==============================] - 0s 7ms/step - loss: 0.0335 - accuracy: 0.9919 - val_loss: 1.9544 - val_accuracy: 0.7013\n",
            "Epoch 77/100\n",
            "20/20 [==============================] - 0s 6ms/step - loss: 0.0349 - accuracy: 0.9902 - val_loss: 2.0622 - val_accuracy: 0.7403\n",
            "Epoch 78/100\n",
            "20/20 [==============================] - 0s 6ms/step - loss: 0.0356 - accuracy: 0.9902 - val_loss: 2.0208 - val_accuracy: 0.7403\n",
            "Epoch 79/100\n",
            "20/20 [==============================] - 0s 6ms/step - loss: 0.0232 - accuracy: 0.9951 - val_loss: 2.0998 - val_accuracy: 0.7403\n",
            "Epoch 80/100\n",
            "20/20 [==============================] - 0s 6ms/step - loss: 0.0874 - accuracy: 0.9772 - val_loss: 1.7181 - val_accuracy: 0.7403\n",
            "Epoch 81/100\n",
            "20/20 [==============================] - 0s 7ms/step - loss: 0.0204 - accuracy: 0.9935 - val_loss: 1.9506 - val_accuracy: 0.7338\n",
            "Epoch 82/100\n",
            "20/20 [==============================] - 0s 6ms/step - loss: 0.0215 - accuracy: 0.9967 - val_loss: 2.1195 - val_accuracy: 0.7597\n",
            "Epoch 83/100\n",
            "20/20 [==============================] - 0s 7ms/step - loss: 0.0046 - accuracy: 0.9967 - val_loss: 2.6089 - val_accuracy: 0.7597\n",
            "Epoch 84/100\n",
            "20/20 [==============================] - 0s 7ms/step - loss: 0.0426 - accuracy: 0.9886 - val_loss: 2.2310 - val_accuracy: 0.6948\n",
            "Epoch 85/100\n",
            "20/20 [==============================] - 0s 7ms/step - loss: 0.0330 - accuracy: 0.9919 - val_loss: 2.2787 - val_accuracy: 0.7403\n",
            "Epoch 86/100\n",
            "20/20 [==============================] - 0s 7ms/step - loss: 0.0129 - accuracy: 0.9967 - val_loss: 2.4270 - val_accuracy: 0.7532\n",
            "Epoch 87/100\n",
            "20/20 [==============================] - 0s 7ms/step - loss: 0.0016 - accuracy: 1.0000 - val_loss: 2.7424 - val_accuracy: 0.7662\n",
            "Epoch 88/100\n",
            "20/20 [==============================] - 0s 7ms/step - loss: 0.0043 - accuracy: 0.9984 - val_loss: 3.4561 - val_accuracy: 0.7468\n",
            "Epoch 89/100\n",
            "20/20 [==============================] - 0s 7ms/step - loss: 0.1374 - accuracy: 0.9691 - val_loss: 1.6590 - val_accuracy: 0.7273\n",
            "Epoch 90/100\n",
            "20/20 [==============================] - 0s 7ms/step - loss: 0.0042 - accuracy: 1.0000 - val_loss: 2.0149 - val_accuracy: 0.7338\n",
            "Epoch 91/100\n",
            "20/20 [==============================] - 0s 7ms/step - loss: 0.0016 - accuracy: 1.0000 - val_loss: 2.2514 - val_accuracy: 0.7338\n",
            "Epoch 92/100\n",
            "20/20 [==============================] - 0s 7ms/step - loss: 8.8435e-04 - accuracy: 1.0000 - val_loss: 4.2904 - val_accuracy: 0.7468\n",
            "Epoch 93/100\n",
            "20/20 [==============================] - 0s 6ms/step - loss: 0.0797 - accuracy: 0.9886 - val_loss: 1.9987 - val_accuracy: 0.7208\n",
            "Epoch 94/100\n",
            "20/20 [==============================] - 0s 7ms/step - loss: 0.0465 - accuracy: 0.9870 - val_loss: 1.7630 - val_accuracy: 0.7403\n",
            "Epoch 95/100\n",
            "20/20 [==============================] - 0s 7ms/step - loss: 0.0269 - accuracy: 0.9935 - val_loss: 1.8820 - val_accuracy: 0.7273\n",
            "Epoch 96/100\n",
            "20/20 [==============================] - 0s 6ms/step - loss: 0.0209 - accuracy: 0.9951 - val_loss: 2.4489 - val_accuracy: 0.7597\n",
            "Epoch 97/100\n",
            "20/20 [==============================] - 0s 7ms/step - loss: 0.0416 - accuracy: 0.9837 - val_loss: 2.1007 - val_accuracy: 0.7468\n",
            "Epoch 98/100\n",
            "20/20 [==============================] - 0s 7ms/step - loss: 0.0181 - accuracy: 0.9935 - val_loss: 2.1705 - val_accuracy: 0.7597\n",
            "Epoch 99/100\n",
            "20/20 [==============================] - 0s 6ms/step - loss: 0.0162 - accuracy: 0.9951 - val_loss: 2.1296 - val_accuracy: 0.7403\n",
            "Epoch 100/100\n",
            "20/20 [==============================] - 0s 6ms/step - loss: 0.0339 - accuracy: 0.9837 - val_loss: 2.3012 - val_accuracy: 0.7143\n"
          ]
        },
        {
          "output_type": "execute_result",
          "data": {
            "text/plain": [
              "<keras.callbacks.History at 0x7f9683932810>"
            ]
          },
          "metadata": {},
          "execution_count": 48
        }
      ]
    },
    {
      "cell_type": "markdown",
      "source": [
        "## All in one"
      ],
      "metadata": {
        "id": "DiU1VB85Xs5h"
      }
    },
    {
      "cell_type": "code",
      "source": [
        "def build_model(hp):\n",
        "  model = Sequential()\n",
        "\n",
        "  counter = 0\n",
        "\n",
        "  for i in range(hp.Int(\"num_layers\",min_value=1,max_value=10)):\n",
        "    if counter == 0:\n",
        "      model.add(Dense(\n",
        "          hp.Int(\"units\"+str(i),min_value=8,max_value=128,step=8),activation=hp.Choice(\"activation\"+str(i),values=[\"relu\",\"tanh\",\"sigmoid\"])\n",
        "      ))\n",
        "    else:\n",
        "      model.add(Dense(\n",
        "          hp.Int(\"units\"+str(i),min_value=8,max_value=128,step=8)\n",
        "      ,activation=hp.Choice(\"activation\"+str(i),values=[\"relu\",\"tanh\",\"sigmoid\"])))\n",
        "\n",
        "    counter+=1\n",
        "  model.add(Dense(1,activation=\"sigmoid\"))\n",
        "  model.compile(optimizer=hp.Choice(\"optimizer\",values=[\"adam\",\"sgd\",\"rmsprop\",\"nadam\",\"adadelta\"]),loss=\"binary_crossentropy\",metrics=[\"accuracy\"])\n",
        "  return model"
      ],
      "metadata": {
        "id": "bL65CXpYXkYm"
      },
      "execution_count": null,
      "outputs": []
    },
    {
      "cell_type": "code",
      "source": [
        "tuner = kt.RandomSearch(build_model,\n",
        "                        objective=\"val_accuracy\",\n",
        "                        max_trials=3,\n",
        "                        directory=\"new_dir2\",\n",
        "                        project_name=\"project1\")"
      ],
      "metadata": {
        "id": "IGA9wWWlZbNP"
      },
      "execution_count": null,
      "outputs": []
    },
    {
      "cell_type": "code",
      "source": [
        "tuner.search(X_train,y_train,epochs=5,validation_data=(X_test,y_test))"
      ],
      "metadata": {
        "colab": {
          "base_uri": "https://localhost:8080/"
        },
        "id": "1UNzXhJyaIu2",
        "outputId": "5076c733-e5de-408a-94ad-bd2340d461ab"
      },
      "execution_count": null,
      "outputs": [
        {
          "output_type": "stream",
          "name": "stdout",
          "text": [
            "Trial 3 Complete [00h 00m 02s]\n",
            "val_accuracy: 0.8051947951316833\n",
            "\n",
            "Best val_accuracy So Far: 0.8051947951316833\n",
            "Total elapsed time: 00h 00m 05s\n"
          ]
        }
      ]
    },
    {
      "cell_type": "code",
      "source": [
        "tuner.get_best_hyperparameters()[0].values"
      ],
      "metadata": {
        "colab": {
          "base_uri": "https://localhost:8080/"
        },
        "id": "sTf6aoSJbsqO",
        "outputId": "f8c1000f-a0ca-4545-d445-25600be64efb"
      },
      "execution_count": null,
      "outputs": [
        {
          "output_type": "execute_result",
          "data": {
            "text/plain": [
              "{'num_layers': 3,\n",
              " 'units0': 16,\n",
              " 'activation0': 'tanh',\n",
              " 'optimizer': 'adam',\n",
              " 'units1': 96,\n",
              " 'activation1': 'tanh',\n",
              " 'units2': 72,\n",
              " 'activation2': 'tanh',\n",
              " 'units3': 48,\n",
              " 'activation3': 'relu',\n",
              " 'units4': 56,\n",
              " 'activation4': 'tanh'}"
            ]
          },
          "metadata": {},
          "execution_count": 67
        }
      ]
    },
    {
      "cell_type": "code",
      "source": [
        "model = tuner.get_best_models(num_models=1)[0]"
      ],
      "metadata": {
        "id": "-II8CT7Lbx9t"
      },
      "execution_count": null,
      "outputs": []
    },
    {
      "cell_type": "code",
      "source": [
        "model.fit(X_train,y_train,epochs=100,initial_epoch=5,validation_data=(X_test,y_test))"
      ],
      "metadata": {
        "colab": {
          "base_uri": "https://localhost:8080/"
        },
        "id": "y_r8k7xrb8EC",
        "outputId": "a49cd251-eee2-4916-c957-39fb4811a600"
      },
      "execution_count": null,
      "outputs": [
        {
          "output_type": "stream",
          "name": "stdout",
          "text": [
            "Epoch 6/100\n",
            "20/20 [==============================] - 1s 11ms/step - loss: 0.4787 - accuracy: 0.7557 - val_loss: 0.4532 - val_accuracy: 0.8052\n",
            "Epoch 7/100\n",
            "20/20 [==============================] - 0s 5ms/step - loss: 0.4779 - accuracy: 0.7638 - val_loss: 0.4628 - val_accuracy: 0.7857\n",
            "Epoch 8/100\n",
            "20/20 [==============================] - 0s 4ms/step - loss: 0.4753 - accuracy: 0.7638 - val_loss: 0.4543 - val_accuracy: 0.7857\n",
            "Epoch 9/100\n",
            "20/20 [==============================] - 0s 4ms/step - loss: 0.4734 - accuracy: 0.7638 - val_loss: 0.4571 - val_accuracy: 0.7922\n",
            "Epoch 10/100\n",
            "20/20 [==============================] - 0s 4ms/step - loss: 0.4697 - accuracy: 0.7655 - val_loss: 0.4527 - val_accuracy: 0.7987\n",
            "Epoch 11/100\n",
            "20/20 [==============================] - 0s 5ms/step - loss: 0.4696 - accuracy: 0.7638 - val_loss: 0.4575 - val_accuracy: 0.7922\n",
            "Epoch 12/100\n",
            "20/20 [==============================] - 0s 4ms/step - loss: 0.4695 - accuracy: 0.7590 - val_loss: 0.4572 - val_accuracy: 0.7922\n",
            "Epoch 13/100\n",
            "20/20 [==============================] - 0s 4ms/step - loss: 0.4703 - accuracy: 0.7606 - val_loss: 0.4561 - val_accuracy: 0.8182\n",
            "Epoch 14/100\n",
            "20/20 [==============================] - 0s 5ms/step - loss: 0.4671 - accuracy: 0.7638 - val_loss: 0.4547 - val_accuracy: 0.7987\n",
            "Epoch 15/100\n",
            "20/20 [==============================] - 0s 5ms/step - loss: 0.4669 - accuracy: 0.7638 - val_loss: 0.4538 - val_accuracy: 0.7987\n",
            "Epoch 16/100\n",
            "20/20 [==============================] - 0s 5ms/step - loss: 0.4656 - accuracy: 0.7638 - val_loss: 0.4523 - val_accuracy: 0.7922\n",
            "Epoch 17/100\n",
            "20/20 [==============================] - 0s 4ms/step - loss: 0.4652 - accuracy: 0.7720 - val_loss: 0.4450 - val_accuracy: 0.8117\n",
            "Epoch 18/100\n",
            "20/20 [==============================] - 0s 5ms/step - loss: 0.4668 - accuracy: 0.7655 - val_loss: 0.4472 - val_accuracy: 0.8182\n",
            "Epoch 19/100\n",
            "20/20 [==============================] - 0s 4ms/step - loss: 0.4613 - accuracy: 0.7655 - val_loss: 0.4519 - val_accuracy: 0.8182\n",
            "Epoch 20/100\n",
            "20/20 [==============================] - 0s 5ms/step - loss: 0.4629 - accuracy: 0.7736 - val_loss: 0.4431 - val_accuracy: 0.8182\n",
            "Epoch 21/100\n",
            "20/20 [==============================] - 0s 4ms/step - loss: 0.4591 - accuracy: 0.7752 - val_loss: 0.4504 - val_accuracy: 0.7922\n",
            "Epoch 22/100\n",
            "20/20 [==============================] - 0s 4ms/step - loss: 0.4576 - accuracy: 0.7720 - val_loss: 0.4518 - val_accuracy: 0.7922\n",
            "Epoch 23/100\n",
            "20/20 [==============================] - 0s 5ms/step - loss: 0.4536 - accuracy: 0.7671 - val_loss: 0.4398 - val_accuracy: 0.8117\n",
            "Epoch 24/100\n",
            "20/20 [==============================] - 0s 5ms/step - loss: 0.4593 - accuracy: 0.7818 - val_loss: 0.4422 - val_accuracy: 0.8117\n",
            "Epoch 25/100\n",
            "20/20 [==============================] - 0s 5ms/step - loss: 0.4543 - accuracy: 0.7769 - val_loss: 0.4475 - val_accuracy: 0.8247\n",
            "Epoch 26/100\n",
            "20/20 [==============================] - 0s 5ms/step - loss: 0.4525 - accuracy: 0.7866 - val_loss: 0.4410 - val_accuracy: 0.8117\n",
            "Epoch 27/100\n",
            "20/20 [==============================] - 0s 5ms/step - loss: 0.4482 - accuracy: 0.7850 - val_loss: 0.4377 - val_accuracy: 0.8117\n",
            "Epoch 28/100\n",
            "20/20 [==============================] - 0s 4ms/step - loss: 0.4464 - accuracy: 0.7866 - val_loss: 0.4470 - val_accuracy: 0.7922\n",
            "Epoch 29/100\n",
            "20/20 [==============================] - 0s 5ms/step - loss: 0.4479 - accuracy: 0.7801 - val_loss: 0.4410 - val_accuracy: 0.8247\n",
            "Epoch 30/100\n",
            "20/20 [==============================] - 0s 4ms/step - loss: 0.4489 - accuracy: 0.7866 - val_loss: 0.4371 - val_accuracy: 0.8312\n",
            "Epoch 31/100\n",
            "20/20 [==============================] - 0s 5ms/step - loss: 0.4472 - accuracy: 0.7866 - val_loss: 0.4548 - val_accuracy: 0.7922\n",
            "Epoch 32/100\n",
            "20/20 [==============================] - 0s 5ms/step - loss: 0.4450 - accuracy: 0.7818 - val_loss: 0.4389 - val_accuracy: 0.8247\n",
            "Epoch 33/100\n",
            "20/20 [==============================] - 0s 5ms/step - loss: 0.4446 - accuracy: 0.7834 - val_loss: 0.4435 - val_accuracy: 0.8312\n",
            "Epoch 34/100\n",
            "20/20 [==============================] - 0s 5ms/step - loss: 0.4435 - accuracy: 0.7932 - val_loss: 0.4337 - val_accuracy: 0.8182\n",
            "Epoch 35/100\n",
            "20/20 [==============================] - 0s 5ms/step - loss: 0.4423 - accuracy: 0.7801 - val_loss: 0.4415 - val_accuracy: 0.8117\n",
            "Epoch 36/100\n",
            "20/20 [==============================] - 0s 4ms/step - loss: 0.4435 - accuracy: 0.7801 - val_loss: 0.4356 - val_accuracy: 0.8312\n",
            "Epoch 37/100\n",
            "20/20 [==============================] - 0s 4ms/step - loss: 0.4388 - accuracy: 0.7915 - val_loss: 0.4359 - val_accuracy: 0.8312\n",
            "Epoch 38/100\n",
            "20/20 [==============================] - 0s 5ms/step - loss: 0.4356 - accuracy: 0.7834 - val_loss: 0.4496 - val_accuracy: 0.7987\n",
            "Epoch 39/100\n",
            "20/20 [==============================] - 0s 4ms/step - loss: 0.4357 - accuracy: 0.7834 - val_loss: 0.4339 - val_accuracy: 0.8247\n",
            "Epoch 40/100\n",
            "20/20 [==============================] - 0s 5ms/step - loss: 0.4319 - accuracy: 0.7866 - val_loss: 0.4395 - val_accuracy: 0.8442\n",
            "Epoch 41/100\n",
            "20/20 [==============================] - 0s 5ms/step - loss: 0.4327 - accuracy: 0.7866 - val_loss: 0.4382 - val_accuracy: 0.8312\n",
            "Epoch 42/100\n",
            "20/20 [==============================] - 0s 4ms/step - loss: 0.4330 - accuracy: 0.7964 - val_loss: 0.4425 - val_accuracy: 0.8052\n",
            "Epoch 43/100\n",
            "20/20 [==============================] - 0s 4ms/step - loss: 0.4305 - accuracy: 0.7948 - val_loss: 0.4418 - val_accuracy: 0.8117\n",
            "Epoch 44/100\n",
            "20/20 [==============================] - 0s 5ms/step - loss: 0.4280 - accuracy: 0.7883 - val_loss: 0.4433 - val_accuracy: 0.8052\n",
            "Epoch 45/100\n",
            "20/20 [==============================] - 0s 5ms/step - loss: 0.4264 - accuracy: 0.7899 - val_loss: 0.4456 - val_accuracy: 0.8182\n",
            "Epoch 46/100\n",
            "20/20 [==============================] - 0s 5ms/step - loss: 0.4247 - accuracy: 0.8013 - val_loss: 0.4451 - val_accuracy: 0.8052\n",
            "Epoch 47/100\n",
            "20/20 [==============================] - 0s 5ms/step - loss: 0.4270 - accuracy: 0.7883 - val_loss: 0.4475 - val_accuracy: 0.7922\n",
            "Epoch 48/100\n",
            "20/20 [==============================] - 0s 4ms/step - loss: 0.4261 - accuracy: 0.7866 - val_loss: 0.4504 - val_accuracy: 0.8052\n",
            "Epoch 49/100\n",
            "20/20 [==============================] - 0s 4ms/step - loss: 0.4235 - accuracy: 0.7785 - val_loss: 0.4395 - val_accuracy: 0.8182\n",
            "Epoch 50/100\n",
            "20/20 [==============================] - 0s 4ms/step - loss: 0.4231 - accuracy: 0.8013 - val_loss: 0.4459 - val_accuracy: 0.8117\n",
            "Epoch 51/100\n",
            "20/20 [==============================] - 0s 4ms/step - loss: 0.4237 - accuracy: 0.7915 - val_loss: 0.4510 - val_accuracy: 0.8117\n",
            "Epoch 52/100\n",
            "20/20 [==============================] - 0s 4ms/step - loss: 0.4192 - accuracy: 0.7915 - val_loss: 0.4593 - val_accuracy: 0.7922\n",
            "Epoch 53/100\n",
            "20/20 [==============================] - 0s 4ms/step - loss: 0.4224 - accuracy: 0.7932 - val_loss: 0.4482 - val_accuracy: 0.8182\n",
            "Epoch 54/100\n",
            "20/20 [==============================] - 0s 5ms/step - loss: 0.4161 - accuracy: 0.8029 - val_loss: 0.4573 - val_accuracy: 0.7922\n",
            "Epoch 55/100\n",
            "20/20 [==============================] - 0s 5ms/step - loss: 0.4127 - accuracy: 0.7980 - val_loss: 0.4459 - val_accuracy: 0.8117\n",
            "Epoch 56/100\n",
            "20/20 [==============================] - 0s 5ms/step - loss: 0.4138 - accuracy: 0.7964 - val_loss: 0.4625 - val_accuracy: 0.7922\n",
            "Epoch 57/100\n",
            "20/20 [==============================] - 0s 4ms/step - loss: 0.4195 - accuracy: 0.7964 - val_loss: 0.4482 - val_accuracy: 0.7922\n",
            "Epoch 58/100\n",
            "20/20 [==============================] - 0s 4ms/step - loss: 0.4091 - accuracy: 0.8078 - val_loss: 0.4520 - val_accuracy: 0.7857\n",
            "Epoch 59/100\n",
            "20/20 [==============================] - 0s 4ms/step - loss: 0.4100 - accuracy: 0.7948 - val_loss: 0.4534 - val_accuracy: 0.7922\n",
            "Epoch 60/100\n",
            "20/20 [==============================] - 0s 5ms/step - loss: 0.4115 - accuracy: 0.8062 - val_loss: 0.4413 - val_accuracy: 0.7987\n",
            "Epoch 61/100\n",
            "20/20 [==============================] - 0s 5ms/step - loss: 0.4042 - accuracy: 0.8013 - val_loss: 0.4554 - val_accuracy: 0.7922\n",
            "Epoch 62/100\n",
            "20/20 [==============================] - 0s 5ms/step - loss: 0.4089 - accuracy: 0.8062 - val_loss: 0.4593 - val_accuracy: 0.7857\n",
            "Epoch 63/100\n",
            "20/20 [==============================] - 0s 5ms/step - loss: 0.4004 - accuracy: 0.8094 - val_loss: 0.4512 - val_accuracy: 0.7857\n",
            "Epoch 64/100\n",
            "20/20 [==============================] - 0s 5ms/step - loss: 0.4039 - accuracy: 0.8029 - val_loss: 0.4601 - val_accuracy: 0.7792\n",
            "Epoch 65/100\n",
            "20/20 [==============================] - 0s 4ms/step - loss: 0.3967 - accuracy: 0.8176 - val_loss: 0.4629 - val_accuracy: 0.7857\n",
            "Epoch 66/100\n",
            "20/20 [==============================] - 0s 5ms/step - loss: 0.4003 - accuracy: 0.8094 - val_loss: 0.4559 - val_accuracy: 0.7857\n",
            "Epoch 67/100\n",
            "20/20 [==============================] - 0s 5ms/step - loss: 0.4017 - accuracy: 0.8013 - val_loss: 0.4651 - val_accuracy: 0.7987\n",
            "Epoch 68/100\n",
            "20/20 [==============================] - 0s 4ms/step - loss: 0.3988 - accuracy: 0.8176 - val_loss: 0.4629 - val_accuracy: 0.7857\n",
            "Epoch 69/100\n",
            "20/20 [==============================] - 0s 4ms/step - loss: 0.3973 - accuracy: 0.8176 - val_loss: 0.4516 - val_accuracy: 0.7662\n",
            "Epoch 70/100\n",
            "20/20 [==============================] - 0s 5ms/step - loss: 0.3947 - accuracy: 0.8176 - val_loss: 0.4550 - val_accuracy: 0.7857\n",
            "Epoch 71/100\n",
            "20/20 [==============================] - 0s 5ms/step - loss: 0.3898 - accuracy: 0.8225 - val_loss: 0.4662 - val_accuracy: 0.7857\n",
            "Epoch 72/100\n",
            "20/20 [==============================] - 0s 5ms/step - loss: 0.3916 - accuracy: 0.8208 - val_loss: 0.4615 - val_accuracy: 0.7922\n",
            "Epoch 73/100\n",
            "20/20 [==============================] - 0s 5ms/step - loss: 0.3895 - accuracy: 0.8176 - val_loss: 0.4670 - val_accuracy: 0.8052\n",
            "Epoch 74/100\n",
            "20/20 [==============================] - 0s 4ms/step - loss: 0.3863 - accuracy: 0.8322 - val_loss: 0.4703 - val_accuracy: 0.7857\n",
            "Epoch 75/100\n",
            "20/20 [==============================] - 0s 4ms/step - loss: 0.3884 - accuracy: 0.8192 - val_loss: 0.4494 - val_accuracy: 0.7792\n",
            "Epoch 76/100\n",
            "20/20 [==============================] - 0s 5ms/step - loss: 0.3842 - accuracy: 0.8192 - val_loss: 0.4632 - val_accuracy: 0.7727\n",
            "Epoch 77/100\n",
            "20/20 [==============================] - 0s 4ms/step - loss: 0.3901 - accuracy: 0.8192 - val_loss: 0.4676 - val_accuracy: 0.7792\n",
            "Epoch 78/100\n",
            "20/20 [==============================] - 0s 4ms/step - loss: 0.3817 - accuracy: 0.8241 - val_loss: 0.4577 - val_accuracy: 0.7792\n",
            "Epoch 79/100\n",
            "20/20 [==============================] - 0s 5ms/step - loss: 0.3828 - accuracy: 0.8192 - val_loss: 0.4732 - val_accuracy: 0.7857\n",
            "Epoch 80/100\n",
            "20/20 [==============================] - 0s 5ms/step - loss: 0.3815 - accuracy: 0.8208 - val_loss: 0.4684 - val_accuracy: 0.7922\n",
            "Epoch 81/100\n",
            "20/20 [==============================] - 0s 4ms/step - loss: 0.3762 - accuracy: 0.8339 - val_loss: 0.4691 - val_accuracy: 0.7857\n",
            "Epoch 82/100\n",
            "20/20 [==============================] - 0s 4ms/step - loss: 0.3770 - accuracy: 0.8355 - val_loss: 0.4662 - val_accuracy: 0.7987\n",
            "Epoch 83/100\n",
            "20/20 [==============================] - 0s 4ms/step - loss: 0.3724 - accuracy: 0.8339 - val_loss: 0.4731 - val_accuracy: 0.7857\n",
            "Epoch 84/100\n",
            "20/20 [==============================] - 0s 5ms/step - loss: 0.3728 - accuracy: 0.8322 - val_loss: 0.4704 - val_accuracy: 0.7987\n",
            "Epoch 85/100\n",
            "20/20 [==============================] - 0s 5ms/step - loss: 0.3776 - accuracy: 0.8355 - val_loss: 0.4805 - val_accuracy: 0.7922\n",
            "Epoch 86/100\n",
            "20/20 [==============================] - 0s 5ms/step - loss: 0.3720 - accuracy: 0.8274 - val_loss: 0.4701 - val_accuracy: 0.7922\n",
            "Epoch 87/100\n",
            "20/20 [==============================] - 0s 4ms/step - loss: 0.3698 - accuracy: 0.8339 - val_loss: 0.4761 - val_accuracy: 0.8052\n",
            "Epoch 88/100\n",
            "20/20 [==============================] - 0s 4ms/step - loss: 0.3687 - accuracy: 0.8241 - val_loss: 0.4821 - val_accuracy: 0.7922\n",
            "Epoch 89/100\n",
            "20/20 [==============================] - 0s 4ms/step - loss: 0.3692 - accuracy: 0.8257 - val_loss: 0.4703 - val_accuracy: 0.7987\n",
            "Epoch 90/100\n",
            "20/20 [==============================] - 0s 4ms/step - loss: 0.3629 - accuracy: 0.8453 - val_loss: 0.4848 - val_accuracy: 0.7792\n",
            "Epoch 91/100\n",
            "20/20 [==============================] - 0s 5ms/step - loss: 0.3603 - accuracy: 0.8355 - val_loss: 0.4775 - val_accuracy: 0.7857\n",
            "Epoch 92/100\n",
            "20/20 [==============================] - 0s 4ms/step - loss: 0.3599 - accuracy: 0.8469 - val_loss: 0.4818 - val_accuracy: 0.7857\n",
            "Epoch 93/100\n",
            "20/20 [==============================] - 0s 5ms/step - loss: 0.3662 - accuracy: 0.8241 - val_loss: 0.4743 - val_accuracy: 0.7922\n",
            "Epoch 94/100\n",
            "20/20 [==============================] - 0s 5ms/step - loss: 0.3651 - accuracy: 0.8306 - val_loss: 0.4816 - val_accuracy: 0.7857\n",
            "Epoch 95/100\n",
            "20/20 [==============================] - 0s 4ms/step - loss: 0.3556 - accuracy: 0.8420 - val_loss: 0.4689 - val_accuracy: 0.7922\n",
            "Epoch 96/100\n",
            "20/20 [==============================] - 0s 5ms/step - loss: 0.3564 - accuracy: 0.8485 - val_loss: 0.4825 - val_accuracy: 0.7922\n",
            "Epoch 97/100\n",
            "20/20 [==============================] - 0s 5ms/step - loss: 0.3575 - accuracy: 0.8404 - val_loss: 0.4795 - val_accuracy: 0.8052\n",
            "Epoch 98/100\n",
            "20/20 [==============================] - 0s 5ms/step - loss: 0.3529 - accuracy: 0.8518 - val_loss: 0.4925 - val_accuracy: 0.7792\n",
            "Epoch 99/100\n",
            "20/20 [==============================] - 0s 4ms/step - loss: 0.3468 - accuracy: 0.8518 - val_loss: 0.4786 - val_accuracy: 0.7922\n",
            "Epoch 100/100\n",
            "20/20 [==============================] - 0s 4ms/step - loss: 0.3486 - accuracy: 0.8469 - val_loss: 0.4947 - val_accuracy: 0.7792\n"
          ]
        },
        {
          "output_type": "execute_result",
          "data": {
            "text/plain": [
              "<keras.callbacks.History at 0x7f9681caf750>"
            ]
          },
          "metadata": {},
          "execution_count": 71
        }
      ]
    },
    {
      "cell_type": "code",
      "source": [
        "def build_model(hp):\n",
        "  model = Sequential()\n",
        "\n",
        "  counter = 0\n",
        "\n",
        "  for i in range(hp.Int(\"num_layers\",min_value=1,max_value=10)):\n",
        "    if counter == 0:\n",
        "      model.add(Dense(\n",
        "          hp.Int(\"units\"+str(i),min_value=8,max_value=128,step=8),activation=hp.Choice(\"activation\"+str(i),values=[\"relu\",\"tanh\",\"sigmoid\"])\n",
        "      ))\n",
        "      model.add(Dropout(hp.Choice(\"Dropout\"+str(i),values=[0.1,0.2,0.3,0.4,0.5,0.6,0.7,0.8,0.9])))\n",
        "    else:\n",
        "      model.add(Dense(\n",
        "          hp.Int(\"units\"+str(i),min_value=8,max_value=128,step=8)\n",
        "      ,activation=hp.Choice(\"activation\"+str(i),values=[\"relu\",\"tanh\",\"sigmoid\"])))\n",
        "      model.add(Dropout(hp.Choice(\"Dropout\"+str(i),values=[0.1,0.2,0.3,0.4,0.5,0.6,0.7,0.8,0.9])))\n",
        "\n",
        "    counter+=1\n",
        "  model.add(Dense(1,activation=\"sigmoid\"))\n",
        "  model.compile(optimizer=hp.Choice(\"optimizer\",values=[\"adam\",\"sgd\",\"rmsprop\",\"nadam\",\"adadelta\"]),loss=\"binary_crossentropy\",metrics=[\"accuracy\"])\n",
        "  return model"
      ],
      "metadata": {
        "id": "1kFdzvmJcIke"
      },
      "execution_count": null,
      "outputs": []
    },
    {
      "cell_type": "code",
      "source": [
        "tuner = kt.RandomSearch(build_model,\n",
        "                        objective=\"val_accuracy\",\n",
        "                        max_trials=3,\n",
        "                        directory=\"new_dir2\",\n",
        "                        project_name=\"project1\")"
      ],
      "metadata": {
        "id": "gpEXoOohczan"
      },
      "execution_count": null,
      "outputs": []
    },
    {
      "cell_type": "code",
      "source": [
        "tuner.search(X_train,y_train,epochs=5,validation_data=(X_test,y_test))"
      ],
      "metadata": {
        "colab": {
          "base_uri": "https://localhost:8080/"
        },
        "id": "qeNWbe-zc2Y5",
        "outputId": "0d729d58-78c4-42ed-a491-c44689f2b39b"
      },
      "execution_count": null,
      "outputs": [
        {
          "output_type": "stream",
          "name": "stdout",
          "text": [
            "Trial 3 Complete [00h 00m 03s]\n",
            "val_accuracy: 0.6428571343421936\n",
            "\n",
            "Best val_accuracy So Far: 0.6558441519737244\n",
            "Total elapsed time: 00h 00m 08s\n"
          ]
        }
      ]
    },
    {
      "cell_type": "code",
      "source": [
        "tuner.get_best_hyperparameters()[0].values"
      ],
      "metadata": {
        "colab": {
          "base_uri": "https://localhost:8080/"
        },
        "id": "6f7vhTJic5Ot",
        "outputId": "15f1c750-e623-4b3b-fdfc-a1a40c2734e7"
      },
      "execution_count": null,
      "outputs": [
        {
          "output_type": "execute_result",
          "data": {
            "text/plain": [
              "{'num_layers': 5,\n",
              " 'units0': 8,\n",
              " 'activation0': 'relu',\n",
              " 'Dropout0': 0.7,\n",
              " 'optimizer': 'adam',\n",
              " 'units1': 8,\n",
              " 'activation1': 'relu',\n",
              " 'Dropout1': 0.1,\n",
              " 'units2': 8,\n",
              " 'activation2': 'relu',\n",
              " 'Dropout2': 0.1,\n",
              " 'units3': 8,\n",
              " 'activation3': 'relu',\n",
              " 'Dropout3': 0.1,\n",
              " 'units4': 8,\n",
              " 'activation4': 'relu',\n",
              " 'Dropout4': 0.1}"
            ]
          },
          "metadata": {},
          "execution_count": 76
        }
      ]
    },
    {
      "cell_type": "code",
      "source": [
        "model = tuner.get_best_models(num_models=1)[0]"
      ],
      "metadata": {
        "id": "wt9Q7Gpnc-IW"
      },
      "execution_count": null,
      "outputs": []
    },
    {
      "cell_type": "code",
      "source": [
        "model.fit(X_train,y_train,epochs=100,initial_epoch=5,validation_data=(X_test,y_test))"
      ],
      "metadata": {
        "colab": {
          "base_uri": "https://localhost:8080/"
        },
        "id": "NqVznqiedAfs",
        "outputId": "e37e60d8-4037-420d-c52f-4e6abcbce063"
      },
      "execution_count": null,
      "outputs": [
        {
          "output_type": "stream",
          "name": "stdout",
          "text": [
            "Epoch 6/100\n",
            "20/20 [==============================] - 1s 12ms/step - loss: 0.6497 - accuracy: 0.6336 - val_loss: 0.6155 - val_accuracy: 0.6429\n",
            "Epoch 7/100\n",
            "20/20 [==============================] - 0s 5ms/step - loss: 0.6349 - accuracy: 0.6580 - val_loss: 0.5932 - val_accuracy: 0.6429\n",
            "Epoch 8/100\n",
            "20/20 [==============================] - 0s 5ms/step - loss: 0.6304 - accuracy: 0.6417 - val_loss: 0.5809 - val_accuracy: 0.6429\n",
            "Epoch 9/100\n",
            "20/20 [==============================] - 0s 6ms/step - loss: 0.6115 - accuracy: 0.6596 - val_loss: 0.5741 - val_accuracy: 0.6429\n",
            "Epoch 10/100\n",
            "20/20 [==============================] - 0s 5ms/step - loss: 0.6146 - accuracy: 0.6596 - val_loss: 0.5711 - val_accuracy: 0.6429\n",
            "Epoch 11/100\n",
            "20/20 [==============================] - 0s 6ms/step - loss: 0.6067 - accuracy: 0.6482 - val_loss: 0.5680 - val_accuracy: 0.6429\n",
            "Epoch 12/100\n",
            "20/20 [==============================] - 0s 5ms/step - loss: 0.6197 - accuracy: 0.6596 - val_loss: 0.5688 - val_accuracy: 0.6429\n",
            "Epoch 13/100\n",
            "20/20 [==============================] - 0s 5ms/step - loss: 0.5962 - accuracy: 0.6515 - val_loss: 0.5641 - val_accuracy: 0.6429\n",
            "Epoch 14/100\n",
            "20/20 [==============================] - 0s 5ms/step - loss: 0.6209 - accuracy: 0.6531 - val_loss: 0.5633 - val_accuracy: 0.6429\n",
            "Epoch 15/100\n",
            "20/20 [==============================] - 0s 6ms/step - loss: 0.5986 - accuracy: 0.6694 - val_loss: 0.5628 - val_accuracy: 0.6429\n",
            "Epoch 16/100\n",
            "20/20 [==============================] - 0s 5ms/step - loss: 0.5967 - accuracy: 0.6678 - val_loss: 0.5616 - val_accuracy: 0.6429\n",
            "Epoch 17/100\n",
            "20/20 [==============================] - 0s 6ms/step - loss: 0.6155 - accuracy: 0.6547 - val_loss: 0.5615 - val_accuracy: 0.6429\n",
            "Epoch 18/100\n",
            "20/20 [==============================] - 0s 5ms/step - loss: 0.6025 - accuracy: 0.6678 - val_loss: 0.5613 - val_accuracy: 0.6429\n",
            "Epoch 19/100\n",
            "20/20 [==============================] - 0s 5ms/step - loss: 0.5969 - accuracy: 0.6515 - val_loss: 0.5593 - val_accuracy: 0.6429\n",
            "Epoch 20/100\n",
            "20/20 [==============================] - 0s 5ms/step - loss: 0.5870 - accuracy: 0.6564 - val_loss: 0.5572 - val_accuracy: 0.6429\n",
            "Epoch 21/100\n",
            "20/20 [==============================] - 0s 5ms/step - loss: 0.5974 - accuracy: 0.6678 - val_loss: 0.5555 - val_accuracy: 0.6429\n",
            "Epoch 22/100\n",
            "20/20 [==============================] - 0s 5ms/step - loss: 0.5933 - accuracy: 0.6645 - val_loss: 0.5534 - val_accuracy: 0.6429\n",
            "Epoch 23/100\n",
            "20/20 [==============================] - 0s 5ms/step - loss: 0.5808 - accuracy: 0.6792 - val_loss: 0.5507 - val_accuracy: 0.6429\n",
            "Epoch 24/100\n",
            "20/20 [==============================] - 0s 6ms/step - loss: 0.5877 - accuracy: 0.6743 - val_loss: 0.5490 - val_accuracy: 0.6429\n",
            "Epoch 25/100\n",
            "20/20 [==============================] - 0s 6ms/step - loss: 0.5855 - accuracy: 0.6661 - val_loss: 0.5490 - val_accuracy: 0.6429\n",
            "Epoch 26/100\n",
            "20/20 [==============================] - 0s 5ms/step - loss: 0.5968 - accuracy: 0.6710 - val_loss: 0.5475 - val_accuracy: 0.6494\n",
            "Epoch 27/100\n",
            "20/20 [==============================] - 0s 5ms/step - loss: 0.5941 - accuracy: 0.6743 - val_loss: 0.5470 - val_accuracy: 0.6494\n",
            "Epoch 28/100\n",
            "20/20 [==============================] - 0s 5ms/step - loss: 0.5804 - accuracy: 0.6808 - val_loss: 0.5456 - val_accuracy: 0.6494\n",
            "Epoch 29/100\n",
            "20/20 [==============================] - 0s 5ms/step - loss: 0.5774 - accuracy: 0.6694 - val_loss: 0.5422 - val_accuracy: 0.6558\n",
            "Epoch 30/100\n",
            "20/20 [==============================] - 0s 5ms/step - loss: 0.5689 - accuracy: 0.6873 - val_loss: 0.5398 - val_accuracy: 0.6688\n",
            "Epoch 31/100\n",
            "20/20 [==============================] - 0s 5ms/step - loss: 0.5953 - accuracy: 0.6759 - val_loss: 0.5392 - val_accuracy: 0.6688\n",
            "Epoch 32/100\n",
            "20/20 [==============================] - 0s 5ms/step - loss: 0.5865 - accuracy: 0.6824 - val_loss: 0.5399 - val_accuracy: 0.6688\n",
            "Epoch 33/100\n",
            "20/20 [==============================] - 0s 5ms/step - loss: 0.5768 - accuracy: 0.6824 - val_loss: 0.5386 - val_accuracy: 0.6688\n",
            "Epoch 34/100\n",
            "20/20 [==============================] - 0s 5ms/step - loss: 0.5849 - accuracy: 0.6808 - val_loss: 0.5370 - val_accuracy: 0.6948\n",
            "Epoch 35/100\n",
            "20/20 [==============================] - 0s 5ms/step - loss: 0.5738 - accuracy: 0.6971 - val_loss: 0.5317 - val_accuracy: 0.7013\n",
            "Epoch 36/100\n",
            "20/20 [==============================] - 0s 6ms/step - loss: 0.5801 - accuracy: 0.6954 - val_loss: 0.5297 - val_accuracy: 0.6948\n",
            "Epoch 37/100\n",
            "20/20 [==============================] - 0s 5ms/step - loss: 0.5892 - accuracy: 0.6922 - val_loss: 0.5272 - val_accuracy: 0.7143\n",
            "Epoch 38/100\n",
            "20/20 [==============================] - 0s 5ms/step - loss: 0.5774 - accuracy: 0.6954 - val_loss: 0.5262 - val_accuracy: 0.7273\n",
            "Epoch 39/100\n",
            "20/20 [==============================] - 0s 6ms/step - loss: 0.5800 - accuracy: 0.6726 - val_loss: 0.5253 - val_accuracy: 0.7338\n",
            "Epoch 40/100\n",
            "20/20 [==============================] - 0s 5ms/step - loss: 0.5915 - accuracy: 0.6922 - val_loss: 0.5252 - val_accuracy: 0.7273\n",
            "Epoch 41/100\n",
            "20/20 [==============================] - 0s 5ms/step - loss: 0.5779 - accuracy: 0.6922 - val_loss: 0.5237 - val_accuracy: 0.7403\n",
            "Epoch 42/100\n",
            "20/20 [==============================] - 0s 5ms/step - loss: 0.5786 - accuracy: 0.6857 - val_loss: 0.5244 - val_accuracy: 0.7403\n",
            "Epoch 43/100\n",
            "20/20 [==============================] - 0s 5ms/step - loss: 0.5795 - accuracy: 0.6906 - val_loss: 0.5274 - val_accuracy: 0.7338\n",
            "Epoch 44/100\n",
            "20/20 [==============================] - 0s 5ms/step - loss: 0.5878 - accuracy: 0.6840 - val_loss: 0.5291 - val_accuracy: 0.7143\n",
            "Epoch 45/100\n",
            "20/20 [==============================] - 0s 5ms/step - loss: 0.5683 - accuracy: 0.6857 - val_loss: 0.5277 - val_accuracy: 0.7143\n",
            "Epoch 46/100\n",
            "20/20 [==============================] - 0s 5ms/step - loss: 0.5654 - accuracy: 0.7020 - val_loss: 0.5245 - val_accuracy: 0.7403\n",
            "Epoch 47/100\n",
            "20/20 [==============================] - 0s 5ms/step - loss: 0.5834 - accuracy: 0.6954 - val_loss: 0.5234 - val_accuracy: 0.7403\n",
            "Epoch 48/100\n",
            "20/20 [==============================] - 0s 5ms/step - loss: 0.5467 - accuracy: 0.7101 - val_loss: 0.5210 - val_accuracy: 0.7403\n",
            "Epoch 49/100\n",
            "20/20 [==============================] - 0s 5ms/step - loss: 0.5734 - accuracy: 0.6873 - val_loss: 0.5208 - val_accuracy: 0.7403\n",
            "Epoch 50/100\n",
            "20/20 [==============================] - 0s 5ms/step - loss: 0.5727 - accuracy: 0.6889 - val_loss: 0.5179 - val_accuracy: 0.7403\n",
            "Epoch 51/100\n",
            "20/20 [==============================] - 0s 5ms/step - loss: 0.5504 - accuracy: 0.7068 - val_loss: 0.5154 - val_accuracy: 0.7403\n",
            "Epoch 52/100\n",
            "20/20 [==============================] - 0s 5ms/step - loss: 0.5563 - accuracy: 0.7003 - val_loss: 0.5153 - val_accuracy: 0.7403\n",
            "Epoch 53/100\n",
            "20/20 [==============================] - 0s 5ms/step - loss: 0.5593 - accuracy: 0.7052 - val_loss: 0.5192 - val_accuracy: 0.7273\n",
            "Epoch 54/100\n",
            "20/20 [==============================] - 0s 5ms/step - loss: 0.5893 - accuracy: 0.7020 - val_loss: 0.5217 - val_accuracy: 0.7338\n",
            "Epoch 55/100\n",
            "20/20 [==============================] - 0s 6ms/step - loss: 0.5695 - accuracy: 0.6954 - val_loss: 0.5221 - val_accuracy: 0.7403\n",
            "Epoch 56/100\n",
            "20/20 [==============================] - 0s 5ms/step - loss: 0.5628 - accuracy: 0.7020 - val_loss: 0.5190 - val_accuracy: 0.7338\n",
            "Epoch 57/100\n",
            "20/20 [==============================] - 0s 6ms/step - loss: 0.5693 - accuracy: 0.6954 - val_loss: 0.5232 - val_accuracy: 0.7403\n",
            "Epoch 58/100\n",
            "20/20 [==============================] - 0s 5ms/step - loss: 0.5670 - accuracy: 0.7166 - val_loss: 0.5231 - val_accuracy: 0.7403\n",
            "Epoch 59/100\n",
            "20/20 [==============================] - 0s 5ms/step - loss: 0.5788 - accuracy: 0.6971 - val_loss: 0.5226 - val_accuracy: 0.7403\n",
            "Epoch 60/100\n",
            "20/20 [==============================] - 0s 5ms/step - loss: 0.5657 - accuracy: 0.6987 - val_loss: 0.5223 - val_accuracy: 0.7403\n",
            "Epoch 61/100\n",
            "20/20 [==============================] - 0s 5ms/step - loss: 0.5925 - accuracy: 0.6824 - val_loss: 0.5232 - val_accuracy: 0.7403\n",
            "Epoch 62/100\n",
            "20/20 [==============================] - 0s 5ms/step - loss: 0.5660 - accuracy: 0.6840 - val_loss: 0.5244 - val_accuracy: 0.7403\n",
            "Epoch 63/100\n",
            "20/20 [==============================] - 0s 5ms/step - loss: 0.5621 - accuracy: 0.6906 - val_loss: 0.5235 - val_accuracy: 0.7338\n",
            "Epoch 64/100\n",
            "20/20 [==============================] - 0s 5ms/step - loss: 0.5563 - accuracy: 0.7264 - val_loss: 0.5155 - val_accuracy: 0.7597\n",
            "Epoch 65/100\n",
            "20/20 [==============================] - 0s 5ms/step - loss: 0.5593 - accuracy: 0.7003 - val_loss: 0.5132 - val_accuracy: 0.7597\n",
            "Epoch 66/100\n",
            "20/20 [==============================] - 0s 5ms/step - loss: 0.5632 - accuracy: 0.7052 - val_loss: 0.5119 - val_accuracy: 0.7532\n",
            "Epoch 67/100\n",
            "20/20 [==============================] - 0s 5ms/step - loss: 0.5546 - accuracy: 0.7003 - val_loss: 0.5101 - val_accuracy: 0.7468\n",
            "Epoch 68/100\n",
            "20/20 [==============================] - 0s 5ms/step - loss: 0.5638 - accuracy: 0.7036 - val_loss: 0.5074 - val_accuracy: 0.7597\n",
            "Epoch 69/100\n",
            "20/20 [==============================] - 0s 5ms/step - loss: 0.5656 - accuracy: 0.7052 - val_loss: 0.5055 - val_accuracy: 0.7662\n",
            "Epoch 70/100\n",
            "20/20 [==============================] - 0s 5ms/step - loss: 0.5490 - accuracy: 0.7182 - val_loss: 0.5035 - val_accuracy: 0.7662\n",
            "Epoch 71/100\n",
            "20/20 [==============================] - 0s 5ms/step - loss: 0.5583 - accuracy: 0.7182 - val_loss: 0.5074 - val_accuracy: 0.7662\n",
            "Epoch 72/100\n",
            "20/20 [==============================] - 0s 5ms/step - loss: 0.5543 - accuracy: 0.7068 - val_loss: 0.5095 - val_accuracy: 0.7597\n",
            "Epoch 73/100\n",
            "20/20 [==============================] - 0s 6ms/step - loss: 0.5523 - accuracy: 0.7003 - val_loss: 0.5107 - val_accuracy: 0.7597\n",
            "Epoch 74/100\n",
            "20/20 [==============================] - 0s 5ms/step - loss: 0.5502 - accuracy: 0.7182 - val_loss: 0.5090 - val_accuracy: 0.7727\n",
            "Epoch 75/100\n",
            "20/20 [==============================] - 0s 5ms/step - loss: 0.5737 - accuracy: 0.7150 - val_loss: 0.5138 - val_accuracy: 0.7597\n",
            "Epoch 76/100\n",
            "20/20 [==============================] - 0s 5ms/step - loss: 0.5442 - accuracy: 0.7182 - val_loss: 0.5130 - val_accuracy: 0.7727\n",
            "Epoch 77/100\n",
            "20/20 [==============================] - 0s 5ms/step - loss: 0.5535 - accuracy: 0.7182 - val_loss: 0.5114 - val_accuracy: 0.7727\n",
            "Epoch 78/100\n",
            "20/20 [==============================] - 0s 5ms/step - loss: 0.5614 - accuracy: 0.7117 - val_loss: 0.5110 - val_accuracy: 0.7727\n",
            "Epoch 79/100\n",
            "20/20 [==============================] - 0s 5ms/step - loss: 0.5466 - accuracy: 0.7313 - val_loss: 0.5062 - val_accuracy: 0.7727\n",
            "Epoch 80/100\n",
            "20/20 [==============================] - 0s 5ms/step - loss: 0.5428 - accuracy: 0.7134 - val_loss: 0.5026 - val_accuracy: 0.7727\n",
            "Epoch 81/100\n",
            "20/20 [==============================] - 0s 5ms/step - loss: 0.5723 - accuracy: 0.7052 - val_loss: 0.5008 - val_accuracy: 0.7727\n",
            "Epoch 82/100\n",
            "20/20 [==============================] - 0s 5ms/step - loss: 0.5781 - accuracy: 0.7020 - val_loss: 0.5027 - val_accuracy: 0.7792\n",
            "Epoch 83/100\n",
            "20/20 [==============================] - 0s 5ms/step - loss: 0.5558 - accuracy: 0.7085 - val_loss: 0.5032 - val_accuracy: 0.7792\n",
            "Epoch 84/100\n",
            "20/20 [==============================] - 0s 5ms/step - loss: 0.5501 - accuracy: 0.7036 - val_loss: 0.5026 - val_accuracy: 0.7727\n",
            "Epoch 85/100\n",
            "20/20 [==============================] - 0s 5ms/step - loss: 0.5530 - accuracy: 0.7166 - val_loss: 0.5029 - val_accuracy: 0.7792\n",
            "Epoch 86/100\n",
            "20/20 [==============================] - 0s 5ms/step - loss: 0.5367 - accuracy: 0.7313 - val_loss: 0.5023 - val_accuracy: 0.7792\n",
            "Epoch 87/100\n",
            "20/20 [==============================] - 0s 5ms/step - loss: 0.5604 - accuracy: 0.7101 - val_loss: 0.5044 - val_accuracy: 0.7792\n",
            "Epoch 88/100\n",
            "20/20 [==============================] - 0s 5ms/step - loss: 0.5522 - accuracy: 0.6971 - val_loss: 0.5021 - val_accuracy: 0.7792\n",
            "Epoch 89/100\n",
            "20/20 [==============================] - 0s 6ms/step - loss: 0.5444 - accuracy: 0.7248 - val_loss: 0.4999 - val_accuracy: 0.7792\n",
            "Epoch 90/100\n",
            "20/20 [==============================] - 0s 5ms/step - loss: 0.5620 - accuracy: 0.7134 - val_loss: 0.5013 - val_accuracy: 0.7792\n",
            "Epoch 91/100\n",
            "20/20 [==============================] - 0s 5ms/step - loss: 0.5715 - accuracy: 0.7052 - val_loss: 0.5009 - val_accuracy: 0.7792\n",
            "Epoch 92/100\n",
            "20/20 [==============================] - 0s 5ms/step - loss: 0.5648 - accuracy: 0.7231 - val_loss: 0.5055 - val_accuracy: 0.7792\n",
            "Epoch 93/100\n",
            "20/20 [==============================] - 0s 5ms/step - loss: 0.5485 - accuracy: 0.7150 - val_loss: 0.5059 - val_accuracy: 0.7727\n",
            "Epoch 94/100\n",
            "20/20 [==============================] - 0s 5ms/step - loss: 0.5793 - accuracy: 0.6840 - val_loss: 0.5049 - val_accuracy: 0.7792\n",
            "Epoch 95/100\n",
            "20/20 [==============================] - 0s 6ms/step - loss: 0.5773 - accuracy: 0.7117 - val_loss: 0.5074 - val_accuracy: 0.7727\n",
            "Epoch 96/100\n",
            "20/20 [==============================] - 0s 6ms/step - loss: 0.5680 - accuracy: 0.7068 - val_loss: 0.5104 - val_accuracy: 0.7727\n",
            "Epoch 97/100\n",
            "20/20 [==============================] - 0s 5ms/step - loss: 0.5587 - accuracy: 0.7199 - val_loss: 0.5101 - val_accuracy: 0.7727\n",
            "Epoch 98/100\n",
            "20/20 [==============================] - 0s 6ms/step - loss: 0.5623 - accuracy: 0.7134 - val_loss: 0.5095 - val_accuracy: 0.7727\n",
            "Epoch 99/100\n",
            "20/20 [==============================] - 0s 5ms/step - loss: 0.5741 - accuracy: 0.7052 - val_loss: 0.5087 - val_accuracy: 0.7727\n",
            "Epoch 100/100\n",
            "20/20 [==============================] - 0s 5ms/step - loss: 0.5682 - accuracy: 0.7036 - val_loss: 0.5073 - val_accuracy: 0.7727\n"
          ]
        },
        {
          "output_type": "execute_result",
          "data": {
            "text/plain": [
              "<keras.callbacks.History at 0x7f9682e5fd10>"
            ]
          },
          "metadata": {},
          "execution_count": 78
        }
      ]
    },
    {
      "cell_type": "code",
      "source": [],
      "metadata": {
        "id": "KAHe-bHcdFAx"
      },
      "execution_count": null,
      "outputs": []
    }
  ]
}