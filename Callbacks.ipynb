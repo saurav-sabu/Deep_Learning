{
  "nbformat": 4,
  "nbformat_minor": 0,
  "metadata": {
    "colab": {
      "provenance": [],
      "collapsed_sections": []
    },
    "kernelspec": {
      "name": "python3",
      "display_name": "Python 3"
    },
    "language_info": {
      "name": "python"
    },
    "accelerator": "GPU",
    "gpuClass": "standard"
  },
  "cells": [
    {
      "cell_type": "code",
      "execution_count": null,
      "metadata": {
        "id": "hIDHvxfYTCWA"
      },
      "outputs": [],
      "source": [
        "from tensorflow import keras\n",
        "from keras.models import Sequential\n",
        "from keras.layers import *"
      ]
    },
    {
      "cell_type": "code",
      "source": [
        "(X_train,y_train),(X_test,y_test) = keras.datasets.mnist.load_data()"
      ],
      "metadata": {
        "id": "Tfq3ozP4TODD"
      },
      "execution_count": null,
      "outputs": []
    },
    {
      "cell_type": "code",
      "source": [
        "X_train = X_train/255\n",
        "X_test = X_test/255"
      ],
      "metadata": {
        "id": "nz7AxvVeTp2m"
      },
      "execution_count": null,
      "outputs": []
    },
    {
      "cell_type": "code",
      "source": [
        "X_train.shape"
      ],
      "metadata": {
        "colab": {
          "base_uri": "https://localhost:8080/"
        },
        "id": "w3j97WVsT1qz",
        "outputId": "01a8364b-c685-4484-b2d3-e59b94647dee"
      },
      "execution_count": null,
      "outputs": [
        {
          "output_type": "execute_result",
          "data": {
            "text/plain": [
              "(60000, 28, 28)"
            ]
          },
          "metadata": {},
          "execution_count": 14
        }
      ]
    },
    {
      "cell_type": "code",
      "source": [
        "tb = keras.callbacks.TensorBoard(log_dir=\"logs/\",histogram_freq=1)"
      ],
      "metadata": {
        "id": "t-qi0zECUPkt"
      },
      "execution_count": null,
      "outputs": []
    },
    {
      "cell_type": "code",
      "source": [
        "model = Sequential()"
      ],
      "metadata": {
        "id": "szmx-JFyTo9P"
      },
      "execution_count": null,
      "outputs": []
    },
    {
      "cell_type": "code",
      "source": [
        "model.add(Flatten(input_shape=(28,28)))\n",
        "model.add(Dense(128,activation=\"relu\"))\n",
        "model.add(Dense(10,activation=\"softmax\"))"
      ],
      "metadata": {
        "id": "jUcbn1X9TvnD"
      },
      "execution_count": null,
      "outputs": []
    },
    {
      "cell_type": "code",
      "source": [
        "from keras import callbacks\n",
        "model.compile(optimizer=\"adam\",loss=\"sparse_categorical_crossentropy\",metrics=[\"accuracy\"])"
      ],
      "metadata": {
        "id": "E2E-JQ_SUA4M"
      },
      "execution_count": null,
      "outputs": []
    },
    {
      "cell_type": "code",
      "source": [
        "model.fit(X_train,y_train,epochs=5,callbacks=[tb],validation_data=(X_test,y_test))"
      ],
      "metadata": {
        "colab": {
          "base_uri": "https://localhost:8080/"
        },
        "id": "zas8EcdjUHuY",
        "outputId": "562fb82e-7a68-48ee-9e7b-6f2f27bc984b"
      },
      "execution_count": null,
      "outputs": [
        {
          "output_type": "stream",
          "name": "stdout",
          "text": [
            "Epoch 1/5\n",
            "1875/1875 [==============================] - 5s 3ms/step - loss: 0.0376 - accuracy: 0.9880 - val_loss: 0.0750 - val_accuracy: 0.9784\n",
            "Epoch 2/5\n",
            "1875/1875 [==============================] - 5s 3ms/step - loss: 0.0286 - accuracy: 0.9914 - val_loss: 0.0773 - val_accuracy: 0.9775\n",
            "Epoch 3/5\n",
            "1875/1875 [==============================] - 5s 3ms/step - loss: 0.0227 - accuracy: 0.9933 - val_loss: 0.0789 - val_accuracy: 0.9791\n",
            "Epoch 4/5\n",
            "1875/1875 [==============================] - 5s 3ms/step - loss: 0.0202 - accuracy: 0.9939 - val_loss: 0.0727 - val_accuracy: 0.9797\n",
            "Epoch 5/5\n",
            "1875/1875 [==============================] - 5s 3ms/step - loss: 0.0162 - accuracy: 0.9951 - val_loss: 0.0867 - val_accuracy: 0.9777\n"
          ]
        },
        {
          "output_type": "execute_result",
          "data": {
            "text/plain": [
              "<keras.callbacks.History at 0x7f4650101fd0>"
            ]
          },
          "metadata": {},
          "execution_count": 27
        }
      ]
    },
    {
      "cell_type": "code",
      "source": [
        "!pwd"
      ],
      "metadata": {
        "colab": {
          "base_uri": "https://localhost:8080/"
        },
        "id": "Ih6cuJyBUmfr",
        "outputId": "1b7d2be6-be62-4f96-a9ae-8eb006e95671"
      },
      "execution_count": null,
      "outputs": [
        {
          "output_type": "stream",
          "name": "stdout",
          "text": [
            "/content\n"
          ]
        }
      ]
    },
    {
      "cell_type": "markdown",
      "source": [
        "#### TensorBoard"
      ],
      "metadata": {
        "id": "yVI6Na7G6xuY"
      }
    },
    {
      "cell_type": "code",
      "source": [
        "!tensorboard --logdir logs/"
      ],
      "metadata": {
        "colab": {
          "base_uri": "https://localhost:8080/"
        },
        "id": "OIZSzteoVQ5F",
        "outputId": "a9ec712e-50f3-41b4-c9a5-7590a83b3357"
      },
      "execution_count": null,
      "outputs": [
        {
          "output_type": "stream",
          "name": "stdout",
          "text": [
            "\n",
            "NOTE: Using experimental fast data loading logic. To disable, pass\n",
            "    \"--load_fast=false\" and report issues on GitHub. More details:\n",
            "    https://github.com/tensorflow/tensorboard/issues/4784\n",
            "\n",
            "Serving TensorBoard on localhost; to expose to the network, use a proxy or pass --bind_all\n",
            "TensorBoard 2.9.1 at http://localhost:6006/ (Press CTRL+C to quit)\n",
            "Error in atexit._run_exitfuncs:\n",
            "Traceback (most recent call last):\n",
            "  File \"/usr/lib/python3.7/logging/__init__.py\", line 2035, in shutdown\n",
            "    h.acquire()\n",
            "  File \"/usr/lib/python3.7/logging/__init__.py\", line 842, in acquire\n",
            "    if self.lock:\n",
            "KeyboardInterrupt\n",
            "\n",
            "During handling of the above exception, another exception occurred:\n",
            "\n",
            "Traceback (most recent call last):\n",
            "  File \"/usr/lib/python3.7/logging/__init__.py\", line 2045, in shutdown\n",
            "    h.release()\n",
            "  File \"/usr/lib/python3.7/logging/__init__.py\", line 850, in release\n",
            "    self.lock.release()\n",
            "RuntimeError: cannot release un-acquired lock\n"
          ]
        }
      ]
    },
    {
      "cell_type": "markdown",
      "source": [
        "#### Early Stopping"
      ],
      "metadata": {
        "id": "7aQ5OIMr61X-"
      }
    },
    {
      "cell_type": "code",
      "source": [
        "tb1 = tf.keras.callbacks.EarlyStopping(\n",
        "    monitor=\"val_loss\",\n",
        "    verbose=1,\n",
        "    mode=\"min\",\n",
        "    baseline=None,\n",
        "    restore_best_weights=False,\n",
        ")"
      ],
      "metadata": {
        "id": "pKJ_0KQMVVeM"
      },
      "execution_count": null,
      "outputs": []
    },
    {
      "cell_type": "code",
      "source": [
        "model.fit(X_train,y_train,epochs=50,callbacks=[tb1],validation_data=(X_test,y_test))"
      ],
      "metadata": {
        "colab": {
          "base_uri": "https://localhost:8080/"
        },
        "id": "UcsQLYjWVWvo",
        "outputId": "42269bcf-3fca-460d-f2cf-b37f315dcfda"
      },
      "execution_count": null,
      "outputs": [
        {
          "output_type": "stream",
          "name": "stdout",
          "text": [
            "Epoch 1/50\n",
            "1875/1875 [==============================] - 5s 3ms/step - loss: 0.0099 - accuracy: 0.9972 - val_loss: 0.0843 - val_accuracy: 0.9805\n",
            "Epoch 2/50\n",
            "1875/1875 [==============================] - 5s 3ms/step - loss: 0.0083 - accuracy: 0.9975 - val_loss: 0.0974 - val_accuracy: 0.9789\n",
            "Epoch 2: early stopping\n"
          ]
        },
        {
          "output_type": "execute_result",
          "data": {
            "text/plain": [
              "<keras.callbacks.History at 0x7f4600019310>"
            ]
          },
          "metadata": {},
          "execution_count": 34
        }
      ]
    },
    {
      "cell_type": "markdown",
      "source": [
        "#### Model Checkpoint"
      ],
      "metadata": {
        "id": "QJr_ttK564pa"
      }
    },
    {
      "cell_type": "code",
      "source": [
        "tb2 = tf.keras.callbacks.ModelCheckpoint(\n",
        "    \"file.hdfs\",\n",
        "    monitor=\"val_accuracy\",\n",
        "    verbose=1,\n",
        "    save_best_only=True,\n",
        "    mode=\"max\"\n",
        ")"
      ],
      "metadata": {
        "id": "nfUQuJpVZDNm"
      },
      "execution_count": null,
      "outputs": []
    },
    {
      "cell_type": "code",
      "source": [
        "model.fit(X_train,y_train,epochs=5,callbacks=[tb2],validation_data=(X_test,y_test))"
      ],
      "metadata": {
        "colab": {
          "base_uri": "https://localhost:8080/"
        },
        "id": "JrOOremuZ_pM",
        "outputId": "15731651-076c-46a3-b0d5-491af47f02ec"
      },
      "execution_count": null,
      "outputs": [
        {
          "output_type": "stream",
          "name": "stdout",
          "text": [
            "Epoch 1/5\n",
            "1857/1875 [============================>.] - ETA: 0s - loss: 0.0086 - accuracy: 0.9973\n",
            "Epoch 1: val_accuracy improved from -inf to 0.97840, saving model to file.hdfs\n",
            "1875/1875 [==============================] - 6s 3ms/step - loss: 0.0087 - accuracy: 0.9973 - val_loss: 0.0962 - val_accuracy: 0.9784\n",
            "Epoch 2/5\n",
            "1862/1875 [============================>.] - ETA: 0s - loss: 0.0069 - accuracy: 0.9981\n",
            "Epoch 2: val_accuracy improved from 0.97840 to 0.97980, saving model to file.hdfs\n",
            "1875/1875 [==============================] - 5s 3ms/step - loss: 0.0069 - accuracy: 0.9981 - val_loss: 0.0974 - val_accuracy: 0.9798\n",
            "Epoch 3/5\n",
            "1867/1875 [============================>.] - ETA: 0s - loss: 0.0074 - accuracy: 0.9977\n",
            "Epoch 3: val_accuracy improved from 0.97980 to 0.98030, saving model to file.hdfs\n",
            "1875/1875 [==============================] - 5s 3ms/step - loss: 0.0075 - accuracy: 0.9977 - val_loss: 0.0941 - val_accuracy: 0.9803\n",
            "Epoch 4/5\n",
            "1867/1875 [============================>.] - ETA: 0s - loss: 0.0057 - accuracy: 0.9984\n",
            "Epoch 4: val_accuracy did not improve from 0.98030\n",
            "1875/1875 [==============================] - 5s 3ms/step - loss: 0.0056 - accuracy: 0.9984 - val_loss: 0.0984 - val_accuracy: 0.9794\n",
            "Epoch 5/5\n",
            "1854/1875 [============================>.] - ETA: 0s - loss: 0.0068 - accuracy: 0.9978\n",
            "Epoch 5: val_accuracy did not improve from 0.98030\n",
            "1875/1875 [==============================] - 5s 3ms/step - loss: 0.0068 - accuracy: 0.9978 - val_loss: 0.1099 - val_accuracy: 0.9779\n"
          ]
        },
        {
          "output_type": "execute_result",
          "data": {
            "text/plain": [
              "<keras.callbacks.History at 0x7f45ea18d850>"
            ]
          },
          "metadata": {},
          "execution_count": 36
        }
      ]
    },
    {
      "cell_type": "markdown",
      "source": [
        "#### Creation of our own custom callbacks"
      ],
      "metadata": {
        "id": "glmfes4z67fy"
      }
    },
    {
      "cell_type": "code",
      "source": [
        "class myCallback(tf.keras.callbacks.Callback):\n",
        "  def on_epoch_end(self,epoch,logs=[]):\n",
        "    print(f\"current epoch:\",epoch)\n",
        "\n",
        "callback = myCallback()"
      ],
      "metadata": {
        "id": "rvKQ4n3KaCgm"
      },
      "execution_count": null,
      "outputs": []
    },
    {
      "cell_type": "code",
      "source": [
        "model.fit(X_train,y_train,epochs=5,callbacks=[callback],validation_data=(X_test,y_test))"
      ],
      "metadata": {
        "colab": {
          "base_uri": "https://localhost:8080/"
        },
        "id": "-4sGQJhba1St",
        "outputId": "3101a551-9ef6-4ebe-9bee-1729f1649d94"
      },
      "execution_count": null,
      "outputs": [
        {
          "output_type": "stream",
          "name": "stdout",
          "text": [
            "Epoch 1/5\n",
            "1859/1875 [============================>.] - ETA: 0s - loss: 0.0042 - accuracy: 0.9987current epoch: 0\n",
            "1875/1875 [==============================] - 5s 3ms/step - loss: 0.0042 - accuracy: 0.9987 - val_loss: 0.1265 - val_accuracy: 0.9784\n",
            "Epoch 2/5\n",
            "1866/1875 [============================>.] - ETA: 0s - loss: 0.0037 - accuracy: 0.9991current epoch: 1\n",
            "1875/1875 [==============================] - 5s 3ms/step - loss: 0.0036 - accuracy: 0.9991 - val_loss: 0.1056 - val_accuracy: 0.9823\n",
            "Epoch 3/5\n",
            "1862/1875 [============================>.] - ETA: 0s - loss: 0.0047 - accuracy: 0.9984current epoch: 2\n",
            "1875/1875 [==============================] - 5s 3ms/step - loss: 0.0047 - accuracy: 0.9984 - val_loss: 0.1074 - val_accuracy: 0.9802\n",
            "Epoch 4/5\n",
            "1866/1875 [============================>.] - ETA: 0s - loss: 0.0031 - accuracy: 0.9989current epoch: 3\n",
            "1875/1875 [==============================] - 5s 3ms/step - loss: 0.0031 - accuracy: 0.9989 - val_loss: 0.1269 - val_accuracy: 0.9798\n",
            "Epoch 5/5\n",
            "1865/1875 [============================>.] - ETA: 0s - loss: 0.0045 - accuracy: 0.9985current epoch: 4\n",
            "1875/1875 [==============================] - 5s 3ms/step - loss: 0.0045 - accuracy: 0.9985 - val_loss: 0.1197 - val_accuracy: 0.9799\n"
          ]
        },
        {
          "output_type": "execute_result",
          "data": {
            "text/plain": [
              "<keras.callbacks.History at 0x7f46002d0c50>"
            ]
          },
          "metadata": {},
          "execution_count": 41
        }
      ]
    },
    {
      "cell_type": "code",
      "source": [
        "class myCallback(tf.keras.callbacks.Callback):\n",
        "  def on_epoch_end(self,epoch,logs=[]):\n",
        "    print(f\"current epoch:\",epoch)\n",
        "    if logs[\"val_accuracy\"] > 0.70:\n",
        "      self.model.stop_training=True\n",
        "      print(\"Accuracy_score greater than threshold, training stopped\")\n",
        "\n",
        "callback = myCallback()"
      ],
      "metadata": {
        "id": "0IpzX5-2a7xZ"
      },
      "execution_count": null,
      "outputs": []
    },
    {
      "cell_type": "code",
      "source": [
        "model.fit(X_train,y_train,epochs=5,callbacks=[callback],validation_data=(X_test,y_test))"
      ],
      "metadata": {
        "colab": {
          "base_uri": "https://localhost:8080/"
        },
        "id": "J2z11GC4bkZn",
        "outputId": "19466163-018e-49ab-ee8b-a32fb2edd48a"
      },
      "execution_count": null,
      "outputs": [
        {
          "output_type": "stream",
          "name": "stdout",
          "text": [
            "Epoch 1/5\n",
            "1874/1875 [============================>.] - ETA: 0s - loss: 0.0017 - accuracy: 0.9995current epoch: 0\n",
            "Accuracy_score greater than threshold, training stopped\n",
            "1875/1875 [==============================] - 6s 3ms/step - loss: 0.0017 - accuracy: 0.9995 - val_loss: 0.1491 - val_accuracy: 0.9767\n"
          ]
        },
        {
          "output_type": "execute_result",
          "data": {
            "text/plain": [
              "<keras.callbacks.History at 0x7f45d979e550>"
            ]
          },
          "metadata": {},
          "execution_count": 43
        }
      ]
    },
    {
      "cell_type": "code",
      "source": [],
      "metadata": {
        "id": "1q1V66DAbmGQ"
      },
      "execution_count": null,
      "outputs": []
    }
  ]
}