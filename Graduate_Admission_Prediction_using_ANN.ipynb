{
  "nbformat": 4,
  "nbformat_minor": 0,
  "metadata": {
    "colab": {
      "provenance": [],
      "collapsed_sections": []
    },
    "kernelspec": {
      "name": "python3",
      "display_name": "Python 3"
    },
    "language_info": {
      "name": "python"
    },
    "accelerator": "GPU",
    "gpuClass": "standard"
  },
  "cells": [
    {
      "cell_type": "markdown",
      "source": [
        "#### **Importing Module**"
      ],
      "metadata": {
        "id": "E94NWVfAxcLK"
      }
    },
    {
      "cell_type": "code",
      "execution_count": null,
      "metadata": {
        "id": "B_s4OCAi0u1k"
      },
      "outputs": [],
      "source": [
        "import pandas as pd\n",
        "from sklearn.preprocessing import MinMaxScaler\n",
        "from sklearn.model_selection import train_test_split\n",
        "import matplotlib.pyplot as plt\n",
        "\n",
        "import tensorflow\n",
        "from tensorflow import keras\n",
        "from keras.layers import Dense\n",
        "from keras import Sequential"
      ]
    },
    {
      "cell_type": "markdown",
      "source": [
        "#### **Load Data**"
      ],
      "metadata": {
        "id": "KQpODAlhxiy4"
      }
    },
    {
      "cell_type": "code",
      "source": [
        "df = pd.read_csv(\"/content/Admission_Predict.csv\")"
      ],
      "metadata": {
        "id": "Z5wFIfpM1kED"
      },
      "execution_count": null,
      "outputs": []
    },
    {
      "cell_type": "code",
      "source": [
        "df.shape"
      ],
      "metadata": {
        "colab": {
          "base_uri": "https://localhost:8080/"
        },
        "id": "EP9SeCzd1n10",
        "outputId": "56d87ab9-ece5-4d67-f69c-5040fe4a299e"
      },
      "execution_count": null,
      "outputs": [
        {
          "output_type": "execute_result",
          "data": {
            "text/plain": [
              "(400, 9)"
            ]
          },
          "metadata": {},
          "execution_count": 3
        }
      ]
    },
    {
      "cell_type": "markdown",
      "source": [
        "#### **Data Preprocessing**"
      ],
      "metadata": {
        "id": "I9SNfCEoxm7N"
      }
    },
    {
      "cell_type": "code",
      "source": [
        "df.isna().sum()"
      ],
      "metadata": {
        "colab": {
          "base_uri": "https://localhost:8080/"
        },
        "id": "utBTWgPf1o8e",
        "outputId": "e0d0ebdd-47dd-4103-9e8a-488df5dd31ea"
      },
      "execution_count": null,
      "outputs": [
        {
          "output_type": "execute_result",
          "data": {
            "text/plain": [
              "Serial No.           0\n",
              "GRE Score            0\n",
              "TOEFL Score          0\n",
              "University Rating    0\n",
              "SOP                  0\n",
              "LOR                  0\n",
              "CGPA                 0\n",
              "Research             0\n",
              "Chance of Admit      0\n",
              "dtype: int64"
            ]
          },
          "metadata": {},
          "execution_count": 4
        }
      ]
    },
    {
      "cell_type": "code",
      "source": [
        "df.info()"
      ],
      "metadata": {
        "colab": {
          "base_uri": "https://localhost:8080/"
        },
        "id": "nRMnZSpJ1qHK",
        "outputId": "04449311-444b-44bc-853e-5c7dd60f7a3a"
      },
      "execution_count": null,
      "outputs": [
        {
          "output_type": "stream",
          "name": "stdout",
          "text": [
            "<class 'pandas.core.frame.DataFrame'>\n",
            "RangeIndex: 400 entries, 0 to 399\n",
            "Data columns (total 9 columns):\n",
            " #   Column             Non-Null Count  Dtype  \n",
            "---  ------             --------------  -----  \n",
            " 0   Serial No.         400 non-null    int64  \n",
            " 1   GRE Score          400 non-null    int64  \n",
            " 2   TOEFL Score        400 non-null    int64  \n",
            " 3   University Rating  400 non-null    int64  \n",
            " 4   SOP                400 non-null    float64\n",
            " 5   LOR                400 non-null    float64\n",
            " 6   CGPA               400 non-null    float64\n",
            " 7   Research           400 non-null    int64  \n",
            " 8   Chance of Admit    400 non-null    float64\n",
            "dtypes: float64(4), int64(5)\n",
            "memory usage: 28.2 KB\n"
          ]
        }
      ]
    },
    {
      "cell_type": "code",
      "source": [
        "df.duplicated().sum()"
      ],
      "metadata": {
        "colab": {
          "base_uri": "https://localhost:8080/"
        },
        "id": "s83JhaQr1sT0",
        "outputId": "ec33c97d-7e33-4051-b6e0-595986c286ae"
      },
      "execution_count": null,
      "outputs": [
        {
          "output_type": "execute_result",
          "data": {
            "text/plain": [
              "0"
            ]
          },
          "metadata": {},
          "execution_count": 6
        }
      ]
    },
    {
      "cell_type": "code",
      "source": [
        "df.drop(\"Serial No.\",axis=1,inplace=True)"
      ],
      "metadata": {
        "id": "paJZG4Vq13l9"
      },
      "execution_count": null,
      "outputs": []
    },
    {
      "cell_type": "code",
      "source": [
        "X = df.iloc[:,0:-1]\n",
        "y = df.iloc[:,-1]"
      ],
      "metadata": {
        "id": "EO_Alr1q2VH-"
      },
      "execution_count": null,
      "outputs": []
    },
    {
      "cell_type": "code",
      "source": [
        "X.head()"
      ],
      "metadata": {
        "colab": {
          "base_uri": "https://localhost:8080/",
          "height": 206
        },
        "id": "JLEntBEP3Eip",
        "outputId": "cbe9a848-2503-44d1-fd42-4910da165058"
      },
      "execution_count": null,
      "outputs": [
        {
          "output_type": "execute_result",
          "data": {
            "text/plain": [
              "   GRE Score  TOEFL Score  University Rating  SOP  LOR   CGPA  Research\n",
              "0        337          118                  4  4.5   4.5  9.65         1\n",
              "1        324          107                  4  4.0   4.5  8.87         1\n",
              "2        316          104                  3  3.0   3.5  8.00         1\n",
              "3        322          110                  3  3.5   2.5  8.67         1\n",
              "4        314          103                  2  2.0   3.0  8.21         0"
            ],
            "text/html": [
              "\n",
              "  <div id=\"df-e481ea92-a119-48e5-aaa1-92ce12037e6f\">\n",
              "    <div class=\"colab-df-container\">\n",
              "      <div>\n",
              "<style scoped>\n",
              "    .dataframe tbody tr th:only-of-type {\n",
              "        vertical-align: middle;\n",
              "    }\n",
              "\n",
              "    .dataframe tbody tr th {\n",
              "        vertical-align: top;\n",
              "    }\n",
              "\n",
              "    .dataframe thead th {\n",
              "        text-align: right;\n",
              "    }\n",
              "</style>\n",
              "<table border=\"1\" class=\"dataframe\">\n",
              "  <thead>\n",
              "    <tr style=\"text-align: right;\">\n",
              "      <th></th>\n",
              "      <th>GRE Score</th>\n",
              "      <th>TOEFL Score</th>\n",
              "      <th>University Rating</th>\n",
              "      <th>SOP</th>\n",
              "      <th>LOR</th>\n",
              "      <th>CGPA</th>\n",
              "      <th>Research</th>\n",
              "    </tr>\n",
              "  </thead>\n",
              "  <tbody>\n",
              "    <tr>\n",
              "      <th>0</th>\n",
              "      <td>337</td>\n",
              "      <td>118</td>\n",
              "      <td>4</td>\n",
              "      <td>4.5</td>\n",
              "      <td>4.5</td>\n",
              "      <td>9.65</td>\n",
              "      <td>1</td>\n",
              "    </tr>\n",
              "    <tr>\n",
              "      <th>1</th>\n",
              "      <td>324</td>\n",
              "      <td>107</td>\n",
              "      <td>4</td>\n",
              "      <td>4.0</td>\n",
              "      <td>4.5</td>\n",
              "      <td>8.87</td>\n",
              "      <td>1</td>\n",
              "    </tr>\n",
              "    <tr>\n",
              "      <th>2</th>\n",
              "      <td>316</td>\n",
              "      <td>104</td>\n",
              "      <td>3</td>\n",
              "      <td>3.0</td>\n",
              "      <td>3.5</td>\n",
              "      <td>8.00</td>\n",
              "      <td>1</td>\n",
              "    </tr>\n",
              "    <tr>\n",
              "      <th>3</th>\n",
              "      <td>322</td>\n",
              "      <td>110</td>\n",
              "      <td>3</td>\n",
              "      <td>3.5</td>\n",
              "      <td>2.5</td>\n",
              "      <td>8.67</td>\n",
              "      <td>1</td>\n",
              "    </tr>\n",
              "    <tr>\n",
              "      <th>4</th>\n",
              "      <td>314</td>\n",
              "      <td>103</td>\n",
              "      <td>2</td>\n",
              "      <td>2.0</td>\n",
              "      <td>3.0</td>\n",
              "      <td>8.21</td>\n",
              "      <td>0</td>\n",
              "    </tr>\n",
              "  </tbody>\n",
              "</table>\n",
              "</div>\n",
              "      <button class=\"colab-df-convert\" onclick=\"convertToInteractive('df-e481ea92-a119-48e5-aaa1-92ce12037e6f')\"\n",
              "              title=\"Convert this dataframe to an interactive table.\"\n",
              "              style=\"display:none;\">\n",
              "        \n",
              "  <svg xmlns=\"http://www.w3.org/2000/svg\" height=\"24px\"viewBox=\"0 0 24 24\"\n",
              "       width=\"24px\">\n",
              "    <path d=\"M0 0h24v24H0V0z\" fill=\"none\"/>\n",
              "    <path d=\"M18.56 5.44l.94 2.06.94-2.06 2.06-.94-2.06-.94-.94-2.06-.94 2.06-2.06.94zm-11 1L8.5 8.5l.94-2.06 2.06-.94-2.06-.94L8.5 2.5l-.94 2.06-2.06.94zm10 10l.94 2.06.94-2.06 2.06-.94-2.06-.94-.94-2.06-.94 2.06-2.06.94z\"/><path d=\"M17.41 7.96l-1.37-1.37c-.4-.4-.92-.59-1.43-.59-.52 0-1.04.2-1.43.59L10.3 9.45l-7.72 7.72c-.78.78-.78 2.05 0 2.83L4 21.41c.39.39.9.59 1.41.59.51 0 1.02-.2 1.41-.59l7.78-7.78 2.81-2.81c.8-.78.8-2.07 0-2.86zM5.41 20L4 18.59l7.72-7.72 1.47 1.35L5.41 20z\"/>\n",
              "  </svg>\n",
              "      </button>\n",
              "      \n",
              "  <style>\n",
              "    .colab-df-container {\n",
              "      display:flex;\n",
              "      flex-wrap:wrap;\n",
              "      gap: 12px;\n",
              "    }\n",
              "\n",
              "    .colab-df-convert {\n",
              "      background-color: #E8F0FE;\n",
              "      border: none;\n",
              "      border-radius: 50%;\n",
              "      cursor: pointer;\n",
              "      display: none;\n",
              "      fill: #1967D2;\n",
              "      height: 32px;\n",
              "      padding: 0 0 0 0;\n",
              "      width: 32px;\n",
              "    }\n",
              "\n",
              "    .colab-df-convert:hover {\n",
              "      background-color: #E2EBFA;\n",
              "      box-shadow: 0px 1px 2px rgba(60, 64, 67, 0.3), 0px 1px 3px 1px rgba(60, 64, 67, 0.15);\n",
              "      fill: #174EA6;\n",
              "    }\n",
              "\n",
              "    [theme=dark] .colab-df-convert {\n",
              "      background-color: #3B4455;\n",
              "      fill: #D2E3FC;\n",
              "    }\n",
              "\n",
              "    [theme=dark] .colab-df-convert:hover {\n",
              "      background-color: #434B5C;\n",
              "      box-shadow: 0px 1px 3px 1px rgba(0, 0, 0, 0.15);\n",
              "      filter: drop-shadow(0px 1px 2px rgba(0, 0, 0, 0.3));\n",
              "      fill: #FFFFFF;\n",
              "    }\n",
              "  </style>\n",
              "\n",
              "      <script>\n",
              "        const buttonEl =\n",
              "          document.querySelector('#df-e481ea92-a119-48e5-aaa1-92ce12037e6f button.colab-df-convert');\n",
              "        buttonEl.style.display =\n",
              "          google.colab.kernel.accessAllowed ? 'block' : 'none';\n",
              "\n",
              "        async function convertToInteractive(key) {\n",
              "          const element = document.querySelector('#df-e481ea92-a119-48e5-aaa1-92ce12037e6f');\n",
              "          const dataTable =\n",
              "            await google.colab.kernel.invokeFunction('convertToInteractive',\n",
              "                                                     [key], {});\n",
              "          if (!dataTable) return;\n",
              "\n",
              "          const docLinkHtml = 'Like what you see? Visit the ' +\n",
              "            '<a target=\"_blank\" href=https://colab.research.google.com/notebooks/data_table.ipynb>data table notebook</a>'\n",
              "            + ' to learn more about interactive tables.';\n",
              "          element.innerHTML = '';\n",
              "          dataTable['output_type'] = 'display_data';\n",
              "          await google.colab.output.renderOutput(dataTable, element);\n",
              "          const docLink = document.createElement('div');\n",
              "          docLink.innerHTML = docLinkHtml;\n",
              "          element.appendChild(docLink);\n",
              "        }\n",
              "      </script>\n",
              "    </div>\n",
              "  </div>\n",
              "  "
            ]
          },
          "metadata": {},
          "execution_count": 13
        }
      ]
    },
    {
      "cell_type": "code",
      "source": [
        "y.head()"
      ],
      "metadata": {
        "colab": {
          "base_uri": "https://localhost:8080/"
        },
        "id": "PDPbRmhj3GBs",
        "outputId": "484e4091-e4f0-4d62-882c-9db0c1e809b2"
      },
      "execution_count": null,
      "outputs": [
        {
          "output_type": "execute_result",
          "data": {
            "text/plain": [
              "0    0.92\n",
              "1    0.76\n",
              "2    0.72\n",
              "3    0.80\n",
              "4    0.65\n",
              "Name: Chance of Admit , dtype: float64"
            ]
          },
          "metadata": {},
          "execution_count": 14
        }
      ]
    },
    {
      "cell_type": "markdown",
      "source": [
        "#### **Train, Test & Split**"
      ],
      "metadata": {
        "id": "EREovxS3xwTR"
      }
    },
    {
      "cell_type": "code",
      "source": [
        "X_train,X_test,y_train,y_test = train_test_split(X,y,test_size=0.2,random_state=1)"
      ],
      "metadata": {
        "id": "Sydtbe5n3IFi"
      },
      "execution_count": null,
      "outputs": []
    },
    {
      "cell_type": "markdown",
      "source": [
        "#### **Feature Scaling**"
      ],
      "metadata": {
        "id": "y_UnyNhex5cb"
      }
    },
    {
      "cell_type": "code",
      "source": [
        "sc = MinMaxScaler()\n",
        "X_train_scaled = sc.fit_transform(X_train)\n",
        "X_test_scaled = sc.transform(X_test)\n"
      ],
      "metadata": {
        "id": "8qCdB-GQ1w79"
      },
      "execution_count": null,
      "outputs": []
    },
    {
      "cell_type": "code",
      "source": [
        "X_train_scaled"
      ],
      "metadata": {
        "colab": {
          "base_uri": "https://localhost:8080/"
        },
        "id": "gsB5uriw3c30",
        "outputId": "f3b98919-9304-4b83-c124-42b6046db371"
      },
      "execution_count": null,
      "outputs": [
        {
          "output_type": "execute_result",
          "data": {
            "text/plain": [
              "array([[0.22      , 0.17857143, 0.25      , ..., 0.42857143, 0.25      ,\n",
              "        1.        ],\n",
              "       [0.88      , 0.96428571, 1.        , ..., 0.85714286, 0.91911765,\n",
              "        1.        ],\n",
              "       [0.3       , 0.71428571, 0.5       , ..., 0.57142857, 0.53308824,\n",
              "        0.        ],\n",
              "       ...,\n",
              "       [0.7       , 0.53571429, 0.5       , ..., 0.57142857, 0.70220588,\n",
              "        1.        ],\n",
              "       [0.72      , 0.67857143, 1.        , ..., 0.71428571, 0.74632353,\n",
              "        1.        ],\n",
              "       [0.2       , 0.46428571, 0.        , ..., 0.14285714, 0.22058824,\n",
              "        0.        ]])"
            ]
          },
          "metadata": {},
          "execution_count": 17
        }
      ]
    },
    {
      "cell_type": "markdown",
      "source": [
        "#### **Build Neural Network**"
      ],
      "metadata": {
        "id": "D-3_42Eqx84A"
      }
    },
    {
      "cell_type": "code",
      "source": [
        "model = Sequential()\n",
        "\n",
        "model.add(Dense(7,activation=\"relu\",input_dim=7))\n",
        "model.add(Dense(7,activation=\"relu\"))\n",
        "model.add(Dense(1,activation=\"linear\"))"
      ],
      "metadata": {
        "id": "KC4cX_v63e4I"
      },
      "execution_count": null,
      "outputs": []
    },
    {
      "cell_type": "code",
      "source": [
        "model.summary()"
      ],
      "metadata": {
        "colab": {
          "base_uri": "https://localhost:8080/"
        },
        "id": "5tEHdVX537Ae",
        "outputId": "cbf96b9f-a231-4609-f7c1-f8546181944c"
      },
      "execution_count": null,
      "outputs": [
        {
          "output_type": "stream",
          "name": "stdout",
          "text": [
            "Model: \"sequential_4\"\n",
            "_________________________________________________________________\n",
            " Layer (type)                Output Shape              Param #   \n",
            "=================================================================\n",
            " dense_11 (Dense)            (None, 7)                 56        \n",
            "                                                                 \n",
            " dense_12 (Dense)            (None, 7)                 56        \n",
            "                                                                 \n",
            " dense_13 (Dense)            (None, 1)                 8         \n",
            "                                                                 \n",
            "=================================================================\n",
            "Total params: 120\n",
            "Trainable params: 120\n",
            "Non-trainable params: 0\n",
            "_________________________________________________________________\n"
          ]
        }
      ]
    },
    {
      "cell_type": "markdown",
      "source": [
        "#### **Compile the Model**"
      ],
      "metadata": {
        "id": "EG4oPlKpyGek"
      }
    },
    {
      "cell_type": "code",
      "source": [
        "model.compile(loss=\"mean_squared_error\",optimizer=\"Adam\")"
      ],
      "metadata": {
        "id": "lDEqqdS33-Gl"
      },
      "execution_count": null,
      "outputs": []
    },
    {
      "cell_type": "markdown",
      "source": [
        "#### **Training the Model**"
      ],
      "metadata": {
        "id": "aq2yrcMCyKNl"
      }
    },
    {
      "cell_type": "code",
      "source": [
        "history = model.fit(X_train_scaled,y_train,epochs=100,validation_split=0.2)"
      ],
      "metadata": {
        "colab": {
          "base_uri": "https://localhost:8080/"
        },
        "id": "lECuXe4T4IIK",
        "outputId": "aa544525-58d9-4c0c-8c87-5474d54e949a"
      },
      "execution_count": null,
      "outputs": [
        {
          "output_type": "stream",
          "name": "stdout",
          "text": [
            "Epoch 1/100\n",
            "8/8 [==============================] - 0s 13ms/step - loss: 0.0792 - val_loss: 0.0590\n",
            "Epoch 2/100\n",
            "8/8 [==============================] - 0s 4ms/step - loss: 0.0520 - val_loss: 0.0393\n",
            "Epoch 3/100\n",
            "8/8 [==============================] - 0s 3ms/step - loss: 0.0378 - val_loss: 0.0310\n",
            "Epoch 4/100\n",
            "8/8 [==============================] - 0s 5ms/step - loss: 0.0319 - val_loss: 0.0291\n",
            "Epoch 5/100\n",
            "8/8 [==============================] - 0s 5ms/step - loss: 0.0292 - val_loss: 0.0272\n",
            "Epoch 6/100\n",
            "8/8 [==============================] - 0s 3ms/step - loss: 0.0265 - val_loss: 0.0248\n",
            "Epoch 7/100\n",
            "8/8 [==============================] - 0s 4ms/step - loss: 0.0240 - val_loss: 0.0229\n",
            "Epoch 8/100\n",
            "8/8 [==============================] - 0s 4ms/step - loss: 0.0219 - val_loss: 0.0213\n",
            "Epoch 9/100\n",
            "8/8 [==============================] - 0s 4ms/step - loss: 0.0200 - val_loss: 0.0198\n",
            "Epoch 10/100\n",
            "8/8 [==============================] - 0s 4ms/step - loss: 0.0182 - val_loss: 0.0183\n",
            "Epoch 11/100\n",
            "8/8 [==============================] - 0s 3ms/step - loss: 0.0164 - val_loss: 0.0165\n",
            "Epoch 12/100\n",
            "8/8 [==============================] - 0s 3ms/step - loss: 0.0148 - val_loss: 0.0146\n",
            "Epoch 13/100\n",
            "8/8 [==============================] - 0s 4ms/step - loss: 0.0129 - val_loss: 0.0129\n",
            "Epoch 14/100\n",
            "8/8 [==============================] - 0s 3ms/step - loss: 0.0115 - val_loss: 0.0112\n",
            "Epoch 15/100\n",
            "8/8 [==============================] - 0s 4ms/step - loss: 0.0100 - val_loss: 0.0094\n",
            "Epoch 16/100\n",
            "8/8 [==============================] - 0s 4ms/step - loss: 0.0089 - val_loss: 0.0079\n",
            "Epoch 17/100\n",
            "8/8 [==============================] - 0s 4ms/step - loss: 0.0080 - val_loss: 0.0072\n",
            "Epoch 18/100\n",
            "8/8 [==============================] - 0s 3ms/step - loss: 0.0075 - val_loss: 0.0068\n",
            "Epoch 19/100\n",
            "8/8 [==============================] - 0s 3ms/step - loss: 0.0072 - val_loss: 0.0065\n",
            "Epoch 20/100\n",
            "8/8 [==============================] - 0s 3ms/step - loss: 0.0069 - val_loss: 0.0062\n",
            "Epoch 21/100\n",
            "8/8 [==============================] - 0s 4ms/step - loss: 0.0068 - val_loss: 0.0060\n",
            "Epoch 22/100\n",
            "8/8 [==============================] - 0s 3ms/step - loss: 0.0066 - val_loss: 0.0059\n",
            "Epoch 23/100\n",
            "8/8 [==============================] - 0s 3ms/step - loss: 0.0065 - val_loss: 0.0058\n",
            "Epoch 24/100\n",
            "8/8 [==============================] - 0s 4ms/step - loss: 0.0063 - val_loss: 0.0056\n",
            "Epoch 25/100\n",
            "8/8 [==============================] - 0s 4ms/step - loss: 0.0062 - val_loss: 0.0056\n",
            "Epoch 26/100\n",
            "8/8 [==============================] - 0s 4ms/step - loss: 0.0061 - val_loss: 0.0055\n",
            "Epoch 27/100\n",
            "8/8 [==============================] - 0s 4ms/step - loss: 0.0060 - val_loss: 0.0054\n",
            "Epoch 28/100\n",
            "8/8 [==============================] - 0s 4ms/step - loss: 0.0059 - val_loss: 0.0053\n",
            "Epoch 29/100\n",
            "8/8 [==============================] - 0s 3ms/step - loss: 0.0058 - val_loss: 0.0053\n",
            "Epoch 30/100\n",
            "8/8 [==============================] - 0s 4ms/step - loss: 0.0058 - val_loss: 0.0052\n",
            "Epoch 31/100\n",
            "8/8 [==============================] - 0s 3ms/step - loss: 0.0057 - val_loss: 0.0052\n",
            "Epoch 32/100\n",
            "8/8 [==============================] - 0s 4ms/step - loss: 0.0057 - val_loss: 0.0052\n",
            "Epoch 33/100\n",
            "8/8 [==============================] - 0s 4ms/step - loss: 0.0056 - val_loss: 0.0051\n",
            "Epoch 34/100\n",
            "8/8 [==============================] - 0s 4ms/step - loss: 0.0055 - val_loss: 0.0050\n",
            "Epoch 35/100\n",
            "8/8 [==============================] - 0s 4ms/step - loss: 0.0055 - val_loss: 0.0050\n",
            "Epoch 36/100\n",
            "8/8 [==============================] - 0s 4ms/step - loss: 0.0054 - val_loss: 0.0049\n",
            "Epoch 37/100\n",
            "8/8 [==============================] - 0s 4ms/step - loss: 0.0054 - val_loss: 0.0049\n",
            "Epoch 38/100\n",
            "8/8 [==============================] - 0s 4ms/step - loss: 0.0053 - val_loss: 0.0048\n",
            "Epoch 39/100\n",
            "8/8 [==============================] - 0s 4ms/step - loss: 0.0053 - val_loss: 0.0048\n",
            "Epoch 40/100\n",
            "8/8 [==============================] - 0s 4ms/step - loss: 0.0052 - val_loss: 0.0047\n",
            "Epoch 41/100\n",
            "8/8 [==============================] - 0s 4ms/step - loss: 0.0052 - val_loss: 0.0047\n",
            "Epoch 42/100\n",
            "8/8 [==============================] - 0s 4ms/step - loss: 0.0052 - val_loss: 0.0046\n",
            "Epoch 43/100\n",
            "8/8 [==============================] - 0s 5ms/step - loss: 0.0051 - val_loss: 0.0047\n",
            "Epoch 44/100\n",
            "8/8 [==============================] - 0s 4ms/step - loss: 0.0051 - val_loss: 0.0047\n",
            "Epoch 45/100\n",
            "8/8 [==============================] - 0s 3ms/step - loss: 0.0050 - val_loss: 0.0047\n",
            "Epoch 46/100\n",
            "8/8 [==============================] - 0s 4ms/step - loss: 0.0050 - val_loss: 0.0046\n",
            "Epoch 47/100\n",
            "8/8 [==============================] - 0s 4ms/step - loss: 0.0049 - val_loss: 0.0046\n",
            "Epoch 48/100\n",
            "8/8 [==============================] - 0s 4ms/step - loss: 0.0049 - val_loss: 0.0046\n",
            "Epoch 49/100\n",
            "8/8 [==============================] - 0s 4ms/step - loss: 0.0049 - val_loss: 0.0046\n",
            "Epoch 50/100\n",
            "8/8 [==============================] - 0s 3ms/step - loss: 0.0048 - val_loss: 0.0046\n",
            "Epoch 51/100\n",
            "8/8 [==============================] - 0s 4ms/step - loss: 0.0048 - val_loss: 0.0046\n",
            "Epoch 52/100\n",
            "8/8 [==============================] - 0s 4ms/step - loss: 0.0048 - val_loss: 0.0045\n",
            "Epoch 53/100\n",
            "8/8 [==============================] - 0s 4ms/step - loss: 0.0048 - val_loss: 0.0045\n",
            "Epoch 54/100\n",
            "8/8 [==============================] - 0s 4ms/step - loss: 0.0047 - val_loss: 0.0045\n",
            "Epoch 55/100\n",
            "8/8 [==============================] - 0s 4ms/step - loss: 0.0047 - val_loss: 0.0045\n",
            "Epoch 56/100\n",
            "8/8 [==============================] - 0s 4ms/step - loss: 0.0047 - val_loss: 0.0045\n",
            "Epoch 57/100\n",
            "8/8 [==============================] - 0s 3ms/step - loss: 0.0047 - val_loss: 0.0044\n",
            "Epoch 58/100\n",
            "8/8 [==============================] - 0s 4ms/step - loss: 0.0047 - val_loss: 0.0045\n",
            "Epoch 59/100\n",
            "8/8 [==============================] - 0s 4ms/step - loss: 0.0046 - val_loss: 0.0044\n",
            "Epoch 60/100\n",
            "8/8 [==============================] - 0s 4ms/step - loss: 0.0046 - val_loss: 0.0044\n",
            "Epoch 61/100\n",
            "8/8 [==============================] - 0s 4ms/step - loss: 0.0046 - val_loss: 0.0043\n",
            "Epoch 62/100\n",
            "8/8 [==============================] - 0s 4ms/step - loss: 0.0046 - val_loss: 0.0044\n",
            "Epoch 63/100\n",
            "8/8 [==============================] - 0s 4ms/step - loss: 0.0046 - val_loss: 0.0044\n",
            "Epoch 64/100\n",
            "8/8 [==============================] - 0s 4ms/step - loss: 0.0046 - val_loss: 0.0042\n",
            "Epoch 65/100\n",
            "8/8 [==============================] - 0s 4ms/step - loss: 0.0045 - val_loss: 0.0044\n",
            "Epoch 66/100\n",
            "8/8 [==============================] - 0s 4ms/step - loss: 0.0045 - val_loss: 0.0043\n",
            "Epoch 67/100\n",
            "8/8 [==============================] - 0s 4ms/step - loss: 0.0045 - val_loss: 0.0042\n",
            "Epoch 68/100\n",
            "8/8 [==============================] - 0s 4ms/step - loss: 0.0045 - val_loss: 0.0043\n",
            "Epoch 69/100\n",
            "8/8 [==============================] - 0s 4ms/step - loss: 0.0045 - val_loss: 0.0043\n",
            "Epoch 70/100\n",
            "8/8 [==============================] - 0s 4ms/step - loss: 0.0045 - val_loss: 0.0042\n",
            "Epoch 71/100\n",
            "8/8 [==============================] - 0s 4ms/step - loss: 0.0045 - val_loss: 0.0043\n",
            "Epoch 72/100\n",
            "8/8 [==============================] - 0s 4ms/step - loss: 0.0045 - val_loss: 0.0043\n",
            "Epoch 73/100\n",
            "8/8 [==============================] - 0s 4ms/step - loss: 0.0044 - val_loss: 0.0042\n",
            "Epoch 74/100\n",
            "8/8 [==============================] - 0s 4ms/step - loss: 0.0044 - val_loss: 0.0043\n",
            "Epoch 75/100\n",
            "8/8 [==============================] - 0s 4ms/step - loss: 0.0044 - val_loss: 0.0042\n",
            "Epoch 76/100\n",
            "8/8 [==============================] - 0s 4ms/step - loss: 0.0044 - val_loss: 0.0043\n",
            "Epoch 77/100\n",
            "8/8 [==============================] - 0s 3ms/step - loss: 0.0044 - val_loss: 0.0042\n",
            "Epoch 78/100\n",
            "8/8 [==============================] - 0s 4ms/step - loss: 0.0044 - val_loss: 0.0041\n",
            "Epoch 79/100\n",
            "8/8 [==============================] - 0s 4ms/step - loss: 0.0044 - val_loss: 0.0043\n",
            "Epoch 80/100\n",
            "8/8 [==============================] - 0s 4ms/step - loss: 0.0044 - val_loss: 0.0041\n",
            "Epoch 81/100\n",
            "8/8 [==============================] - 0s 4ms/step - loss: 0.0044 - val_loss: 0.0042\n",
            "Epoch 82/100\n",
            "8/8 [==============================] - 0s 4ms/step - loss: 0.0044 - val_loss: 0.0042\n",
            "Epoch 83/100\n",
            "8/8 [==============================] - 0s 4ms/step - loss: 0.0044 - val_loss: 0.0041\n",
            "Epoch 84/100\n",
            "8/8 [==============================] - 0s 4ms/step - loss: 0.0044 - val_loss: 0.0042\n",
            "Epoch 85/100\n",
            "8/8 [==============================] - 0s 4ms/step - loss: 0.0044 - val_loss: 0.0041\n",
            "Epoch 86/100\n",
            "8/8 [==============================] - 0s 5ms/step - loss: 0.0043 - val_loss: 0.0042\n",
            "Epoch 87/100\n",
            "8/8 [==============================] - 0s 4ms/step - loss: 0.0043 - val_loss: 0.0041\n",
            "Epoch 88/100\n",
            "8/8 [==============================] - 0s 3ms/step - loss: 0.0043 - val_loss: 0.0041\n",
            "Epoch 89/100\n",
            "8/8 [==============================] - 0s 4ms/step - loss: 0.0043 - val_loss: 0.0041\n",
            "Epoch 90/100\n",
            "8/8 [==============================] - 0s 6ms/step - loss: 0.0043 - val_loss: 0.0041\n",
            "Epoch 91/100\n",
            "8/8 [==============================] - 0s 4ms/step - loss: 0.0043 - val_loss: 0.0041\n",
            "Epoch 92/100\n",
            "8/8 [==============================] - 0s 4ms/step - loss: 0.0043 - val_loss: 0.0041\n",
            "Epoch 93/100\n",
            "8/8 [==============================] - 0s 4ms/step - loss: 0.0043 - val_loss: 0.0041\n",
            "Epoch 94/100\n",
            "8/8 [==============================] - 0s 4ms/step - loss: 0.0043 - val_loss: 0.0041\n",
            "Epoch 95/100\n",
            "8/8 [==============================] - 0s 4ms/step - loss: 0.0044 - val_loss: 0.0042\n",
            "Epoch 96/100\n",
            "8/8 [==============================] - 0s 4ms/step - loss: 0.0043 - val_loss: 0.0040\n",
            "Epoch 97/100\n",
            "8/8 [==============================] - 0s 4ms/step - loss: 0.0043 - val_loss: 0.0042\n",
            "Epoch 98/100\n",
            "8/8 [==============================] - 0s 7ms/step - loss: 0.0043 - val_loss: 0.0041\n",
            "Epoch 99/100\n",
            "8/8 [==============================] - 0s 4ms/step - loss: 0.0042 - val_loss: 0.0041\n",
            "Epoch 100/100\n",
            "8/8 [==============================] - 0s 4ms/step - loss: 0.0042 - val_loss: 0.0041\n"
          ]
        }
      ]
    },
    {
      "cell_type": "markdown",
      "source": [
        "#### **Prediction**"
      ],
      "metadata": {
        "id": "d86h9sARyOWW"
      }
    },
    {
      "cell_type": "code",
      "source": [
        "y_pred = model.predict(X_test_scaled)\n",
        "y_pred"
      ],
      "metadata": {
        "colab": {
          "base_uri": "https://localhost:8080/"
        },
        "id": "xvBC3dEh4Q4d",
        "outputId": "1a33354a-a55e-43b7-df4f-ea7a0b54c4a8"
      },
      "execution_count": null,
      "outputs": [
        {
          "output_type": "execute_result",
          "data": {
            "text/plain": [
              "array([[0.6903974 ],\n",
              "       [0.6787006 ],\n",
              "       [0.8144549 ],\n",
              "       [0.8012217 ],\n",
              "       [0.85085297],\n",
              "       [0.67044306],\n",
              "       [0.6341121 ],\n",
              "       [0.5722499 ],\n",
              "       [0.5251933 ],\n",
              "       [0.89819646],\n",
              "       [0.8214267 ],\n",
              "       [0.9389081 ],\n",
              "       [0.9060362 ],\n",
              "       [0.64403564],\n",
              "       [0.7108322 ],\n",
              "       [0.6922792 ],\n",
              "       [0.7902054 ],\n",
              "       [0.89906466],\n",
              "       [0.47100252],\n",
              "       [0.7166209 ],\n",
              "       [0.6811968 ],\n",
              "       [0.7977631 ],\n",
              "       [0.8296512 ],\n",
              "       [0.91655475],\n",
              "       [0.67994946],\n",
              "       [0.51433575],\n",
              "       [0.7299154 ],\n",
              "       [0.70229787],\n",
              "       [0.90088433],\n",
              "       [0.6683252 ],\n",
              "       [0.9573079 ],\n",
              "       [0.6395589 ],\n",
              "       [0.7413332 ],\n",
              "       [0.7717161 ],\n",
              "       [0.73336107],\n",
              "       [0.66904014],\n",
              "       [0.44645917],\n",
              "       [0.6479439 ],\n",
              "       [0.9075277 ],\n",
              "       [0.70323277],\n",
              "       [0.83924615],\n",
              "       [0.6920068 ],\n",
              "       [0.9158024 ],\n",
              "       [0.63675344],\n",
              "       [0.9685657 ],\n",
              "       [0.6223196 ],\n",
              "       [0.7358557 ],\n",
              "       [0.83523375],\n",
              "       [0.6662407 ],\n",
              "       [0.6521887 ],\n",
              "       [0.7820682 ],\n",
              "       [0.55661064],\n",
              "       [0.8109952 ],\n",
              "       [0.7278389 ],\n",
              "       [0.70711535],\n",
              "       [0.93063056],\n",
              "       [0.45125562],\n",
              "       [0.54662573],\n",
              "       [0.7703126 ],\n",
              "       [0.79080975],\n",
              "       [0.9152416 ],\n",
              "       [0.6995834 ],\n",
              "       [0.8944198 ],\n",
              "       [0.69779676],\n",
              "       [0.55032146],\n",
              "       [0.795086  ],\n",
              "       [0.84934527],\n",
              "       [0.7240646 ],\n",
              "       [0.6394404 ],\n",
              "       [0.793976  ],\n",
              "       [0.80576456],\n",
              "       [0.59668094],\n",
              "       [0.7082286 ],\n",
              "       [0.66436225],\n",
              "       [0.8343259 ],\n",
              "       [0.4198057 ],\n",
              "       [0.6424718 ],\n",
              "       [0.6127673 ],\n",
              "       [0.70456684],\n",
              "       [0.6041152 ]], dtype=float32)"
            ]
          },
          "metadata": {},
          "execution_count": 61
        }
      ]
    },
    {
      "cell_type": "code",
      "source": [
        "from sklearn.metrics import r2_score"
      ],
      "metadata": {
        "id": "2xh-qEvE4bxw"
      },
      "execution_count": null,
      "outputs": []
    },
    {
      "cell_type": "code",
      "source": [
        "r2_score(y_test,y_pred)"
      ],
      "metadata": {
        "colab": {
          "base_uri": "https://localhost:8080/"
        },
        "id": "Ukd05K604eUH",
        "outputId": "e28fd388-92ac-4e26-b3e8-47eeaa7225d9"
      },
      "execution_count": null,
      "outputs": [
        {
          "output_type": "execute_result",
          "data": {
            "text/plain": [
              "0.7992403338160196"
            ]
          },
          "metadata": {},
          "execution_count": 63
        }
      ]
    },
    {
      "cell_type": "code",
      "source": [
        "plt.plot(history.history[\"loss\"])\n",
        "plt.plot(history.history[\"val_loss\"])"
      ],
      "metadata": {
        "colab": {
          "base_uri": "https://localhost:8080/",
          "height": 282
        },
        "id": "PmoRF3u64hNL",
        "outputId": "8a1ef23e-8824-48b9-8e63-9afbc082dcbb"
      },
      "execution_count": null,
      "outputs": [
        {
          "output_type": "execute_result",
          "data": {
            "text/plain": [
              "[<matplotlib.lines.Line2D at 0x7f7bb5aadcd0>]"
            ]
          },
          "metadata": {},
          "execution_count": 65
        },
        {
          "output_type": "display_data",
          "data": {
            "text/plain": [
              "<Figure size 432x288 with 1 Axes>"
            ],
            "image/png": "[encoded data removed]"
          },
          "metadata": {
            "needs_background": "light"
          }
        }
      ]
    }
  ]
}