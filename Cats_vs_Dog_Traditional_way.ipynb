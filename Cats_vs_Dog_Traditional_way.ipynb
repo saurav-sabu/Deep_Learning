{
  "nbformat": 4,
  "nbformat_minor": 0,
  "metadata": {
    "colab": {
      "provenance": [],
      "collapsed_sections": []
    },
    "kernelspec": {
      "name": "python3",
      "display_name": "Python 3"
    },
    "language_info": {
      "name": "python"
    },
    "accelerator": "GPU",
    "gpuClass": "standard"
  },
  "cells": [
    {
      "cell_type": "code",
      "execution_count": null,
      "metadata": {
        "id": "EsRtcsyn116h"
      },
      "outputs": [],
      "source": [
        "!mkdir -p ~/.kaggle\n",
        "!cp kaggle.json ~/.kaggle/"
      ]
    },
    {
      "cell_type": "code",
      "source": [
        "!kaggle datasets download -d arpitjain007/dog-vs-cat-fastai"
      ],
      "metadata": {
        "colab": {
          "base_uri": "https://localhost:8080/"
        },
        "id": "mblnCYl_4S6A",
        "outputId": "17413fcc-2fd3-47b3-9a88-dcf58858c366"
      },
      "execution_count": null,
      "outputs": [
        {
          "output_type": "stream",
          "name": "stdout",
          "text": [
            "Warning: Your Kaggle API key is readable by other users on this system! To fix this, you can run 'chmod 600 /root/.kaggle/kaggle.json'\n",
            "dog-vs-cat-fastai.zip: Skipping, found more recently modified local copy (use --force to force download)\n"
          ]
        }
      ]
    },
    {
      "cell_type": "code",
      "source": [
        "import zipfile\n",
        "zip_ref = zipfile.ZipFile('/content/dog-vs-cat-fastai.zip', 'r')\n",
        "zip_ref.extractall('/content')\n",
        "zip_ref.close()"
      ],
      "metadata": {
        "id": "dnte0HiY4UnY"
      },
      "execution_count": null,
      "outputs": []
    },
    {
      "cell_type": "code",
      "source": [
        "import cv2\n",
        "import os\n",
        "import random\n",
        "import numpy as np\n",
        "import matplotlib.pyplot as plt\n",
        "\n",
        "from tensorflow import keras\n",
        "from keras.models import Sequential\n",
        "from keras.layers import Dense,Conv2D,MaxPooling2D,Flatten"
      ],
      "metadata": {
        "id": "pyMVaRcj4bPh"
      },
      "execution_count": null,
      "outputs": []
    },
    {
      "cell_type": "code",
      "source": [
        "dir = \"/content/dogscats/train\"\n",
        "categories = ['cats',\"dogs\"]"
      ],
      "metadata": {
        "id": "fFhMbXk4987q"
      },
      "execution_count": null,
      "outputs": []
    },
    {
      "cell_type": "code",
      "source": [
        "for i in categories:\n",
        "  folder = os.path.join(dir,i)\n",
        "  print(folder)"
      ],
      "metadata": {
        "colab": {
          "base_uri": "https://localhost:8080/"
        },
        "id": "ru9KK1Er-HW0",
        "outputId": "6cec2238-54b4-4e75-cd5d-c9c2f68db5b9"
      },
      "execution_count": null,
      "outputs": [
        {
          "output_type": "stream",
          "name": "stdout",
          "text": [
            "/content/dogscats/train/cats\n",
            "/content/dogscats/train/dogs\n"
          ]
        }
      ]
    },
    {
      "cell_type": "code",
      "source": [
        "# for i in categories:\n",
        "#   folder = os.path.join(dir,i)\n",
        "#   for img in os.listdir(folder):\n",
        "#     img_path = os.path.join(folder,img)\n",
        "#     print(img_path)\n",
        "#     break"
      ],
      "metadata": {
        "id": "ayRbkW-c-nY1"
      },
      "execution_count": null,
      "outputs": []
    },
    {
      "cell_type": "code",
      "source": [
        "# for i in categories:\n",
        "#   folder = os.path.join(dir,i)\n",
        "#   for img in os.listdir(folder):\n",
        "#     img_path = os.path.join(folder,img)\n",
        "#     img_arr = cv2.imread(img_path)\n",
        "#     plt.imshow(img_arr)\n",
        "#     break"
      ],
      "metadata": {
        "id": "3PLZTJM5_zG9"
      },
      "execution_count": null,
      "outputs": []
    },
    {
      "cell_type": "code",
      "source": [
        "# for i in categories:\n",
        "#   folder = os.path.join(dir,i)\n",
        "#   for img in os.listdir(folder):\n",
        "#     img_path = os.path.join(folder,img)\n",
        "#     img_arr = cv2.imread(img_path)\n",
        "#     img_arr =cv2.resize(img_arr,(100,100))\n",
        "#     plt.imshow(img_arr)\n",
        "#     break"
      ],
      "metadata": {
        "id": "7HWoHlB7-9Kh"
      },
      "execution_count": null,
      "outputs": []
    },
    {
      "cell_type": "code",
      "source": [
        "data = []\n",
        "for i in categories:\n",
        "  folder = os.path.join(dir,i)\n",
        "  label = categories.index(i)\n",
        "  for img in os.listdir(folder):\n",
        "    img_path = os.path.join(folder,img)\n",
        "    img_arr = cv2.imread(img_path)\n",
        "    img_arr =cv2.resize(img_arr,(100,100))\n",
        "    data.append([img_arr,label])"
      ],
      "metadata": {
        "id": "uQTLm_oI_G3C"
      },
      "execution_count": null,
      "outputs": []
    },
    {
      "cell_type": "code",
      "source": [
        "len(data)"
      ],
      "metadata": {
        "colab": {
          "base_uri": "https://localhost:8080/"
        },
        "id": "ot50atFBAgWo",
        "outputId": "9f98eeb1-19b5-43a0-fbb3-ef61f84910ed"
      },
      "execution_count": null,
      "outputs": [
        {
          "output_type": "execute_result",
          "data": {
            "text/plain": [
              "23000"
            ]
          },
          "metadata": {},
          "execution_count": 8
        }
      ]
    },
    {
      "cell_type": "code",
      "source": [
        "random.shuffle(data)"
      ],
      "metadata": {
        "id": "oBembwYtA1G0"
      },
      "execution_count": null,
      "outputs": []
    },
    {
      "cell_type": "code",
      "source": [
        "data[0]"
      ],
      "metadata": {
        "colab": {
          "base_uri": "https://localhost:8080/"
        },
        "id": "_J_rAZ6DA496",
        "outputId": "2e39ba3d-7752-4e21-a31c-1e9254374ae7"
      },
      "execution_count": null,
      "outputs": [
        {
          "output_type": "execute_result",
          "data": {
            "text/plain": [
              "[array([[[ 44,  52,  42],\n",
              "         [  3,   9,   2],\n",
              "         [  5,  12,   4],\n",
              "         ...,\n",
              "         [ 28,  40,  44],\n",
              "         [ 59,  71,  75],\n",
              "         [ 32,  44,  48]],\n",
              " \n",
              "        [[ 40,  49,  39],\n",
              "         [ 11,  19,   9],\n",
              "         [ 14,  21,  11],\n",
              "         ...,\n",
              "         [ 34,  46,  50],\n",
              "         [ 73,  85,  89],\n",
              "         [ 42,  54,  58]],\n",
              " \n",
              "        [[ 46,  54,  44],\n",
              "         [ 34,  43,  33],\n",
              "         [ 58,  65,  56],\n",
              "         ...,\n",
              "         [  6,  16,  20],\n",
              "         [  4,  15,  20],\n",
              "         [  6,  19,  22]],\n",
              " \n",
              "        ...,\n",
              " \n",
              "        [[ 84,  78,  79],\n",
              "         [ 78,  75,  77],\n",
              "         [ 85,  84,  88],\n",
              "         ...,\n",
              "         [211, 210, 206],\n",
              "         [219, 217, 217],\n",
              "         [196, 194, 193]],\n",
              " \n",
              "        [[ 85,  73,  85],\n",
              "         [ 85,  70,  89],\n",
              "         [107,  91, 117],\n",
              "         ...,\n",
              "         [146, 140, 141],\n",
              "         [140, 129, 143],\n",
              "         [123, 113, 127]],\n",
              " \n",
              "        [[113,  91, 130],\n",
              "         [109,  86, 131],\n",
              "         [122,  96, 148],\n",
              "         ...,\n",
              "         [111, 102, 111],\n",
              "         [126, 114, 134],\n",
              "         [124, 112, 132]]], dtype=uint8), 0]"
            ]
          },
          "metadata": {},
          "execution_count": 10
        }
      ]
    },
    {
      "cell_type": "code",
      "source": [
        "X = []\n",
        "y = []"
      ],
      "metadata": {
        "id": "TfgZ9UiIA6Wi"
      },
      "execution_count": null,
      "outputs": []
    },
    {
      "cell_type": "code",
      "source": [
        "for features,label in data:\n",
        "  X.append(features)\n",
        "  y.append(label)"
      ],
      "metadata": {
        "id": "1ejjhkjUA9eL"
      },
      "execution_count": null,
      "outputs": []
    },
    {
      "cell_type": "code",
      "source": [
        "X = np.array(X)\n",
        "y = np.array(y)"
      ],
      "metadata": {
        "id": "PMli98n1BM3Z"
      },
      "execution_count": null,
      "outputs": []
    },
    {
      "cell_type": "code",
      "source": [
        "len(X),len(y)"
      ],
      "metadata": {
        "colab": {
          "base_uri": "https://localhost:8080/"
        },
        "id": "OFt2p8gMBSRx",
        "outputId": "f62f2dde-c729-4d7a-f53d-d5e424e5a14f"
      },
      "execution_count": null,
      "outputs": [
        {
          "output_type": "execute_result",
          "data": {
            "text/plain": [
              "(23000, 23000)"
            ]
          },
          "metadata": {},
          "execution_count": 14
        }
      ]
    },
    {
      "cell_type": "code",
      "source": [
        "X[0:2]"
      ],
      "metadata": {
        "colab": {
          "base_uri": "https://localhost:8080/"
        },
        "id": "x7cHtAXnBXFT",
        "outputId": "b1aaff1c-df76-4668-8742-9fb8dc4a6f90"
      },
      "execution_count": null,
      "outputs": [
        {
          "output_type": "execute_result",
          "data": {
            "text/plain": [
              "array([[[[ 44,  52,  42],\n",
              "         [  3,   9,   2],\n",
              "         [  5,  12,   4],\n",
              "         ...,\n",
              "         [ 28,  40,  44],\n",
              "         [ 59,  71,  75],\n",
              "         [ 32,  44,  48]],\n",
              "\n",
              "        [[ 40,  49,  39],\n",
              "         [ 11,  19,   9],\n",
              "         [ 14,  21,  11],\n",
              "         ...,\n",
              "         [ 34,  46,  50],\n",
              "         [ 73,  85,  89],\n",
              "         [ 42,  54,  58]],\n",
              "\n",
              "        [[ 46,  54,  44],\n",
              "         [ 34,  43,  33],\n",
              "         [ 58,  65,  56],\n",
              "         ...,\n",
              "         [  6,  16,  20],\n",
              "         [  4,  15,  20],\n",
              "         [  6,  19,  22]],\n",
              "\n",
              "        ...,\n",
              "\n",
              "        [[ 84,  78,  79],\n",
              "         [ 78,  75,  77],\n",
              "         [ 85,  84,  88],\n",
              "         ...,\n",
              "         [211, 210, 206],\n",
              "         [219, 217, 217],\n",
              "         [196, 194, 193]],\n",
              "\n",
              "        [[ 85,  73,  85],\n",
              "         [ 85,  70,  89],\n",
              "         [107,  91, 117],\n",
              "         ...,\n",
              "         [146, 140, 141],\n",
              "         [140, 129, 143],\n",
              "         [123, 113, 127]],\n",
              "\n",
              "        [[113,  91, 130],\n",
              "         [109,  86, 131],\n",
              "         [122,  96, 148],\n",
              "         ...,\n",
              "         [111, 102, 111],\n",
              "         [126, 114, 134],\n",
              "         [124, 112, 132]]],\n",
              "\n",
              "\n",
              "       [[[  3,   1,   0],\n",
              "         [  0,   2,   0],\n",
              "         [  1,   3,   3],\n",
              "         ...,\n",
              "         [  5,   3,   5],\n",
              "         [  8,   6,  10],\n",
              "         [ 12,   1,   6]],\n",
              "\n",
              "        [[  4,   1,   0],\n",
              "         [ 12,  15,  13],\n",
              "         [ 25,  28,  30],\n",
              "         ...,\n",
              "         [ 81,  92, 102],\n",
              "         [ 82,  84,  94],\n",
              "         [  9,   0,   3]],\n",
              "\n",
              "        [[  6,   1,   1],\n",
              "         [ 20,  24,  23],\n",
              "         [ 38,  43,  45],\n",
              "         ...,\n",
              "         [ 95, 123, 143],\n",
              "         [106, 119, 134],\n",
              "         [  7,   0,   6]],\n",
              "\n",
              "        ...,\n",
              "\n",
              "        [[  1,   1,   0],\n",
              "         [ 20,  25,  28],\n",
              "         [ 46,  56,  63],\n",
              "         ...,\n",
              "         [ 40,  44,  63],\n",
              "         [ 39,  39,  52],\n",
              "         [  7,   3,   8]],\n",
              "\n",
              "        [[  1,   5,   4],\n",
              "         [ 15,  20,  19],\n",
              "         [ 28,  32,  32],\n",
              "         ...,\n",
              "         [ 30,  30,  38],\n",
              "         [ 21,  18,  20],\n",
              "         [  3,   0,   2]],\n",
              "\n",
              "        [[  4,   1,   2],\n",
              "         [  5,   3,   3],\n",
              "         [  6,   2,   3],\n",
              "         ...,\n",
              "         [  8,   4,   6],\n",
              "         [  2,   0,   1],\n",
              "         [  2,   0,   1]]]], dtype=uint8)"
            ]
          },
          "metadata": {},
          "execution_count": 15
        }
      ]
    },
    {
      "cell_type": "code",
      "source": [
        "y[0:2]"
      ],
      "metadata": {
        "colab": {
          "base_uri": "https://localhost:8080/"
        },
        "id": "hllXRRXmCWEv",
        "outputId": "f2dadf4b-3f9e-4721-8555-50fe3069d27b"
      },
      "execution_count": null,
      "outputs": [
        {
          "output_type": "execute_result",
          "data": {
            "text/plain": [
              "array([0, 1])"
            ]
          },
          "metadata": {},
          "execution_count": 16
        }
      ]
    },
    {
      "cell_type": "code",
      "source": [
        "from sklearn.model_selection import train_test_split"
      ],
      "metadata": {
        "id": "HyVW2k89Hnp_"
      },
      "execution_count": null,
      "outputs": []
    },
    {
      "cell_type": "code",
      "source": [
        "X_train,X_test,y_train,y_test = train_test_split(X,y,test_size=0.2,random_state=2)"
      ],
      "metadata": {
        "id": "Jt0Zv2ZaHxTg"
      },
      "execution_count": null,
      "outputs": []
    },
    {
      "cell_type": "code",
      "source": [
        "X_train = X_train/255\n",
        "X_test = X_test/255"
      ],
      "metadata": {
        "id": "r0e1BINQCiSk"
      },
      "execution_count": null,
      "outputs": []
    },
    {
      "cell_type": "code",
      "source": [
        "X_train.shape,X_test.shape"
      ],
      "metadata": {
        "colab": {
          "base_uri": "https://localhost:8080/"
        },
        "id": "WkiBwtQnCv6D",
        "outputId": "e71f0eb2-2f80-4dcd-b328-ed92009b44c7"
      },
      "execution_count": null,
      "outputs": [
        {
          "output_type": "execute_result",
          "data": {
            "text/plain": [
              "((18400, 100, 100, 3), (4600, 100, 100, 3))"
            ]
          },
          "metadata": {},
          "execution_count": 20
        }
      ]
    },
    {
      "cell_type": "code",
      "source": [
        "model = Sequential()\n",
        "\n",
        "model.add(Conv2D(8,kernel_size=(3,3),activation=\"relu\",input_shape=(100,100,3)))\n",
        "model.add(MaxPooling2D(pool_size=(2,2)))\n",
        "model.add(Flatten())\n",
        "model.add(Dense(32,activation=\"relu\"))\n",
        "model.add(Dense(1,activation=\"sigmoid\"))"
      ],
      "metadata": {
        "id": "VFLsqnAwD0GX"
      },
      "execution_count": null,
      "outputs": []
    },
    {
      "cell_type": "code",
      "source": [
        "model.compile(loss=\"binary_crossentropy\",optimizer=\"adam\",metrics=[\"accuracy\"])"
      ],
      "metadata": {
        "id": "wg_rBO9pFE2l"
      },
      "execution_count": null,
      "outputs": []
    },
    {
      "cell_type": "code",
      "source": [
        "model.fit(X_train,y_train,epochs=5,validation_split=0.2)"
      ],
      "metadata": {
        "colab": {
          "base_uri": "https://localhost:8080/"
        },
        "id": "WShYZZjbGEju",
        "outputId": "bd072c16-7026-44fb-dd74-4e183a49715e"
      },
      "execution_count": null,
      "outputs": [
        {
          "output_type": "stream",
          "name": "stdout",
          "text": [
            "Epoch 1/5\n",
            "460/460 [==============================] - 15s 11ms/step - loss: 0.6431 - accuracy: 0.6395 - val_loss: 0.5806 - val_accuracy: 0.6924\n",
            "Epoch 2/5\n",
            "460/460 [==============================] - 4s 8ms/step - loss: 0.5590 - accuracy: 0.7121 - val_loss: 0.5497 - val_accuracy: 0.7179\n",
            "Epoch 3/5\n",
            "460/460 [==============================] - 3s 7ms/step - loss: 0.5038 - accuracy: 0.7503 - val_loss: 0.5302 - val_accuracy: 0.7337\n",
            "Epoch 4/5\n",
            "460/460 [==============================] - 3s 7ms/step - loss: 0.4621 - accuracy: 0.7756 - val_loss: 0.5370 - val_accuracy: 0.7285\n",
            "Epoch 5/5\n",
            "460/460 [==============================] - 3s 7ms/step - loss: 0.4132 - accuracy: 0.8055 - val_loss: 0.5602 - val_accuracy: 0.7196\n"
          ]
        },
        {
          "output_type": "execute_result",
          "data": {
            "text/plain": [
              "<keras.callbacks.History at 0x7fc3e055cd50>"
            ]
          },
          "metadata": {},
          "execution_count": 23
        }
      ]
    },
    {
      "cell_type": "markdown",
      "source": [
        "#### Cat"
      ],
      "metadata": {
        "id": "M0HAcrZxK-Im"
      }
    },
    {
      "cell_type": "code",
      "source": [
        "input_img = cv2.imread(\"/content/cat.jpg\")"
      ],
      "metadata": {
        "id": "RYA8DSULGc6L"
      },
      "execution_count": null,
      "outputs": []
    },
    {
      "cell_type": "code",
      "source": [
        "input_img.shape"
      ],
      "metadata": {
        "colab": {
          "base_uri": "https://localhost:8080/"
        },
        "id": "iS8qqqqMKjkl",
        "outputId": "83e4fb18-6ae7-462f-c1d6-5ba31a0cf6b6"
      },
      "execution_count": null,
      "outputs": [
        {
          "output_type": "execute_result",
          "data": {
            "text/plain": [
              "(315, 474, 3)"
            ]
          },
          "metadata": {},
          "execution_count": 25
        }
      ]
    },
    {
      "cell_type": "code",
      "source": [
        "input1 = cv2.resize(input_img,(100,100))"
      ],
      "metadata": {
        "id": "m8rMVNmdKlX0"
      },
      "execution_count": null,
      "outputs": []
    },
    {
      "cell_type": "code",
      "source": [
        "input1 = input1.reshape(1,100,100,3)"
      ],
      "metadata": {
        "id": "OG1UbGe8KsKk"
      },
      "execution_count": null,
      "outputs": []
    },
    {
      "cell_type": "code",
      "source": [
        "model.predict(input1)"
      ],
      "metadata": {
        "colab": {
          "base_uri": "https://localhost:8080/"
        },
        "id": "JhJZIDW2K3HI",
        "outputId": "d868bbbb-9c55-4ec1-fd8c-f42ddee15252"
      },
      "execution_count": null,
      "outputs": [
        {
          "output_type": "stream",
          "name": "stdout",
          "text": [
            "1/1 [==============================] - 0s 223ms/step\n"
          ]
        },
        {
          "output_type": "execute_result",
          "data": {
            "text/plain": [
              "array([[0.]], dtype=float32)"
            ]
          },
          "metadata": {},
          "execution_count": 29
        }
      ]
    },
    {
      "cell_type": "markdown",
      "source": [
        "#### Dog"
      ],
      "metadata": {
        "id": "V13ra5uXLByT"
      }
    },
    {
      "cell_type": "code",
      "source": [
        "input_img = cv2.imread(\"/content/dog.jpg\")"
      ],
      "metadata": {
        "id": "xvJe5TxrK7lv"
      },
      "execution_count": null,
      "outputs": []
    },
    {
      "cell_type": "code",
      "source": [
        "input_img.shape"
      ],
      "metadata": {
        "colab": {
          "base_uri": "https://localhost:8080/"
        },
        "id": "a1g8uLG4LGaa",
        "outputId": "fa14084a-9b85-4e2e-801e-e3b18ef52661"
      },
      "execution_count": null,
      "outputs": [
        {
          "output_type": "execute_result",
          "data": {
            "text/plain": [
              "(1200, 1600, 3)"
            ]
          },
          "metadata": {},
          "execution_count": 31
        }
      ]
    },
    {
      "cell_type": "code",
      "source": [
        "input2 = cv2.resize(input_img,(100,100))"
      ],
      "metadata": {
        "id": "0D9Ty8oQLHJA"
      },
      "execution_count": null,
      "outputs": []
    },
    {
      "cell_type": "code",
      "source": [
        "input2 = input2.reshape(1,100,100,3)"
      ],
      "metadata": {
        "id": "sKZQ1SbKLIpQ"
      },
      "execution_count": null,
      "outputs": []
    },
    {
      "cell_type": "code",
      "source": [
        "model.predict(input2)"
      ],
      "metadata": {
        "colab": {
          "base_uri": "https://localhost:8080/"
        },
        "id": "k62SND-eLKun",
        "outputId": "5d0fc626-8213-4679-f0a6-785eb27fa3db"
      },
      "execution_count": null,
      "outputs": [
        {
          "output_type": "stream",
          "name": "stdout",
          "text": [
            "1/1 [==============================] - 0s 94ms/step\n"
          ]
        },
        {
          "output_type": "execute_result",
          "data": {
            "text/plain": [
              "array([[1.]], dtype=float32)"
            ]
          },
          "metadata": {},
          "execution_count": 34
        }
      ]
    },
    {
      "cell_type": "code",
      "source": [],
      "metadata": {
        "id": "kMD1N1lFLMPo"
      },
      "execution_count": null,
      "outputs": []
    }
  ]
}